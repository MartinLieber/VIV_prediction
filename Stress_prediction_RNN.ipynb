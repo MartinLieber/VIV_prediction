{
 "cells": [
  {
   "cell_type": "code",
   "execution_count": 2,
   "id": "5f5436ec",
   "metadata": {},
   "outputs": [],
   "source": [
    "import scipy.io\n",
    "import numpy as np\n",
    "import matplotlib.pyplot as plt\n",
    "import tensorflow as tf\n",
    "from tensorflow.keras import Sequential\n",
    "from tensorflow.keras.layers import Dense, LSTM, Embedding, TimeDistributed, Dropout, MaxPooling2D, Conv2D, Input, Flatten\n",
    "from sklearn.model_selection import train_test_split\n",
    "from sklearn.preprocessing import StandardScaler\n",
    "from tensorflow.keras.callbacks import EarlyStopping\n",
    "from sklearn.cluster import KMeans\n",
    "from scipy.stats import kurtosis, skew"
   ]
  },
  {
   "cell_type": "code",
   "execution_count": 85,
   "id": "3dd6141c",
   "metadata": {},
   "outputs": [],
   "source": [
    "def disp2vel(disp,dt):\n",
    "    vel = np.zeros(disp.shape)\n",
    "    vel[:,1:] = (disp[:,1:]-disp[:,0:-1])/dt\n",
    "    vel[:,0] = -2*vel[:,0]+vel[:,1]\n",
    "    return vel\n",
    "\n",
    "def vel2acc(vel,dt):\n",
    "    acc = np.zeros(vel.shape)\n",
    "    acc[:,1:] = (vel[:,1:]-vel[:,0:-1])/dt\n",
    "    acc[:,0] = -2*acc[:,0]+acc[:,1]\n",
    "    return acc\n",
    "\n",
    "def acc2vel(acc,dt):\n",
    "    vel = np.zeros(acc.shape)\n",
    "    for i in range(0,vel.shape[1]-1):\n",
    "        vel[:,i+1] = vel[:,i]+1/2*(acc[:,i+1]+acc[:,i])*dt\n",
    "    print(i)\n",
    "    return vel\n",
    "\n",
    "def vel2disp(vel,dt):\n",
    "    disp = np.zeros(vel.shape)\n",
    "    for i in range(1,disp.shape[1]-1):\n",
    "        disp[:,i+1] = disp[:,i]+1/2*(vel[:,i+1]+vel[:,i])*dt\n",
    "    return disp"
   ]
  },
  {
   "cell_type": "code",
   "execution_count": 4,
   "id": "5e270910",
   "metadata": {},
   "outputs": [],
   "source": [
    "mat = scipy.io.loadmat('test2010.mat')"
   ]
  },
  {
   "cell_type": "code",
   "execution_count": 5,
   "id": "d79c05e9",
   "metadata": {},
   "outputs": [],
   "source": [
    "chan_names = mat['chan_names']\n",
    "data = mat['data']\n"
   ]
  },
  {
   "cell_type": "code",
   "execution_count": 6,
   "id": "9f48f609",
   "metadata": {},
   "outputs": [],
   "source": [
    "D = 0.027\n"
   ]
  },
  {
   "cell_type": "code",
   "execution_count": 94,
   "id": "4bca0162",
   "metadata": {},
   "outputs": [
    {
     "name": "stdout",
     "output_type": "stream",
     "text": [
      "179998\n"
     ]
    }
   ],
   "source": [
    "t1 = 15\n",
    "t2 = 165\n",
    "Fs = 1200\n",
    "dt = 1/Fs\n",
    "tst = t1*Fs\n",
    "ted = t2*Fs\n",
    "\n",
    "nm = data.shape[1]\n",
    "time = np.arange(0,nm-1)*dt\n",
    "time = time[tst:ted].reshape(1,-1)\n",
    "\n",
    "strain_CF = data[46:70,tst:ted]\n",
    "strain_IL = data[6:46,tst:ted]\n",
    "pos_IL = data[98:106,tst:ted]\n",
    "pos_CF = data[106:114,tst:ted]\n",
    "acc_IL = data[70:78,tst:ted]\n",
    "acc_CF = data[78:86,tst:ted]\n",
    "\n",
    "# Strain sensor positions\n",
    "str_il = np.array([1.143,2.555,3.084,3.224,4.155,5.759,6.030,7.664,8.216,8.609,8.889,9.703,10.285,13.676,13.772,\n",
    "                     15.393,16.452,16.547,16.891,19.997,20.193,21.393,21.603,22.460,23.165,25.153,25.442,26.254,27.532,\n",
    "                     28.698,28.863,29.365,31.191,31.415,32.796,33.005,35.549,36.559,36.824,37.322])\n",
    "str_sensor_cf = np.array([2,3,4,5,7,10,11,13,14,17,19,20,21,22,24,25,26,28,31,32,33,36,38,40])-1\n",
    "str_cf = str_il[str_sensor_cf]\n",
    "\n",
    "# Accelerometer positions\n",
    "acc_pos = np.array([4.155,8.609,13.676,16.891,21.393,25.153,28.863,33.005])\n",
    "\n",
    "#vel_CF = disp2vel(pos_CF,dt)\n",
    "#acc_CF = vel2acc(vel_CF,dt)\n",
    "\n",
    "#vel_IL = disp2vel(pos_IL,dt)\n",
    "#acc_IL = vel2acc(vel_IL,dt)\n",
    "\n",
    "vel_CF = acc2vel(acc_CF,dt)\n",
    "disp_CF = vel2disp(vel_CF,dt)"
   ]
  },
  {
   "cell_type": "code",
   "execution_count": 95,
   "id": "f964c867",
   "metadata": {},
   "outputs": [
    {
     "data": {
      "image/png": "[encoded data removed]",
      "text/plain": [
       "<Figure size 432x288 with 1 Axes>"
      ]
     },
     "metadata": {
      "needs_background": "light"
     },
     "output_type": "display_data"
    }
   ],
   "source": [
    "plt.figure\n",
    "plt.plot(acc_IL[1,:],'k--')\n",
    "plt.plot(acc_IL1[1,:])\n",
    "plt.xlim([1,10])\n",
    "plt.show()"
   ]
  },
  {
   "cell_type": "code",
   "execution_count": 96,
   "id": "8e073fdc",
   "metadata": {},
   "outputs": [],
   "source": [
    "# Finding indices for strain locations whihc will be fused \n",
    "sensor_diff_il = np.abs(np.tile(str_il,(8,1)).T - acc_pos)\n",
    "sensor_transform_index_il = np.argmin(sensor_diff_il,axis=1)\n",
    "\n",
    "sensor_diff_cf = np.abs(np.tile(str_cf,(8,1)).T - acc_pos)\n",
    "sensor_transform_index_cf = np.argmin(sensor_diff_cf,axis=1)"
   ]
  },
  {
   "cell_type": "code",
   "execution_count": 103,
   "id": "e5da6f35",
   "metadata": {},
   "outputs": [],
   "source": [
    "#X = np.vstack((time,pos_IL,pos_CF,vel_IL,vel_CF,acc_IL,acc_CF)).transpose()\n",
    "X = np.vstack((time,acc_IL,acc_CF)).transpose()\n",
    "#Y = np.vstack((strain_CF.argmax(axis=0),strain_IL.argmax(axis=0))).transpose()\n",
    "Y = np.vstack((strain_CF.argmax(axis=0))).transpose()\n",
    "scaler = StandardScaler().fit(X)\n",
    "X = scaler.transform(X)\n",
    "#Y = (Y-Y.min())/(Y.max()-Y.min())\n",
    "\n",
    "n_features = X.shape[1]\n",
    "b_size = 100\n",
    "n_outputs = Y.shape[0]\n",
    "\n",
    "n_batches = int(X.shape[0]/b_size)\n",
    "X = X.reshape(n_batches,b_size,n_features)\n",
    "Y = Y.reshape(n_batches,b_size,n_outputs)\n",
    "\n",
    "X_train, X_test, y_train, y_test = train_test_split(X, Y, test_size=0.33, random_state=42,shuffle=False)\n",
    "\n",
    "t_train = X_train[:,:,0]\n",
    "t_test = X_test[:,:,0]\n",
    "X_train = X_train[:,:,0:-1]\n",
    "X_test = X_test[:,:,0:-1]\n",
    "\n",
    "n_features = n_features-1\n",
    "n_outputs = Y.max()+1"
   ]
  },
  {
   "cell_type": "code",
   "execution_count": 104,
   "id": "e28afd4c",
   "metadata": {},
   "outputs": [
    {
     "name": "stdout",
     "output_type": "stream",
     "text": [
      "Epoch 1/100\n",
      "8/8 [==============================] - 1s 13ms/step - loss: 3.1744 - sparse_categorical_accuracy: 0.0536\n",
      "Epoch 2/100\n",
      "8/8 [==============================] - 0s 12ms/step - loss: 3.1592 - sparse_categorical_accuracy: 0.0809\n",
      "Epoch 3/100\n",
      "8/8 [==============================] - 0s 13ms/step - loss: 3.1439 - sparse_categorical_accuracy: 0.0922\n",
      "Epoch 4/100\n",
      "8/8 [==============================] - 0s 12ms/step - loss: 3.1231 - sparse_categorical_accuracy: 0.0941\n",
      "Epoch 5/100\n",
      "8/8 [==============================] - 0s 11ms/step - loss: 3.0964 - sparse_categorical_accuracy: 0.1047\n",
      "Epoch 6/100\n",
      "8/8 [==============================] - 0s 10ms/step - loss: 3.0647 - sparse_categorical_accuracy: 0.1057\n",
      "Epoch 7/100\n",
      "8/8 [==============================] - 0s 11ms/step - loss: 3.0312 - sparse_categorical_accuracy: 0.1043\n",
      "Epoch 8/100\n",
      "8/8 [==============================] - 0s 11ms/step - loss: 2.9974 - sparse_categorical_accuracy: 0.1051\n",
      "Epoch 9/100\n",
      "8/8 [==============================] - 0s 12ms/step - loss: 2.9609 - sparse_categorical_accuracy: 0.1070\n",
      "Epoch 10/100\n",
      "8/8 [==============================] - 0s 11ms/step - loss: 2.9214 - sparse_categorical_accuracy: 0.1097\n",
      "Epoch 11/100\n",
      "8/8 [==============================] - 0s 12ms/step - loss: 2.8784 - sparse_categorical_accuracy: 0.1170\n",
      "Epoch 12/100\n",
      "8/8 [==============================] - 0s 13ms/step - loss: 2.8367 - sparse_categorical_accuracy: 0.1265\n",
      "Epoch 13/100\n",
      "8/8 [==============================] - 0s 13ms/step - loss: 2.7993 - sparse_categorical_accuracy: 0.1468\n",
      "Epoch 14/100\n",
      "8/8 [==============================] - 0s 13ms/step - loss: 2.7652 - sparse_categorical_accuracy: 0.1620\n",
      "Epoch 15/100\n",
      "8/8 [==============================] - 0s 12ms/step - loss: 2.7323 - sparse_categorical_accuracy: 0.1700\n",
      "Epoch 16/100\n",
      "8/8 [==============================] - 0s 11ms/step - loss: 2.7045 - sparse_categorical_accuracy: 0.1738\n",
      "Epoch 17/100\n",
      "8/8 [==============================] - 0s 12ms/step - loss: 2.6776 - sparse_categorical_accuracy: 0.1834\n",
      "Epoch 18/100\n",
      "8/8 [==============================] - 0s 11ms/step - loss: 2.6524 - sparse_categorical_accuracy: 0.1879\n",
      "Epoch 19/100\n",
      "8/8 [==============================] - 0s 13ms/step - loss: 2.6274 - sparse_categorical_accuracy: 0.1942\n",
      "Epoch 20/100\n",
      "8/8 [==============================] - 0s 13ms/step - loss: 2.6024 - sparse_categorical_accuracy: 0.2016\n",
      "Epoch 21/100\n",
      "8/8 [==============================] - 0s 13ms/step - loss: 2.5773 - sparse_categorical_accuracy: 0.2037\n",
      "Epoch 22/100\n",
      "8/8 [==============================] - 0s 12ms/step - loss: 2.5524 - sparse_categorical_accuracy: 0.2100\n",
      "Epoch 23/100\n",
      "8/8 [==============================] - 0s 11ms/step - loss: 2.5275 - sparse_categorical_accuracy: 0.2165\n",
      "Epoch 24/100\n",
      "8/8 [==============================] - 0s 12ms/step - loss: 2.5068 - sparse_categorical_accuracy: 0.2191\n",
      "Epoch 25/100\n",
      "8/8 [==============================] - 0s 13ms/step - loss: 2.4803 - sparse_categorical_accuracy: 0.2260\n",
      "Epoch 26/100\n",
      "8/8 [==============================] - 0s 12ms/step - loss: 2.4569 - sparse_categorical_accuracy: 0.2356\n",
      "Epoch 27/100\n",
      "8/8 [==============================] - 0s 12ms/step - loss: 2.4367 - sparse_categorical_accuracy: 0.2373\n",
      "Epoch 28/100\n",
      "8/8 [==============================] - 0s 11ms/step - loss: 2.4179 - sparse_categorical_accuracy: 0.2433\n",
      "Epoch 29/100\n",
      "8/8 [==============================] - 0s 12ms/step - loss: 2.4010 - sparse_categorical_accuracy: 0.2483\n",
      "Epoch 30/100\n",
      "8/8 [==============================] - 0s 11ms/step - loss: 2.3877 - sparse_categorical_accuracy: 0.2465\n",
      "Epoch 31/100\n",
      "8/8 [==============================] - 0s 11ms/step - loss: 2.3699 - sparse_categorical_accuracy: 0.2552\n",
      "Epoch 32/100\n",
      "8/8 [==============================] - 0s 13ms/step - loss: 2.3553 - sparse_categorical_accuracy: 0.2563\n",
      "Epoch 33/100\n",
      "8/8 [==============================] - 0s 13ms/step - loss: 2.3406 - sparse_categorical_accuracy: 0.2623\n",
      "Epoch 34/100\n",
      "8/8 [==============================] - 0s 13ms/step - loss: 2.3271 - sparse_categorical_accuracy: 0.2637\n",
      "Epoch 35/100\n",
      "8/8 [==============================] - 0s 12ms/step - loss: 2.3146 - sparse_categorical_accuracy: 0.2672\n",
      "Epoch 36/100\n",
      "8/8 [==============================] - 0s 12ms/step - loss: 2.3018 - sparse_categorical_accuracy: 0.2738\n",
      "Epoch 37/100\n",
      "8/8 [==============================] - 0s 12ms/step - loss: 2.2911 - sparse_categorical_accuracy: 0.2741\n",
      "Epoch 38/100\n",
      "8/8 [==============================] - 0s 11ms/step - loss: 2.2811 - sparse_categorical_accuracy: 0.2762\n",
      "Epoch 39/100\n",
      "8/8 [==============================] - 0s 11ms/step - loss: 2.2720 - sparse_categorical_accuracy: 0.2769\n",
      "Epoch 40/100\n",
      "8/8 [==============================] - 0s 11ms/step - loss: 2.2617 - sparse_categorical_accuracy: 0.2810\n",
      "Epoch 41/100\n",
      "8/8 [==============================] - 0s 12ms/step - loss: 2.2540 - sparse_categorical_accuracy: 0.2814\n",
      "Epoch 42/100\n",
      "8/8 [==============================] - 0s 12ms/step - loss: 2.2452 - sparse_categorical_accuracy: 0.2849\n",
      "Epoch 43/100\n",
      "8/8 [==============================] - 0s 10ms/step - loss: 2.2375 - sparse_categorical_accuracy: 0.2869\n",
      "Epoch 44/100\n",
      "8/8 [==============================] - 0s 12ms/step - loss: 2.2278 - sparse_categorical_accuracy: 0.2887\n",
      "Epoch 45/100\n",
      "8/8 [==============================] - 0s 12ms/step - loss: 2.2212 - sparse_categorical_accuracy: 0.2904\n",
      "Epoch 46/100\n",
      "8/8 [==============================] - 0s 12ms/step - loss: 2.2131 - sparse_categorical_accuracy: 0.2939\n",
      "Epoch 47/100\n",
      "8/8 [==============================] - 0s 12ms/step - loss: 2.2066 - sparse_categorical_accuracy: 0.2942\n",
      "Epoch 48/100\n",
      "8/8 [==============================] - 0s 13ms/step - loss: 2.2048 - sparse_categorical_accuracy: 0.2926\n",
      "Epoch 49/100\n",
      "8/8 [==============================] - 0s 13ms/step - loss: 2.1939 - sparse_categorical_accuracy: 0.2973\n",
      "Epoch 50/100\n",
      "8/8 [==============================] - 0s 12ms/step - loss: 2.1861 - sparse_categorical_accuracy: 0.2977\n",
      "Epoch 51/100\n",
      "8/8 [==============================] - 0s 12ms/step - loss: 2.1811 - sparse_categorical_accuracy: 0.3015\n",
      "Epoch 52/100\n",
      "8/8 [==============================] - 0s 12ms/step - loss: 2.1739 - sparse_categorical_accuracy: 0.3000\n",
      "Epoch 53/100\n",
      "8/8 [==============================] - 0s 12ms/step - loss: 2.1679 - sparse_categorical_accuracy: 0.3045\n",
      "Epoch 54/100\n",
      "8/8 [==============================] - 0s 13ms/step - loss: 2.1627 - sparse_categorical_accuracy: 0.3034\n",
      "Epoch 55/100\n",
      "8/8 [==============================] - 0s 11ms/step - loss: 2.1546 - sparse_categorical_accuracy: 0.3074\n",
      "Epoch 56/100\n",
      "8/8 [==============================] - 0s 11ms/step - loss: 2.1462 - sparse_categorical_accuracy: 0.3076\n",
      "Epoch 57/100\n",
      "8/8 [==============================] - 0s 12ms/step - loss: 2.1415 - sparse_categorical_accuracy: 0.3086\n",
      "Epoch 58/100\n",
      "8/8 [==============================] - 0s 13ms/step - loss: 2.1363 - sparse_categorical_accuracy: 0.3094\n",
      "Epoch 59/100\n",
      "8/8 [==============================] - 0s 11ms/step - loss: 2.1312 - sparse_categorical_accuracy: 0.3106\n",
      "Epoch 60/100\n",
      "8/8 [==============================] - 0s 12ms/step - loss: 2.1251 - sparse_categorical_accuracy: 0.3141\n",
      "Epoch 61/100\n",
      "8/8 [==============================] - 0s 12ms/step - loss: 2.1207 - sparse_categorical_accuracy: 0.3134\n",
      "Epoch 62/100\n",
      "8/8 [==============================] - 0s 14ms/step - loss: 2.1158 - sparse_categorical_accuracy: 0.3149\n",
      "Epoch 63/100\n",
      "8/8 [==============================] - 0s 14ms/step - loss: 2.1124 - sparse_categorical_accuracy: 0.3159\n",
      "Epoch 64/100\n",
      "8/8 [==============================] - 0s 18ms/step - loss: 2.1079 - sparse_categorical_accuracy: 0.3169\n",
      "Epoch 65/100\n",
      "8/8 [==============================] - 0s 19ms/step - loss: 2.1024 - sparse_categorical_accuracy: 0.3190\n",
      "Epoch 66/100\n",
      "8/8 [==============================] - 0s 22ms/step - loss: 2.1007 - sparse_categorical_accuracy: 0.3192\n",
      "Epoch 67/100\n",
      "8/8 [==============================] - 0s 23ms/step - loss: 2.0961 - sparse_categorical_accuracy: 0.3198\n",
      "Epoch 68/100\n",
      "8/8 [==============================] - 0s 20ms/step - loss: 2.0909 - sparse_categorical_accuracy: 0.3215\n",
      "Epoch 69/100\n",
      "8/8 [==============================] - 0s 21ms/step - loss: 2.0888 - sparse_categorical_accuracy: 0.3207\n",
      "Epoch 70/100\n"
     ]
    },
    {
     "name": "stdout",
     "output_type": "stream",
     "text": [
      "8/8 [==============================] - 0s 20ms/step - loss: 2.0854 - sparse_categorical_accuracy: 0.3226\n",
      "Epoch 71/100\n",
      "8/8 [==============================] - 0s 22ms/step - loss: 2.0820 - sparse_categorical_accuracy: 0.3223\n",
      "Epoch 72/100\n",
      "8/8 [==============================] - 0s 21ms/step - loss: 2.0808 - sparse_categorical_accuracy: 0.3233\n",
      "Epoch 73/100\n",
      "8/8 [==============================] - 0s 20ms/step - loss: 2.0772 - sparse_categorical_accuracy: 0.3226\n",
      "Epoch 74/100\n",
      "8/8 [==============================] - 0s 20ms/step - loss: 2.0758 - sparse_categorical_accuracy: 0.3235\n",
      "Epoch 75/100\n",
      "8/8 [==============================] - 0s 20ms/step - loss: 2.0727 - sparse_categorical_accuracy: 0.3230\n",
      "Epoch 76/100\n",
      "8/8 [==============================] - 0s 21ms/step - loss: 2.0715 - sparse_categorical_accuracy: 0.3247\n",
      "Epoch 77/100\n",
      "8/8 [==============================] - 0s 19ms/step - loss: 2.0657 - sparse_categorical_accuracy: 0.3272\n",
      "Epoch 78/100\n",
      "8/8 [==============================] - 0s 19ms/step - loss: 2.0636 - sparse_categorical_accuracy: 0.3249\n",
      "Epoch 79/100\n",
      "8/8 [==============================] - 0s 20ms/step - loss: 2.0617 - sparse_categorical_accuracy: 0.3288\n",
      "Epoch 80/100\n",
      "8/8 [==============================] - 0s 20ms/step - loss: 2.0573 - sparse_categorical_accuracy: 0.3279\n",
      "Epoch 81/100\n",
      "8/8 [==============================] - 0s 20ms/step - loss: 2.0559 - sparse_categorical_accuracy: 0.3287\n",
      "Epoch 82/100\n",
      "8/8 [==============================] - 0s 20ms/step - loss: 2.0566 - sparse_categorical_accuracy: 0.3276\n",
      "Epoch 83/100\n",
      "8/8 [==============================] - 0s 20ms/step - loss: 2.0523 - sparse_categorical_accuracy: 0.3287\n",
      "Epoch 84/100\n",
      "8/8 [==============================] - 0s 18ms/step - loss: 2.0460 - sparse_categorical_accuracy: 0.3309\n",
      "Epoch 85/100\n",
      "8/8 [==============================] - 0s 20ms/step - loss: 2.0431 - sparse_categorical_accuracy: 0.3309\n",
      "Epoch 86/100\n",
      "8/8 [==============================] - 0s 19ms/step - loss: 2.0413 - sparse_categorical_accuracy: 0.3317\n",
      "Epoch 87/100\n",
      "8/8 [==============================] - 0s 20ms/step - loss: 2.0395 - sparse_categorical_accuracy: 0.3314\n",
      "Epoch 88/100\n",
      "8/8 [==============================] - 0s 20ms/step - loss: 2.0397 - sparse_categorical_accuracy: 0.3303\n",
      "Epoch 89/100\n",
      "8/8 [==============================] - 0s 20ms/step - loss: 2.0384 - sparse_categorical_accuracy: 0.3294\n",
      "Epoch 90/100\n",
      "8/8 [==============================] - 0s 19ms/step - loss: 2.0303 - sparse_categorical_accuracy: 0.3321\n",
      "Epoch 91/100\n",
      "8/8 [==============================] - 0s 20ms/step - loss: 2.0306 - sparse_categorical_accuracy: 0.3335\n",
      "Epoch 92/100\n",
      "8/8 [==============================] - 0s 20ms/step - loss: 2.0343 - sparse_categorical_accuracy: 0.3316\n",
      "Epoch 93/100\n",
      "8/8 [==============================] - 0s 20ms/step - loss: 2.0291 - sparse_categorical_accuracy: 0.3341\n",
      "Epoch 94/100\n",
      "8/8 [==============================] - 0s 18ms/step - loss: 2.0261 - sparse_categorical_accuracy: 0.3333\n",
      "Epoch 95/100\n",
      "8/8 [==============================] - 0s 20ms/step - loss: 2.0225 - sparse_categorical_accuracy: 0.3356\n",
      "Epoch 96/100\n",
      "8/8 [==============================] - 0s 20ms/step - loss: 2.0202 - sparse_categorical_accuracy: 0.3356\n",
      "Epoch 97/100\n",
      "8/8 [==============================] - 0s 20ms/step - loss: 2.0176 - sparse_categorical_accuracy: 0.3366\n",
      "Epoch 98/100\n",
      "8/8 [==============================] - 0s 19ms/step - loss: 2.0152 - sparse_categorical_accuracy: 0.3374\n",
      "Epoch 99/100\n",
      "8/8 [==============================] - 0s 21ms/step - loss: 2.0152 - sparse_categorical_accuracy: 0.3369\n",
      "Epoch 100/100\n",
      "8/8 [==============================] - 0s 22ms/step - loss: 2.0177 - sparse_categorical_accuracy: 0.3345\n"
     ]
    },
    {
     "data": {
      "text/plain": [
       "<keras.callbacks.History at 0x156bcc1bb20>"
      ]
     },
     "execution_count": 104,
     "metadata": {},
     "output_type": "execute_result"
    }
   ],
   "source": [
    "model = Sequential(name=\"Vanilla\")\n",
    "model.add(Dense(5, activation=\"relu\", name=\"layer1\"))\n",
    "model.add(Dense(10, activation=\"relu\", name=\"layer2\"))\n",
    "model.add(Dense(50, activation=\"relu\", name=\"layer3\"))\n",
    "model.add(Dense(50, activation=\"relu\", name=\"layer4\"))\n",
    "model.add(Dense(20, activation=\"relu\", name=\"layer5\"))\n",
    "model.add(Dense(n_outputs, name=\"output_layer\",activation='softmax'))\n",
    "model.compile(optimizer=\"Adam\", loss=\"sparse_categorical_crossentropy\", metrics=['SparseCategoricalAccuracy'])\n",
    "callback = tf.keras.callbacks.EarlyStopping(monitor='loss', patience=3)\n",
    "model.fit(X_train,y_train,epochs=100,callbacks=callback)"
   ]
  },
  {
   "cell_type": "code",
   "execution_count": 111,
   "id": "46af8388",
   "metadata": {},
   "outputs": [],
   "source": [
    "y_pred_NN = model.predict(X_test)\n",
    "y_pred_NN = y_pred.argmax(axis=2)"
   ]
  },
  {
   "cell_type": "code",
   "execution_count": 112,
   "id": "5fc6a0d7",
   "metadata": {},
   "outputs": [
    {
     "data": {
      "text/plain": [
       "[<matplotlib.lines.Line2D at 0x156b4e4bd00>]"
      ]
     },
     "execution_count": 112,
     "metadata": {},
     "output_type": "execute_result"
    },
    {
     "data": {
      "image/png": "[encoded data removed]",
      "text/plain": [
       "<Figure size 432x288 with 1 Axes>"
      ]
     },
     "metadata": {
      "needs_background": "light"
     },
     "output_type": "display_data"
    }
   ],
   "source": [
    "n = 20\n",
    "plt.figure(figsize=(15,10))\n",
    "plt.plot(y_pred_NN[n,:],'r--')\n",
    "plt.plot(y_test[n,:],'k-')"
   ]
  },
  {
   "cell_type": "code",
   "execution_count": 141,
   "id": "61975d02",
   "metadata": {},
   "outputs": [
    {
     "name": "stdout",
     "output_type": "stream",
     "text": [
      "Model: \"LSTM\"\n",
      "_________________________________________________________________\n",
      "Layer (type)                 Output Shape              Param #   \n",
      "=================================================================\n",
      "lstm_2 (LSTM)                (None, 500, 100)          46800     \n",
      "_________________________________________________________________\n",
      "dropout_3 (Dropout)          (None, 500, 100)          0         \n",
      "_________________________________________________________________\n",
      "lstm_3 (LSTM)                (None, 500, 500)          1202000   \n",
      "_________________________________________________________________\n",
      "dropout_4 (Dropout)          (None, 500, 500)          0         \n",
      "_________________________________________________________________\n",
      "dense_2 (Dense)              (None, 500, 50)           25050     \n",
      "_________________________________________________________________\n",
      "dropout_5 (Dropout)          (None, 500, 50)           0         \n",
      "_________________________________________________________________\n",
      "dense_3 (Dense)              (None, 500, 24)           1224      \n",
      "=================================================================\n",
      "Total params: 1,275,074\n",
      "Trainable params: 1,275,074\n",
      "Non-trainable params: 0\n",
      "_________________________________________________________________\n"
     ]
    }
   ],
   "source": [
    "model = Sequential(name='LSTM')\n",
    "model.add(LSTM(\n",
    "    units=100,\n",
    "    batch_input_shape=(None,X.shape[1],n_features),\n",
    "    return_sequences=True),\n",
    "    dropout=0,\n",
    "    recurrent_dropout=0)\n",
    "model.add(LSTM(\n",
    "    units=500,\n",
    "    batch_input_shape=(None,X.shape[1],n_features),\n",
    "    return_sequences=True),\n",
    "    dropout=0.1,\n",
    "    recurrent_dropout=0)\n",
    "model.add(Dense(50,activation='relu'))\n",
    "model.add(Dropout(0))\n",
    "model.add(Dense(n_outputs, activation='softmax'))\n",
    "\n",
    "model.summary()\n",
    "model.compile(optimizer=\"Adam\", loss=\"sparse_categorical_crossentropy\", metrics=['SparseCategoricalAccuracy'])"
   ]
  },
  {
   "cell_type": "code",
   "execution_count": 142,
   "id": "4b5bfd2a",
   "metadata": {},
   "outputs": [
    {
     "name": "stdout",
     "output_type": "stream",
     "text": [
      "Epoch 1/100\n",
      "8/8 [==============================] - 29s 3s/step - loss: 2.9173 - sparse_categorical_accuracy: 0.1772\n",
      "Epoch 2/100\n",
      "8/8 [==============================] - 30s 4s/step - loss: 2.4178 - sparse_categorical_accuracy: 0.2760\n",
      "Epoch 3/100\n",
      "8/8 [==============================] - 31s 4s/step - loss: 2.1786 - sparse_categorical_accuracy: 0.3359\n",
      "Epoch 4/100\n",
      "8/8 [==============================] - 30s 4s/step - loss: 2.0178 - sparse_categorical_accuracy: 0.3824\n",
      "Epoch 5/100\n",
      "8/8 [==============================] - 33s 4s/step - loss: 1.8911 - sparse_categorical_accuracy: 0.4139\n",
      "Epoch 6/100\n",
      "8/8 [==============================] - 31s 4s/step - loss: 1.8202 - sparse_categorical_accuracy: 0.4272\n",
      "Epoch 7/100\n",
      "8/8 [==============================] - 34s 4s/step - loss: 1.7198 - sparse_categorical_accuracy: 0.4547\n",
      "Epoch 8/100\n",
      "8/8 [==============================] - 32s 4s/step - loss: 1.6275 - sparse_categorical_accuracy: 0.4828\n",
      "Epoch 9/100\n",
      "8/8 [==============================] - 30s 4s/step - loss: 1.5472 - sparse_categorical_accuracy: 0.5047\n",
      "Epoch 10/100\n",
      "8/8 [==============================] - 31s 4s/step - loss: 1.4901 - sparse_categorical_accuracy: 0.5188\n",
      "Epoch 11/100\n",
      "8/8 [==============================] - 30s 4s/step - loss: 1.4000 - sparse_categorical_accuracy: 0.5501\n",
      "Epoch 12/100\n",
      "8/8 [==============================] - 30s 4s/step - loss: 1.3214 - sparse_categorical_accuracy: 0.5708\n",
      "Epoch 13/100\n",
      "8/8 [==============================] - 30s 4s/step - loss: 1.2553 - sparse_categorical_accuracy: 0.5882\n",
      "Epoch 14/100\n",
      "8/8 [==============================] - 31s 4s/step - loss: 1.1889 - sparse_categorical_accuracy: 0.6127\n",
      "Epoch 15/100\n",
      "8/8 [==============================] - 31s 4s/step - loss: 1.1243 - sparse_categorical_accuracy: 0.6341\n",
      "Epoch 16/100\n",
      "8/8 [==============================] - 33s 4s/step - loss: 1.0675 - sparse_categorical_accuracy: 0.6525\n",
      "Epoch 17/100\n",
      "8/8 [==============================] - 34s 4s/step - loss: 1.0155 - sparse_categorical_accuracy: 0.6700\n",
      "Epoch 18/100\n",
      "8/8 [==============================] - 33s 4s/step - loss: 0.9571 - sparse_categorical_accuracy: 0.6885\n",
      "Epoch 19/100\n",
      "8/8 [==============================] - 30s 4s/step - loss: 0.9078 - sparse_categorical_accuracy: 0.7020\n",
      "Epoch 20/100\n",
      "8/8 [==============================] - 31s 4s/step - loss: 0.8457 - sparse_categorical_accuracy: 0.7246\n",
      "Epoch 21/100\n",
      "8/8 [==============================] - 31s 4s/step - loss: 0.7939 - sparse_categorical_accuracy: 0.7441\n",
      "Epoch 22/100\n",
      "8/8 [==============================] - 31s 4s/step - loss: 0.7512 - sparse_categorical_accuracy: 0.7588\n",
      "Epoch 23/100\n",
      "8/8 [==============================] - 30s 4s/step - loss: 0.7215 - sparse_categorical_accuracy: 0.7653\n",
      "Epoch 24/100\n",
      "8/8 [==============================] - 30s 4s/step - loss: 0.6831 - sparse_categorical_accuracy: 0.7780\n",
      "Epoch 25/100\n",
      "8/8 [==============================] - 30s 4s/step - loss: 0.6483 - sparse_categorical_accuracy: 0.7900\n",
      "Epoch 26/100\n",
      "8/8 [==============================] - 33s 4s/step - loss: 0.6357 - sparse_categorical_accuracy: 0.7951\n",
      "Epoch 27/100\n",
      "8/8 [==============================] - 32s 4s/step - loss: 0.5872 - sparse_categorical_accuracy: 0.8107\n",
      "Epoch 28/100\n",
      "8/8 [==============================] - 31s 4s/step - loss: 0.5427 - sparse_categorical_accuracy: 0.8251\n",
      "Epoch 29/100\n",
      "8/8 [==============================] - 31s 4s/step - loss: 0.4963 - sparse_categorical_accuracy: 0.8401\n",
      "Epoch 30/100\n",
      "8/8 [==============================] - 30s 4s/step - loss: 0.4644 - sparse_categorical_accuracy: 0.8494\n",
      "Epoch 31/100\n",
      "8/8 [==============================] - 128s 18s/step - loss: 0.4463 - sparse_categorical_accuracy: 0.8568\n",
      "Epoch 32/100\n",
      "8/8 [==============================] - 161s 20s/step - loss: 0.4053 - sparse_categorical_accuracy: 0.8699\n",
      "Epoch 33/100\n",
      "8/8 [==============================] - 166s 21s/step - loss: 0.3875 - sparse_categorical_accuracy: 0.8736\n",
      "Epoch 34/100\n",
      "8/8 [==============================] - 176s 22s/step - loss: 0.3763 - sparse_categorical_accuracy: 0.8794\n",
      "Epoch 35/100\n",
      "8/8 [==============================] - 164s 20s/step - loss: 0.3639 - sparse_categorical_accuracy: 0.8794\n",
      "Epoch 36/100\n",
      "8/8 [==============================] - 152s 19s/step - loss: 0.3520 - sparse_categorical_accuracy: 0.8859\n",
      "Epoch 37/100\n",
      "8/8 [==============================] - 162s 21s/step - loss: 0.3427 - sparse_categorical_accuracy: 0.8882\n",
      "Epoch 38/100\n",
      "8/8 [==============================] - 171s 21s/step - loss: 0.3275 - sparse_categorical_accuracy: 0.8921\n",
      "Epoch 39/100\n",
      "8/8 [==============================] - 167s 21s/step - loss: 0.3216 - sparse_categorical_accuracy: 0.8943\n",
      "Epoch 40/100\n",
      "8/8 [==============================] - 170s 21s/step - loss: 0.3123 - sparse_categorical_accuracy: 0.8971\n",
      "Epoch 41/100\n",
      "8/8 [==============================] - 166s 21s/step - loss: 0.3014 - sparse_categorical_accuracy: 0.8985\n",
      "Epoch 42/100\n",
      "8/8 [==============================] - 165s 21s/step - loss: 0.2893 - sparse_categorical_accuracy: 0.9022\n",
      "Epoch 43/100\n",
      "8/8 [==============================] - 192s 24s/step - loss: 0.2760 - sparse_categorical_accuracy: 0.9077\n",
      "Epoch 44/100\n",
      "8/8 [==============================] - 182s 22s/step - loss: 0.2702 - sparse_categorical_accuracy: 0.9094\n",
      "Epoch 45/100\n",
      "8/8 [==============================] - 164s 20s/step - loss: 0.2570 - sparse_categorical_accuracy: 0.9138\n",
      "Epoch 46/100\n",
      "8/8 [==============================] - 159s 20s/step - loss: 0.2488 - sparse_categorical_accuracy: 0.9160\n",
      "Epoch 47/100\n",
      "8/8 [==============================] - 185s 23s/step - loss: 0.2426 - sparse_categorical_accuracy: 0.9174\n",
      "Epoch 48/100\n",
      "8/8 [==============================] - 202s 25s/step - loss: 0.2295 - sparse_categorical_accuracy: 0.9219\n",
      "Epoch 49/100\n",
      "8/8 [==============================] - 181s 22s/step - loss: 0.2197 - sparse_categorical_accuracy: 0.9254\n",
      "Epoch 50/100\n",
      "8/8 [==============================] - 189s 24s/step - loss: 0.2169 - sparse_categorical_accuracy: 0.9263\n",
      "Epoch 51/100\n",
      "8/8 [==============================] - 188s 23s/step - loss: 0.2076 - sparse_categorical_accuracy: 0.9311\n",
      "Epoch 52/100\n",
      "8/8 [==============================] - 189s 24s/step - loss: 0.2014 - sparse_categorical_accuracy: 0.9323\n",
      "Epoch 53/100\n",
      "8/8 [==============================] - 192s 24s/step - loss: 0.1951 - sparse_categorical_accuracy: 0.9331\n",
      "Epoch 54/100\n",
      "8/8 [==============================] - 188s 24s/step - loss: 0.1961 - sparse_categorical_accuracy: 0.9333\n",
      "Epoch 55/100\n",
      "8/8 [==============================] - 189s 23s/step - loss: 0.1999 - sparse_categorical_accuracy: 0.9302\n",
      "Epoch 56/100\n",
      "8/8 [==============================] - 182s 23s/step - loss: 0.1945 - sparse_categorical_accuracy: 0.9317\n",
      "Epoch 57/100\n",
      "8/8 [==============================] - 191s 24s/step - loss: 0.1917 - sparse_categorical_accuracy: 0.9332\n",
      "Epoch 58/100\n",
      "8/8 [==============================] - 184s 23s/step - loss: 0.1869 - sparse_categorical_accuracy: 0.9351\n",
      "Epoch 59/100\n",
      "8/8 [==============================] - 184s 23s/step - loss: 0.1810 - sparse_categorical_accuracy: 0.9374\n",
      "Epoch 60/100\n",
      "8/8 [==============================] - 185s 23s/step - loss: 0.1788 - sparse_categorical_accuracy: 0.9373\n",
      "Epoch 61/100\n",
      "8/8 [==============================] - 183s 23s/step - loss: 0.1766 - sparse_categorical_accuracy: 0.9377\n",
      "Epoch 62/100\n",
      "8/8 [==============================] - 183s 23s/step - loss: 0.1783 - sparse_categorical_accuracy: 0.9372\n",
      "Epoch 63/100\n",
      "8/8 [==============================] - 185s 23s/step - loss: 0.1728 - sparse_categorical_accuracy: 0.9390\n",
      "Epoch 64/100\n",
      "8/8 [==============================] - 184s 23s/step - loss: 0.1707 - sparse_categorical_accuracy: 0.9400\n",
      "Epoch 65/100\n",
      "8/8 [==============================] - 184s 23s/step - loss: 0.1612 - sparse_categorical_accuracy: 0.9431\n",
      "Epoch 66/100\n",
      "8/8 [==============================] - 188s 23s/step - loss: 0.1594 - sparse_categorical_accuracy: 0.9438\n",
      "Epoch 67/100\n",
      "8/8 [==============================] - 202s 25s/step - loss: 0.1552 - sparse_categorical_accuracy: 0.9454\n",
      "Epoch 68/100\n",
      "8/8 [==============================] - 184s 23s/step - loss: 0.1514 - sparse_categorical_accuracy: 0.9469\n",
      "Epoch 69/100\n",
      "8/8 [==============================] - 182s 23s/step - loss: 0.1492 - sparse_categorical_accuracy: 0.9466\n",
      "Epoch 70/100\n"
     ]
    },
    {
     "name": "stdout",
     "output_type": "stream",
     "text": [
      "8/8 [==============================] - 182s 23s/step - loss: 0.1467 - sparse_categorical_accuracy: 0.9480\n",
      "Epoch 71/100\n",
      "8/8 [==============================] - 187s 23s/step - loss: 0.1440 - sparse_categorical_accuracy: 0.9490\n",
      "Epoch 72/100\n",
      "8/8 [==============================] - 183s 23s/step - loss: 0.1446 - sparse_categorical_accuracy: 0.9483\n",
      "Epoch 73/100\n",
      "8/8 [==============================] - 195s 24s/step - loss: 0.1452 - sparse_categorical_accuracy: 0.9475\n",
      "Epoch 74/100\n",
      "8/8 [==============================] - 186s 23s/step - loss: 0.1476 - sparse_categorical_accuracy: 0.9466\n"
     ]
    },
    {
     "data": {
      "text/plain": [
       "<keras.callbacks.History at 0x156b3302f10>"
      ]
     },
     "execution_count": 142,
     "metadata": {},
     "output_type": "execute_result"
    }
   ],
   "source": [
    "callback = tf.keras.callbacks.EarlyStopping(monitor='loss', patience=3)\n",
    "model.fit(X_train,y_train,epochs=100,callbacks=callback)"
   ]
  },
  {
   "cell_type": "code",
   "execution_count": 148,
   "id": "9d695da7",
   "metadata": {},
   "outputs": [
    {
     "name": "stderr",
     "output_type": "stream",
     "text": [
      "WARNING:absl:Found untraced functions such as lstm_cell_2_layer_call_and_return_conditional_losses, lstm_cell_2_layer_call_fn, lstm_cell_3_layer_call_and_return_conditional_losses, lstm_cell_3_layer_call_fn, lstm_cell_2_layer_call_fn while saving (showing 5 of 10). These functions will not be directly callable after loading.\n"
     ]
    },
    {
     "name": "stdout",
     "output_type": "stream",
     "text": [
      "INFO:tensorflow:Assets written to: RNN\\assets\n"
     ]
    },
    {
     "name": "stderr",
     "output_type": "stream",
     "text": [
      "INFO:tensorflow:Assets written to: RNN\\assets\n"
     ]
    },
    {
     "ename": "KeyboardInterrupt",
     "evalue": "",
     "output_type": "error",
     "traceback": [
      "\u001b[1;31m---------------------------------------------------------------------------\u001b[0m",
      "\u001b[1;31mKeyboardInterrupt\u001b[0m                         Traceback (most recent call last)",
      "\u001b[1;32m<ipython-input-148-6298096a73b5>\u001b[0m in \u001b[0;36m<module>\u001b[1;34m\u001b[0m\n\u001b[1;32m----> 1\u001b[1;33m \u001b[0mmodel\u001b[0m\u001b[1;33m.\u001b[0m\u001b[0msave\u001b[0m\u001b[1;33m(\u001b[0m\u001b[1;34m'RNN'\u001b[0m\u001b[1;33m)\u001b[0m\u001b[1;33m\u001b[0m\u001b[1;33m\u001b[0m\u001b[0m\n\u001b[0m",
      "\u001b[1;32m~\\AppData\\Roaming\\Python\\Python38\\site-packages\\keras\\engine\\training.py\u001b[0m in \u001b[0;36msave\u001b[1;34m(self, filepath, overwrite, include_optimizer, save_format, signatures, options, save_traces)\u001b[0m\n\u001b[0;32m   2148\u001b[0m     \"\"\"\n\u001b[0;32m   2149\u001b[0m     \u001b[1;31m# pylint: enable=line-too-long\u001b[0m\u001b[1;33m\u001b[0m\u001b[1;33m\u001b[0m\u001b[1;33m\u001b[0m\u001b[0m\n\u001b[1;32m-> 2150\u001b[1;33m     save.save_model(self, filepath, overwrite, include_optimizer, save_format,\n\u001b[0m\u001b[0;32m   2151\u001b[0m                     signatures, options, save_traces)\n\u001b[0;32m   2152\u001b[0m \u001b[1;33m\u001b[0m\u001b[0m\n",
      "\u001b[1;32m~\\AppData\\Roaming\\Python\\Python38\\site-packages\\keras\\saving\\save.py\u001b[0m in \u001b[0;36msave_model\u001b[1;34m(model, filepath, overwrite, include_optimizer, save_format, signatures, options, save_traces)\u001b[0m\n\u001b[0;32m    147\u001b[0m   \u001b[1;32melse\u001b[0m\u001b[1;33m:\u001b[0m\u001b[1;33m\u001b[0m\u001b[1;33m\u001b[0m\u001b[0m\n\u001b[0;32m    148\u001b[0m     \u001b[1;32mwith\u001b[0m \u001b[0mgeneric_utils\u001b[0m\u001b[1;33m.\u001b[0m\u001b[0mSharedObjectSavingScope\u001b[0m\u001b[1;33m(\u001b[0m\u001b[1;33m)\u001b[0m\u001b[1;33m:\u001b[0m\u001b[1;33m\u001b[0m\u001b[1;33m\u001b[0m\u001b[0m\n\u001b[1;32m--> 149\u001b[1;33m       saved_model_save.save(model, filepath, overwrite, include_optimizer,\n\u001b[0m\u001b[0;32m    150\u001b[0m                             signatures, options, save_traces)\n\u001b[0;32m    151\u001b[0m \u001b[1;33m\u001b[0m\u001b[0m\n",
      "\u001b[1;32m~\\AppData\\Roaming\\Python\\Python38\\site-packages\\keras\\saving\\saved_model\\save.py\u001b[0m in \u001b[0;36msave\u001b[1;34m(model, filepath, overwrite, include_optimizer, signatures, options, save_traces)\u001b[0m\n\u001b[0;32m     88\u001b[0m   \u001b[1;32mwith\u001b[0m \u001b[0mK\u001b[0m\u001b[1;33m.\u001b[0m\u001b[0mdeprecated_internal_learning_phase_scope\u001b[0m\u001b[1;33m(\u001b[0m\u001b[1;36m0\u001b[0m\u001b[1;33m)\u001b[0m\u001b[1;33m:\u001b[0m\u001b[1;33m\u001b[0m\u001b[1;33m\u001b[0m\u001b[0m\n\u001b[0;32m     89\u001b[0m     \u001b[1;32mwith\u001b[0m \u001b[0mutils\u001b[0m\u001b[1;33m.\u001b[0m\u001b[0mkeras_option_scope\u001b[0m\u001b[1;33m(\u001b[0m\u001b[0msave_traces\u001b[0m\u001b[1;33m)\u001b[0m\u001b[1;33m:\u001b[0m\u001b[1;33m\u001b[0m\u001b[1;33m\u001b[0m\u001b[0m\n\u001b[1;32m---> 90\u001b[1;33m       saved_nodes, node_paths = save_lib.save_and_return_nodes(\n\u001b[0m\u001b[0;32m     91\u001b[0m           model, filepath, signatures, options)\n\u001b[0;32m     92\u001b[0m \u001b[1;33m\u001b[0m\u001b[0m\n",
      "\u001b[1;32m~\\AppData\\Roaming\\Python\\Python38\\site-packages\\tensorflow\\python\\saved_model\\save.py\u001b[0m in \u001b[0;36msave_and_return_nodes\u001b[1;34m(obj, export_dir, signatures, options, experimental_skip_checkpoint)\u001b[0m\n\u001b[0;32m   1262\u001b[0m       compat.as_str(pywrap_libexport.SAVED_MODEL_FILENAME_PB))\n\u001b[0;32m   1263\u001b[0m   file_io.atomic_write_string_to_file(\n\u001b[1;32m-> 1264\u001b[1;33m       path, saved_model.SerializeToString(deterministic=True))\n\u001b[0m\u001b[0;32m   1265\u001b[0m   \u001b[1;31m# Save debug info, if requested.\u001b[0m\u001b[1;33m\u001b[0m\u001b[1;33m\u001b[0m\u001b[1;33m\u001b[0m\u001b[0m\n\u001b[0;32m   1266\u001b[0m   \u001b[1;32mif\u001b[0m \u001b[0moptions\u001b[0m\u001b[1;33m.\u001b[0m\u001b[0msave_debug_info\u001b[0m\u001b[1;33m:\u001b[0m\u001b[1;33m\u001b[0m\u001b[1;33m\u001b[0m\u001b[0m\n",
      "\u001b[1;32m~\\Anaconda3\\lib\\site-packages\\google\\protobuf\\internal\\python_message.py\u001b[0m in \u001b[0;36mSerializeToString\u001b[1;34m(self, **kwargs)\u001b[0m\n\u001b[0;32m   1095\u001b[0m           'Message %s is missing required fields: %s' % (\n\u001b[0;32m   1096\u001b[0m           self.DESCRIPTOR.full_name, ','.join(self.FindInitializationErrors())))\n\u001b[1;32m-> 1097\u001b[1;33m     \u001b[1;32mreturn\u001b[0m \u001b[0mself\u001b[0m\u001b[1;33m.\u001b[0m\u001b[0mSerializePartialToString\u001b[0m\u001b[1;33m(\u001b[0m\u001b[1;33m**\u001b[0m\u001b[0mkwargs\u001b[0m\u001b[1;33m)\u001b[0m\u001b[1;33m\u001b[0m\u001b[1;33m\u001b[0m\u001b[0m\n\u001b[0m\u001b[0;32m   1098\u001b[0m   \u001b[0mcls\u001b[0m\u001b[1;33m.\u001b[0m\u001b[0mSerializeToString\u001b[0m \u001b[1;33m=\u001b[0m \u001b[0mSerializeToString\u001b[0m\u001b[1;33m\u001b[0m\u001b[1;33m\u001b[0m\u001b[0m\n\u001b[0;32m   1099\u001b[0m \u001b[1;33m\u001b[0m\u001b[0m\n",
      "\u001b[1;32m~\\Anaconda3\\lib\\site-packages\\google\\protobuf\\internal\\python_message.py\u001b[0m in \u001b[0;36mSerializePartialToString\u001b[1;34m(self, **kwargs)\u001b[0m\n\u001b[0;32m   1104\u001b[0m   \u001b[1;32mdef\u001b[0m \u001b[0mSerializePartialToString\u001b[0m\u001b[1;33m(\u001b[0m\u001b[0mself\u001b[0m\u001b[1;33m,\u001b[0m \u001b[1;33m**\u001b[0m\u001b[0mkwargs\u001b[0m\u001b[1;33m)\u001b[0m\u001b[1;33m:\u001b[0m\u001b[1;33m\u001b[0m\u001b[1;33m\u001b[0m\u001b[0m\n\u001b[0;32m   1105\u001b[0m     \u001b[0mout\u001b[0m \u001b[1;33m=\u001b[0m \u001b[0mBytesIO\u001b[0m\u001b[1;33m(\u001b[0m\u001b[1;33m)\u001b[0m\u001b[1;33m\u001b[0m\u001b[1;33m\u001b[0m\u001b[0m\n\u001b[1;32m-> 1106\u001b[1;33m     \u001b[0mself\u001b[0m\u001b[1;33m.\u001b[0m\u001b[0m_InternalSerialize\u001b[0m\u001b[1;33m(\u001b[0m\u001b[0mout\u001b[0m\u001b[1;33m.\u001b[0m\u001b[0mwrite\u001b[0m\u001b[1;33m,\u001b[0m \u001b[1;33m**\u001b[0m\u001b[0mkwargs\u001b[0m\u001b[1;33m)\u001b[0m\u001b[1;33m\u001b[0m\u001b[1;33m\u001b[0m\u001b[0m\n\u001b[0m\u001b[0;32m   1107\u001b[0m     \u001b[1;32mreturn\u001b[0m \u001b[0mout\u001b[0m\u001b[1;33m.\u001b[0m\u001b[0mgetvalue\u001b[0m\u001b[1;33m(\u001b[0m\u001b[1;33m)\u001b[0m\u001b[1;33m\u001b[0m\u001b[1;33m\u001b[0m\u001b[0m\n\u001b[0;32m   1108\u001b[0m   \u001b[0mcls\u001b[0m\u001b[1;33m.\u001b[0m\u001b[0mSerializePartialToString\u001b[0m \u001b[1;33m=\u001b[0m \u001b[0mSerializePartialToString\u001b[0m\u001b[1;33m\u001b[0m\u001b[1;33m\u001b[0m\u001b[0m\n",
      "\u001b[1;32m~\\Anaconda3\\lib\\site-packages\\google\\protobuf\\internal\\python_message.py\u001b[0m in \u001b[0;36mInternalSerialize\u001b[1;34m(self, write_bytes, deterministic)\u001b[0m\n\u001b[0;32m   1124\u001b[0m     \u001b[1;32melse\u001b[0m\u001b[1;33m:\u001b[0m\u001b[1;33m\u001b[0m\u001b[1;33m\u001b[0m\u001b[0m\n\u001b[0;32m   1125\u001b[0m       \u001b[1;32mfor\u001b[0m \u001b[0mfield_descriptor\u001b[0m\u001b[1;33m,\u001b[0m \u001b[0mfield_value\u001b[0m \u001b[1;32min\u001b[0m \u001b[0mself\u001b[0m\u001b[1;33m.\u001b[0m\u001b[0mListFields\u001b[0m\u001b[1;33m(\u001b[0m\u001b[1;33m)\u001b[0m\u001b[1;33m:\u001b[0m\u001b[1;33m\u001b[0m\u001b[1;33m\u001b[0m\u001b[0m\n\u001b[1;32m-> 1126\u001b[1;33m         \u001b[0mfield_descriptor\u001b[0m\u001b[1;33m.\u001b[0m\u001b[0m_encoder\u001b[0m\u001b[1;33m(\u001b[0m\u001b[0mwrite_bytes\u001b[0m\u001b[1;33m,\u001b[0m \u001b[0mfield_value\u001b[0m\u001b[1;33m,\u001b[0m \u001b[0mdeterministic\u001b[0m\u001b[1;33m)\u001b[0m\u001b[1;33m\u001b[0m\u001b[1;33m\u001b[0m\u001b[0m\n\u001b[0m\u001b[0;32m   1127\u001b[0m       \u001b[1;32mfor\u001b[0m \u001b[0mtag_bytes\u001b[0m\u001b[1;33m,\u001b[0m \u001b[0mvalue_bytes\u001b[0m \u001b[1;32min\u001b[0m \u001b[0mself\u001b[0m\u001b[1;33m.\u001b[0m\u001b[0m_unknown_fields\u001b[0m\u001b[1;33m:\u001b[0m\u001b[1;33m\u001b[0m\u001b[1;33m\u001b[0m\u001b[0m\n\u001b[0;32m   1128\u001b[0m         \u001b[0mwrite_bytes\u001b[0m\u001b[1;33m(\u001b[0m\u001b[0mtag_bytes\u001b[0m\u001b[1;33m)\u001b[0m\u001b[1;33m\u001b[0m\u001b[1;33m\u001b[0m\u001b[0m\n",
      "\u001b[1;32m~\\Anaconda3\\lib\\site-packages\\google\\protobuf\\internal\\encoder.py\u001b[0m in \u001b[0;36mEncodeRepeatedField\u001b[1;34m(write, value, deterministic)\u001b[0m\n\u001b[0;32m    761\u001b[0m         \u001b[0mwrite\u001b[0m\u001b[1;33m(\u001b[0m\u001b[0mtag\u001b[0m\u001b[1;33m)\u001b[0m\u001b[1;33m\u001b[0m\u001b[1;33m\u001b[0m\u001b[0m\n\u001b[0;32m    762\u001b[0m         \u001b[0mlocal_EncodeVarint\u001b[0m\u001b[1;33m(\u001b[0m\u001b[0mwrite\u001b[0m\u001b[1;33m,\u001b[0m \u001b[0melement\u001b[0m\u001b[1;33m.\u001b[0m\u001b[0mByteSize\u001b[0m\u001b[1;33m(\u001b[0m\u001b[1;33m)\u001b[0m\u001b[1;33m,\u001b[0m \u001b[0mdeterministic\u001b[0m\u001b[1;33m)\u001b[0m\u001b[1;33m\u001b[0m\u001b[1;33m\u001b[0m\u001b[0m\n\u001b[1;32m--> 763\u001b[1;33m         \u001b[0melement\u001b[0m\u001b[1;33m.\u001b[0m\u001b[0m_InternalSerialize\u001b[0m\u001b[1;33m(\u001b[0m\u001b[0mwrite\u001b[0m\u001b[1;33m,\u001b[0m \u001b[0mdeterministic\u001b[0m\u001b[1;33m)\u001b[0m\u001b[1;33m\u001b[0m\u001b[1;33m\u001b[0m\u001b[0m\n\u001b[0m\u001b[0;32m    764\u001b[0m     \u001b[1;32mreturn\u001b[0m \u001b[0mEncodeRepeatedField\u001b[0m\u001b[1;33m\u001b[0m\u001b[1;33m\u001b[0m\u001b[0m\n\u001b[0;32m    765\u001b[0m   \u001b[1;32melse\u001b[0m\u001b[1;33m:\u001b[0m\u001b[1;33m\u001b[0m\u001b[1;33m\u001b[0m\u001b[0m\n",
      "\u001b[1;32m~\\Anaconda3\\lib\\site-packages\\google\\protobuf\\internal\\python_message.py\u001b[0m in \u001b[0;36mInternalSerialize\u001b[1;34m(self, write_bytes, deterministic)\u001b[0m\n\u001b[0;32m   1124\u001b[0m     \u001b[1;32melse\u001b[0m\u001b[1;33m:\u001b[0m\u001b[1;33m\u001b[0m\u001b[1;33m\u001b[0m\u001b[0m\n\u001b[0;32m   1125\u001b[0m       \u001b[1;32mfor\u001b[0m \u001b[0mfield_descriptor\u001b[0m\u001b[1;33m,\u001b[0m \u001b[0mfield_value\u001b[0m \u001b[1;32min\u001b[0m \u001b[0mself\u001b[0m\u001b[1;33m.\u001b[0m\u001b[0mListFields\u001b[0m\u001b[1;33m(\u001b[0m\u001b[1;33m)\u001b[0m\u001b[1;33m:\u001b[0m\u001b[1;33m\u001b[0m\u001b[1;33m\u001b[0m\u001b[0m\n\u001b[1;32m-> 1126\u001b[1;33m         \u001b[0mfield_descriptor\u001b[0m\u001b[1;33m.\u001b[0m\u001b[0m_encoder\u001b[0m\u001b[1;33m(\u001b[0m\u001b[0mwrite_bytes\u001b[0m\u001b[1;33m,\u001b[0m \u001b[0mfield_value\u001b[0m\u001b[1;33m,\u001b[0m \u001b[0mdeterministic\u001b[0m\u001b[1;33m)\u001b[0m\u001b[1;33m\u001b[0m\u001b[1;33m\u001b[0m\u001b[0m\n\u001b[0m\u001b[0;32m   1127\u001b[0m       \u001b[1;32mfor\u001b[0m \u001b[0mtag_bytes\u001b[0m\u001b[1;33m,\u001b[0m \u001b[0mvalue_bytes\u001b[0m \u001b[1;32min\u001b[0m \u001b[0mself\u001b[0m\u001b[1;33m.\u001b[0m\u001b[0m_unknown_fields\u001b[0m\u001b[1;33m:\u001b[0m\u001b[1;33m\u001b[0m\u001b[1;33m\u001b[0m\u001b[0m\n\u001b[0;32m   1128\u001b[0m         \u001b[0mwrite_bytes\u001b[0m\u001b[1;33m(\u001b[0m\u001b[0mtag_bytes\u001b[0m\u001b[1;33m)\u001b[0m\u001b[1;33m\u001b[0m\u001b[1;33m\u001b[0m\u001b[0m\n",
      "\u001b[1;32m~\\Anaconda3\\lib\\site-packages\\google\\protobuf\\internal\\encoder.py\u001b[0m in \u001b[0;36mEncodeField\u001b[1;34m(write, value, deterministic)\u001b[0m\n\u001b[0;32m    767\u001b[0m       \u001b[0mwrite\u001b[0m\u001b[1;33m(\u001b[0m\u001b[0mtag\u001b[0m\u001b[1;33m)\u001b[0m\u001b[1;33m\u001b[0m\u001b[1;33m\u001b[0m\u001b[0m\n\u001b[0;32m    768\u001b[0m       \u001b[0mlocal_EncodeVarint\u001b[0m\u001b[1;33m(\u001b[0m\u001b[0mwrite\u001b[0m\u001b[1;33m,\u001b[0m \u001b[0mvalue\u001b[0m\u001b[1;33m.\u001b[0m\u001b[0mByteSize\u001b[0m\u001b[1;33m(\u001b[0m\u001b[1;33m)\u001b[0m\u001b[1;33m,\u001b[0m \u001b[0mdeterministic\u001b[0m\u001b[1;33m)\u001b[0m\u001b[1;33m\u001b[0m\u001b[1;33m\u001b[0m\u001b[0m\n\u001b[1;32m--> 769\u001b[1;33m       \u001b[1;32mreturn\u001b[0m \u001b[0mvalue\u001b[0m\u001b[1;33m.\u001b[0m\u001b[0m_InternalSerialize\u001b[0m\u001b[1;33m(\u001b[0m\u001b[0mwrite\u001b[0m\u001b[1;33m,\u001b[0m \u001b[0mdeterministic\u001b[0m\u001b[1;33m)\u001b[0m\u001b[1;33m\u001b[0m\u001b[1;33m\u001b[0m\u001b[0m\n\u001b[0m\u001b[0;32m    770\u001b[0m     \u001b[1;32mreturn\u001b[0m \u001b[0mEncodeField\u001b[0m\u001b[1;33m\u001b[0m\u001b[1;33m\u001b[0m\u001b[0m\n\u001b[0;32m    771\u001b[0m \u001b[1;33m\u001b[0m\u001b[0m\n",
      "\u001b[1;32m~\\Anaconda3\\lib\\site-packages\\google\\protobuf\\internal\\python_message.py\u001b[0m in \u001b[0;36mInternalSerialize\u001b[1;34m(self, write_bytes, deterministic)\u001b[0m\n\u001b[0;32m   1124\u001b[0m     \u001b[1;32melse\u001b[0m\u001b[1;33m:\u001b[0m\u001b[1;33m\u001b[0m\u001b[1;33m\u001b[0m\u001b[0m\n\u001b[0;32m   1125\u001b[0m       \u001b[1;32mfor\u001b[0m \u001b[0mfield_descriptor\u001b[0m\u001b[1;33m,\u001b[0m \u001b[0mfield_value\u001b[0m \u001b[1;32min\u001b[0m \u001b[0mself\u001b[0m\u001b[1;33m.\u001b[0m\u001b[0mListFields\u001b[0m\u001b[1;33m(\u001b[0m\u001b[1;33m)\u001b[0m\u001b[1;33m:\u001b[0m\u001b[1;33m\u001b[0m\u001b[1;33m\u001b[0m\u001b[0m\n\u001b[1;32m-> 1126\u001b[1;33m         \u001b[0mfield_descriptor\u001b[0m\u001b[1;33m.\u001b[0m\u001b[0m_encoder\u001b[0m\u001b[1;33m(\u001b[0m\u001b[0mwrite_bytes\u001b[0m\u001b[1;33m,\u001b[0m \u001b[0mfield_value\u001b[0m\u001b[1;33m,\u001b[0m \u001b[0mdeterministic\u001b[0m\u001b[1;33m)\u001b[0m\u001b[1;33m\u001b[0m\u001b[1;33m\u001b[0m\u001b[0m\n\u001b[0m\u001b[0;32m   1127\u001b[0m       \u001b[1;32mfor\u001b[0m \u001b[0mtag_bytes\u001b[0m\u001b[1;33m,\u001b[0m \u001b[0mvalue_bytes\u001b[0m \u001b[1;32min\u001b[0m \u001b[0mself\u001b[0m\u001b[1;33m.\u001b[0m\u001b[0m_unknown_fields\u001b[0m\u001b[1;33m:\u001b[0m\u001b[1;33m\u001b[0m\u001b[1;33m\u001b[0m\u001b[0m\n\u001b[0;32m   1128\u001b[0m         \u001b[0mwrite_bytes\u001b[0m\u001b[1;33m(\u001b[0m\u001b[0mtag_bytes\u001b[0m\u001b[1;33m)\u001b[0m\u001b[1;33m\u001b[0m\u001b[1;33m\u001b[0m\u001b[0m\n",
      "\u001b[1;32m~\\Anaconda3\\lib\\site-packages\\google\\protobuf\\internal\\encoder.py\u001b[0m in \u001b[0;36mEncodeField\u001b[1;34m(write, value, deterministic)\u001b[0m\n\u001b[0;32m    767\u001b[0m       \u001b[0mwrite\u001b[0m\u001b[1;33m(\u001b[0m\u001b[0mtag\u001b[0m\u001b[1;33m)\u001b[0m\u001b[1;33m\u001b[0m\u001b[1;33m\u001b[0m\u001b[0m\n\u001b[0;32m    768\u001b[0m       \u001b[0mlocal_EncodeVarint\u001b[0m\u001b[1;33m(\u001b[0m\u001b[0mwrite\u001b[0m\u001b[1;33m,\u001b[0m \u001b[0mvalue\u001b[0m\u001b[1;33m.\u001b[0m\u001b[0mByteSize\u001b[0m\u001b[1;33m(\u001b[0m\u001b[1;33m)\u001b[0m\u001b[1;33m,\u001b[0m \u001b[0mdeterministic\u001b[0m\u001b[1;33m)\u001b[0m\u001b[1;33m\u001b[0m\u001b[1;33m\u001b[0m\u001b[0m\n\u001b[1;32m--> 769\u001b[1;33m       \u001b[1;32mreturn\u001b[0m \u001b[0mvalue\u001b[0m\u001b[1;33m.\u001b[0m\u001b[0m_InternalSerialize\u001b[0m\u001b[1;33m(\u001b[0m\u001b[0mwrite\u001b[0m\u001b[1;33m,\u001b[0m \u001b[0mdeterministic\u001b[0m\u001b[1;33m)\u001b[0m\u001b[1;33m\u001b[0m\u001b[1;33m\u001b[0m\u001b[0m\n\u001b[0m\u001b[0;32m    770\u001b[0m     \u001b[1;32mreturn\u001b[0m \u001b[0mEncodeField\u001b[0m\u001b[1;33m\u001b[0m\u001b[1;33m\u001b[0m\u001b[0m\n\u001b[0;32m    771\u001b[0m \u001b[1;33m\u001b[0m\u001b[0m\n",
      "\u001b[1;32m~\\Anaconda3\\lib\\site-packages\\google\\protobuf\\internal\\python_message.py\u001b[0m in \u001b[0;36mInternalSerialize\u001b[1;34m(self, write_bytes, deterministic)\u001b[0m\n\u001b[0;32m   1124\u001b[0m     \u001b[1;32melse\u001b[0m\u001b[1;33m:\u001b[0m\u001b[1;33m\u001b[0m\u001b[1;33m\u001b[0m\u001b[0m\n\u001b[0;32m   1125\u001b[0m       \u001b[1;32mfor\u001b[0m \u001b[0mfield_descriptor\u001b[0m\u001b[1;33m,\u001b[0m \u001b[0mfield_value\u001b[0m \u001b[1;32min\u001b[0m \u001b[0mself\u001b[0m\u001b[1;33m.\u001b[0m\u001b[0mListFields\u001b[0m\u001b[1;33m(\u001b[0m\u001b[1;33m)\u001b[0m\u001b[1;33m:\u001b[0m\u001b[1;33m\u001b[0m\u001b[1;33m\u001b[0m\u001b[0m\n\u001b[1;32m-> 1126\u001b[1;33m         \u001b[0mfield_descriptor\u001b[0m\u001b[1;33m.\u001b[0m\u001b[0m_encoder\u001b[0m\u001b[1;33m(\u001b[0m\u001b[0mwrite_bytes\u001b[0m\u001b[1;33m,\u001b[0m \u001b[0mfield_value\u001b[0m\u001b[1;33m,\u001b[0m \u001b[0mdeterministic\u001b[0m\u001b[1;33m)\u001b[0m\u001b[1;33m\u001b[0m\u001b[1;33m\u001b[0m\u001b[0m\n\u001b[0m\u001b[0;32m   1127\u001b[0m       \u001b[1;32mfor\u001b[0m \u001b[0mtag_bytes\u001b[0m\u001b[1;33m,\u001b[0m \u001b[0mvalue_bytes\u001b[0m \u001b[1;32min\u001b[0m \u001b[0mself\u001b[0m\u001b[1;33m.\u001b[0m\u001b[0m_unknown_fields\u001b[0m\u001b[1;33m:\u001b[0m\u001b[1;33m\u001b[0m\u001b[1;33m\u001b[0m\u001b[0m\n\u001b[0;32m   1128\u001b[0m         \u001b[0mwrite_bytes\u001b[0m\u001b[1;33m(\u001b[0m\u001b[0mtag_bytes\u001b[0m\u001b[1;33m)\u001b[0m\u001b[1;33m\u001b[0m\u001b[1;33m\u001b[0m\u001b[0m\n",
      "\u001b[1;32m~\\Anaconda3\\lib\\site-packages\\google\\protobuf\\internal\\encoder.py\u001b[0m in \u001b[0;36mEncodeRepeatedField\u001b[1;34m(write, value, deterministic)\u001b[0m\n\u001b[0;32m    761\u001b[0m         \u001b[0mwrite\u001b[0m\u001b[1;33m(\u001b[0m\u001b[0mtag\u001b[0m\u001b[1;33m)\u001b[0m\u001b[1;33m\u001b[0m\u001b[1;33m\u001b[0m\u001b[0m\n\u001b[0;32m    762\u001b[0m         \u001b[0mlocal_EncodeVarint\u001b[0m\u001b[1;33m(\u001b[0m\u001b[0mwrite\u001b[0m\u001b[1;33m,\u001b[0m \u001b[0melement\u001b[0m\u001b[1;33m.\u001b[0m\u001b[0mByteSize\u001b[0m\u001b[1;33m(\u001b[0m\u001b[1;33m)\u001b[0m\u001b[1;33m,\u001b[0m \u001b[0mdeterministic\u001b[0m\u001b[1;33m)\u001b[0m\u001b[1;33m\u001b[0m\u001b[1;33m\u001b[0m\u001b[0m\n\u001b[1;32m--> 763\u001b[1;33m         \u001b[0melement\u001b[0m\u001b[1;33m.\u001b[0m\u001b[0m_InternalSerialize\u001b[0m\u001b[1;33m(\u001b[0m\u001b[0mwrite\u001b[0m\u001b[1;33m,\u001b[0m \u001b[0mdeterministic\u001b[0m\u001b[1;33m)\u001b[0m\u001b[1;33m\u001b[0m\u001b[1;33m\u001b[0m\u001b[0m\n\u001b[0m\u001b[0;32m    764\u001b[0m     \u001b[1;32mreturn\u001b[0m \u001b[0mEncodeRepeatedField\u001b[0m\u001b[1;33m\u001b[0m\u001b[1;33m\u001b[0m\u001b[0m\n\u001b[0;32m    765\u001b[0m   \u001b[1;32melse\u001b[0m\u001b[1;33m:\u001b[0m\u001b[1;33m\u001b[0m\u001b[1;33m\u001b[0m\u001b[0m\n",
      "\u001b[1;32m~\\Anaconda3\\lib\\site-packages\\google\\protobuf\\internal\\python_message.py\u001b[0m in \u001b[0;36mInternalSerialize\u001b[1;34m(self, write_bytes, deterministic)\u001b[0m\n\u001b[0;32m   1124\u001b[0m     \u001b[1;32melse\u001b[0m\u001b[1;33m:\u001b[0m\u001b[1;33m\u001b[0m\u001b[1;33m\u001b[0m\u001b[0m\n\u001b[0;32m   1125\u001b[0m       \u001b[1;32mfor\u001b[0m \u001b[0mfield_descriptor\u001b[0m\u001b[1;33m,\u001b[0m \u001b[0mfield_value\u001b[0m \u001b[1;32min\u001b[0m \u001b[0mself\u001b[0m\u001b[1;33m.\u001b[0m\u001b[0mListFields\u001b[0m\u001b[1;33m(\u001b[0m\u001b[1;33m)\u001b[0m\u001b[1;33m:\u001b[0m\u001b[1;33m\u001b[0m\u001b[1;33m\u001b[0m\u001b[0m\n\u001b[1;32m-> 1126\u001b[1;33m         \u001b[0mfield_descriptor\u001b[0m\u001b[1;33m.\u001b[0m\u001b[0m_encoder\u001b[0m\u001b[1;33m(\u001b[0m\u001b[0mwrite_bytes\u001b[0m\u001b[1;33m,\u001b[0m \u001b[0mfield_value\u001b[0m\u001b[1;33m,\u001b[0m \u001b[0mdeterministic\u001b[0m\u001b[1;33m)\u001b[0m\u001b[1;33m\u001b[0m\u001b[1;33m\u001b[0m\u001b[0m\n\u001b[0m\u001b[0;32m   1127\u001b[0m       \u001b[1;32mfor\u001b[0m \u001b[0mtag_bytes\u001b[0m\u001b[1;33m,\u001b[0m \u001b[0mvalue_bytes\u001b[0m \u001b[1;32min\u001b[0m \u001b[0mself\u001b[0m\u001b[1;33m.\u001b[0m\u001b[0m_unknown_fields\u001b[0m\u001b[1;33m:\u001b[0m\u001b[1;33m\u001b[0m\u001b[1;33m\u001b[0m\u001b[0m\n\u001b[0;32m   1128\u001b[0m         \u001b[0mwrite_bytes\u001b[0m\u001b[1;33m(\u001b[0m\u001b[0mtag_bytes\u001b[0m\u001b[1;33m)\u001b[0m\u001b[1;33m\u001b[0m\u001b[1;33m\u001b[0m\u001b[0m\n",
      "\u001b[1;32m~\\Anaconda3\\lib\\site-packages\\google\\protobuf\\internal\\encoder.py\u001b[0m in \u001b[0;36mEncodeRepeatedField\u001b[1;34m(write, value, deterministic)\u001b[0m\n\u001b[0;32m    761\u001b[0m         \u001b[0mwrite\u001b[0m\u001b[1;33m(\u001b[0m\u001b[0mtag\u001b[0m\u001b[1;33m)\u001b[0m\u001b[1;33m\u001b[0m\u001b[1;33m\u001b[0m\u001b[0m\n\u001b[0;32m    762\u001b[0m         \u001b[0mlocal_EncodeVarint\u001b[0m\u001b[1;33m(\u001b[0m\u001b[0mwrite\u001b[0m\u001b[1;33m,\u001b[0m \u001b[0melement\u001b[0m\u001b[1;33m.\u001b[0m\u001b[0mByteSize\u001b[0m\u001b[1;33m(\u001b[0m\u001b[1;33m)\u001b[0m\u001b[1;33m,\u001b[0m \u001b[0mdeterministic\u001b[0m\u001b[1;33m)\u001b[0m\u001b[1;33m\u001b[0m\u001b[1;33m\u001b[0m\u001b[0m\n\u001b[1;32m--> 763\u001b[1;33m         \u001b[0melement\u001b[0m\u001b[1;33m.\u001b[0m\u001b[0m_InternalSerialize\u001b[0m\u001b[1;33m(\u001b[0m\u001b[0mwrite\u001b[0m\u001b[1;33m,\u001b[0m \u001b[0mdeterministic\u001b[0m\u001b[1;33m)\u001b[0m\u001b[1;33m\u001b[0m\u001b[1;33m\u001b[0m\u001b[0m\n\u001b[0m\u001b[0;32m    764\u001b[0m     \u001b[1;32mreturn\u001b[0m \u001b[0mEncodeRepeatedField\u001b[0m\u001b[1;33m\u001b[0m\u001b[1;33m\u001b[0m\u001b[0m\n\u001b[0;32m    765\u001b[0m   \u001b[1;32melse\u001b[0m\u001b[1;33m:\u001b[0m\u001b[1;33m\u001b[0m\u001b[1;33m\u001b[0m\u001b[0m\n",
      "\u001b[1;32m~\\Anaconda3\\lib\\site-packages\\google\\protobuf\\internal\\python_message.py\u001b[0m in \u001b[0;36mInternalSerialize\u001b[1;34m(self, write_bytes, deterministic)\u001b[0m\n\u001b[0;32m   1124\u001b[0m     \u001b[1;32melse\u001b[0m\u001b[1;33m:\u001b[0m\u001b[1;33m\u001b[0m\u001b[1;33m\u001b[0m\u001b[0m\n\u001b[0;32m   1125\u001b[0m       \u001b[1;32mfor\u001b[0m \u001b[0mfield_descriptor\u001b[0m\u001b[1;33m,\u001b[0m \u001b[0mfield_value\u001b[0m \u001b[1;32min\u001b[0m \u001b[0mself\u001b[0m\u001b[1;33m.\u001b[0m\u001b[0mListFields\u001b[0m\u001b[1;33m(\u001b[0m\u001b[1;33m)\u001b[0m\u001b[1;33m:\u001b[0m\u001b[1;33m\u001b[0m\u001b[1;33m\u001b[0m\u001b[0m\n\u001b[1;32m-> 1126\u001b[1;33m         \u001b[0mfield_descriptor\u001b[0m\u001b[1;33m.\u001b[0m\u001b[0m_encoder\u001b[0m\u001b[1;33m(\u001b[0m\u001b[0mwrite_bytes\u001b[0m\u001b[1;33m,\u001b[0m \u001b[0mfield_value\u001b[0m\u001b[1;33m,\u001b[0m \u001b[0mdeterministic\u001b[0m\u001b[1;33m)\u001b[0m\u001b[1;33m\u001b[0m\u001b[1;33m\u001b[0m\u001b[0m\n\u001b[0m\u001b[0;32m   1127\u001b[0m       \u001b[1;32mfor\u001b[0m \u001b[0mtag_bytes\u001b[0m\u001b[1;33m,\u001b[0m \u001b[0mvalue_bytes\u001b[0m \u001b[1;32min\u001b[0m \u001b[0mself\u001b[0m\u001b[1;33m.\u001b[0m\u001b[0m_unknown_fields\u001b[0m\u001b[1;33m:\u001b[0m\u001b[1;33m\u001b[0m\u001b[1;33m\u001b[0m\u001b[0m\n\u001b[0;32m   1128\u001b[0m         \u001b[0mwrite_bytes\u001b[0m\u001b[1;33m(\u001b[0m\u001b[0mtag_bytes\u001b[0m\u001b[1;33m)\u001b[0m\u001b[1;33m\u001b[0m\u001b[1;33m\u001b[0m\u001b[0m\n",
      "\u001b[1;32m~\\Anaconda3\\lib\\site-packages\\google\\protobuf\\internal\\encoder.py\u001b[0m in \u001b[0;36mEncodeField\u001b[1;34m(write, value, deterministic)\u001b[0m\n\u001b[0;32m    826\u001b[0m     \u001b[1;32mfor\u001b[0m \u001b[0mkey\u001b[0m \u001b[1;32min\u001b[0m \u001b[0mvalue_keys\u001b[0m\u001b[1;33m:\u001b[0m\u001b[1;33m\u001b[0m\u001b[1;33m\u001b[0m\u001b[0m\n\u001b[0;32m    827\u001b[0m       \u001b[0mentry_msg\u001b[0m \u001b[1;33m=\u001b[0m \u001b[0mmessage_type\u001b[0m\u001b[1;33m.\u001b[0m\u001b[0m_concrete_class\u001b[0m\u001b[1;33m(\u001b[0m\u001b[0mkey\u001b[0m\u001b[1;33m=\u001b[0m\u001b[0mkey\u001b[0m\u001b[1;33m,\u001b[0m \u001b[0mvalue\u001b[0m\u001b[1;33m=\u001b[0m\u001b[0mvalue\u001b[0m\u001b[1;33m[\u001b[0m\u001b[0mkey\u001b[0m\u001b[1;33m]\u001b[0m\u001b[1;33m)\u001b[0m\u001b[1;33m\u001b[0m\u001b[1;33m\u001b[0m\u001b[0m\n\u001b[1;32m--> 828\u001b[1;33m       \u001b[0mencode_message\u001b[0m\u001b[1;33m(\u001b[0m\u001b[0mwrite\u001b[0m\u001b[1;33m,\u001b[0m \u001b[0mentry_msg\u001b[0m\u001b[1;33m,\u001b[0m \u001b[0mdeterministic\u001b[0m\u001b[1;33m)\u001b[0m\u001b[1;33m\u001b[0m\u001b[1;33m\u001b[0m\u001b[0m\n\u001b[0m\u001b[0;32m    829\u001b[0m \u001b[1;33m\u001b[0m\u001b[0m\n\u001b[0;32m    830\u001b[0m   \u001b[1;32mreturn\u001b[0m \u001b[0mEncodeField\u001b[0m\u001b[1;33m\u001b[0m\u001b[1;33m\u001b[0m\u001b[0m\n",
      "\u001b[1;32m~\\Anaconda3\\lib\\site-packages\\google\\protobuf\\internal\\encoder.py\u001b[0m in \u001b[0;36mEncodeField\u001b[1;34m(write, value, deterministic)\u001b[0m\n\u001b[0;32m    767\u001b[0m       \u001b[0mwrite\u001b[0m\u001b[1;33m(\u001b[0m\u001b[0mtag\u001b[0m\u001b[1;33m)\u001b[0m\u001b[1;33m\u001b[0m\u001b[1;33m\u001b[0m\u001b[0m\n\u001b[0;32m    768\u001b[0m       \u001b[0mlocal_EncodeVarint\u001b[0m\u001b[1;33m(\u001b[0m\u001b[0mwrite\u001b[0m\u001b[1;33m,\u001b[0m \u001b[0mvalue\u001b[0m\u001b[1;33m.\u001b[0m\u001b[0mByteSize\u001b[0m\u001b[1;33m(\u001b[0m\u001b[1;33m)\u001b[0m\u001b[1;33m,\u001b[0m \u001b[0mdeterministic\u001b[0m\u001b[1;33m)\u001b[0m\u001b[1;33m\u001b[0m\u001b[1;33m\u001b[0m\u001b[0m\n\u001b[1;32m--> 769\u001b[1;33m       \u001b[1;32mreturn\u001b[0m \u001b[0mvalue\u001b[0m\u001b[1;33m.\u001b[0m\u001b[0m_InternalSerialize\u001b[0m\u001b[1;33m(\u001b[0m\u001b[0mwrite\u001b[0m\u001b[1;33m,\u001b[0m \u001b[0mdeterministic\u001b[0m\u001b[1;33m)\u001b[0m\u001b[1;33m\u001b[0m\u001b[1;33m\u001b[0m\u001b[0m\n\u001b[0m\u001b[0;32m    770\u001b[0m     \u001b[1;32mreturn\u001b[0m \u001b[0mEncodeField\u001b[0m\u001b[1;33m\u001b[0m\u001b[1;33m\u001b[0m\u001b[0m\n\u001b[0;32m    771\u001b[0m \u001b[1;33m\u001b[0m\u001b[0m\n",
      "\u001b[1;32m~\\Anaconda3\\lib\\site-packages\\google\\protobuf\\internal\\python_message.py\u001b[0m in \u001b[0;36mInternalSerialize\u001b[1;34m(self, write_bytes, deterministic)\u001b[0m\n\u001b[0;32m   1120\u001b[0m       descriptor.fields_by_name['key']._encoder(\n\u001b[0;32m   1121\u001b[0m           write_bytes, self.key, deterministic)\n\u001b[1;32m-> 1122\u001b[1;33m       descriptor.fields_by_name['value']._encoder(\n\u001b[0m\u001b[0;32m   1123\u001b[0m           write_bytes, self.value, deterministic)\n\u001b[0;32m   1124\u001b[0m     \u001b[1;32melse\u001b[0m\u001b[1;33m:\u001b[0m\u001b[1;33m\u001b[0m\u001b[1;33m\u001b[0m\u001b[0m\n",
      "\u001b[1;32m~\\Anaconda3\\lib\\site-packages\\google\\protobuf\\internal\\encoder.py\u001b[0m in \u001b[0;36mEncodeField\u001b[1;34m(write, value, deterministic)\u001b[0m\n\u001b[0;32m    767\u001b[0m       \u001b[0mwrite\u001b[0m\u001b[1;33m(\u001b[0m\u001b[0mtag\u001b[0m\u001b[1;33m)\u001b[0m\u001b[1;33m\u001b[0m\u001b[1;33m\u001b[0m\u001b[0m\n\u001b[0;32m    768\u001b[0m       \u001b[0mlocal_EncodeVarint\u001b[0m\u001b[1;33m(\u001b[0m\u001b[0mwrite\u001b[0m\u001b[1;33m,\u001b[0m \u001b[0mvalue\u001b[0m\u001b[1;33m.\u001b[0m\u001b[0mByteSize\u001b[0m\u001b[1;33m(\u001b[0m\u001b[1;33m)\u001b[0m\u001b[1;33m,\u001b[0m \u001b[0mdeterministic\u001b[0m\u001b[1;33m)\u001b[0m\u001b[1;33m\u001b[0m\u001b[1;33m\u001b[0m\u001b[0m\n\u001b[1;32m--> 769\u001b[1;33m       \u001b[1;32mreturn\u001b[0m \u001b[0mvalue\u001b[0m\u001b[1;33m.\u001b[0m\u001b[0m_InternalSerialize\u001b[0m\u001b[1;33m(\u001b[0m\u001b[0mwrite\u001b[0m\u001b[1;33m,\u001b[0m \u001b[0mdeterministic\u001b[0m\u001b[1;33m)\u001b[0m\u001b[1;33m\u001b[0m\u001b[1;33m\u001b[0m\u001b[0m\n\u001b[0m\u001b[0;32m    770\u001b[0m     \u001b[1;32mreturn\u001b[0m \u001b[0mEncodeField\u001b[0m\u001b[1;33m\u001b[0m\u001b[1;33m\u001b[0m\u001b[0m\n\u001b[0;32m    771\u001b[0m \u001b[1;33m\u001b[0m\u001b[0m\n",
      "\u001b[1;32m~\\Anaconda3\\lib\\site-packages\\google\\protobuf\\internal\\python_message.py\u001b[0m in \u001b[0;36mInternalSerialize\u001b[1;34m(self, write_bytes, deterministic)\u001b[0m\n\u001b[0;32m   1124\u001b[0m     \u001b[1;32melse\u001b[0m\u001b[1;33m:\u001b[0m\u001b[1;33m\u001b[0m\u001b[1;33m\u001b[0m\u001b[0m\n\u001b[0;32m   1125\u001b[0m       \u001b[1;32mfor\u001b[0m \u001b[0mfield_descriptor\u001b[0m\u001b[1;33m,\u001b[0m \u001b[0mfield_value\u001b[0m \u001b[1;32min\u001b[0m \u001b[0mself\u001b[0m\u001b[1;33m.\u001b[0m\u001b[0mListFields\u001b[0m\u001b[1;33m(\u001b[0m\u001b[1;33m)\u001b[0m\u001b[1;33m:\u001b[0m\u001b[1;33m\u001b[0m\u001b[1;33m\u001b[0m\u001b[0m\n\u001b[1;32m-> 1126\u001b[1;33m         \u001b[0mfield_descriptor\u001b[0m\u001b[1;33m.\u001b[0m\u001b[0m_encoder\u001b[0m\u001b[1;33m(\u001b[0m\u001b[0mwrite_bytes\u001b[0m\u001b[1;33m,\u001b[0m \u001b[0mfield_value\u001b[0m\u001b[1;33m,\u001b[0m \u001b[0mdeterministic\u001b[0m\u001b[1;33m)\u001b[0m\u001b[1;33m\u001b[0m\u001b[1;33m\u001b[0m\u001b[0m\n\u001b[0m\u001b[0;32m   1127\u001b[0m       \u001b[1;32mfor\u001b[0m \u001b[0mtag_bytes\u001b[0m\u001b[1;33m,\u001b[0m \u001b[0mvalue_bytes\u001b[0m \u001b[1;32min\u001b[0m \u001b[0mself\u001b[0m\u001b[1;33m.\u001b[0m\u001b[0m_unknown_fields\u001b[0m\u001b[1;33m:\u001b[0m\u001b[1;33m\u001b[0m\u001b[1;33m\u001b[0m\u001b[0m\n\u001b[0;32m   1128\u001b[0m         \u001b[0mwrite_bytes\u001b[0m\u001b[1;33m(\u001b[0m\u001b[0mtag_bytes\u001b[0m\u001b[1;33m)\u001b[0m\u001b[1;33m\u001b[0m\u001b[1;33m\u001b[0m\u001b[0m\n",
      "\u001b[1;32m~\\Anaconda3\\lib\\site-packages\\google\\protobuf\\internal\\encoder.py\u001b[0m in \u001b[0;36mEncodeField\u001b[1;34m(write, value, deterministic)\u001b[0m\n\u001b[0;32m    767\u001b[0m       \u001b[0mwrite\u001b[0m\u001b[1;33m(\u001b[0m\u001b[0mtag\u001b[0m\u001b[1;33m)\u001b[0m\u001b[1;33m\u001b[0m\u001b[1;33m\u001b[0m\u001b[0m\n\u001b[0;32m    768\u001b[0m       \u001b[0mlocal_EncodeVarint\u001b[0m\u001b[1;33m(\u001b[0m\u001b[0mwrite\u001b[0m\u001b[1;33m,\u001b[0m \u001b[0mvalue\u001b[0m\u001b[1;33m.\u001b[0m\u001b[0mByteSize\u001b[0m\u001b[1;33m(\u001b[0m\u001b[1;33m)\u001b[0m\u001b[1;33m,\u001b[0m \u001b[0mdeterministic\u001b[0m\u001b[1;33m)\u001b[0m\u001b[1;33m\u001b[0m\u001b[1;33m\u001b[0m\u001b[0m\n\u001b[1;32m--> 769\u001b[1;33m       \u001b[1;32mreturn\u001b[0m \u001b[0mvalue\u001b[0m\u001b[1;33m.\u001b[0m\u001b[0m_InternalSerialize\u001b[0m\u001b[1;33m(\u001b[0m\u001b[0mwrite\u001b[0m\u001b[1;33m,\u001b[0m \u001b[0mdeterministic\u001b[0m\u001b[1;33m)\u001b[0m\u001b[1;33m\u001b[0m\u001b[1;33m\u001b[0m\u001b[0m\n\u001b[0m\u001b[0;32m    770\u001b[0m     \u001b[1;32mreturn\u001b[0m \u001b[0mEncodeField\u001b[0m\u001b[1;33m\u001b[0m\u001b[1;33m\u001b[0m\u001b[0m\n\u001b[0;32m    771\u001b[0m \u001b[1;33m\u001b[0m\u001b[0m\n",
      "\u001b[1;32m~\\Anaconda3\\lib\\site-packages\\google\\protobuf\\internal\\python_message.py\u001b[0m in \u001b[0;36mInternalSerialize\u001b[1;34m(self, write_bytes, deterministic)\u001b[0m\n\u001b[0;32m   1124\u001b[0m     \u001b[1;32melse\u001b[0m\u001b[1;33m:\u001b[0m\u001b[1;33m\u001b[0m\u001b[1;33m\u001b[0m\u001b[0m\n\u001b[0;32m   1125\u001b[0m       \u001b[1;32mfor\u001b[0m \u001b[0mfield_descriptor\u001b[0m\u001b[1;33m,\u001b[0m \u001b[0mfield_value\u001b[0m \u001b[1;32min\u001b[0m \u001b[0mself\u001b[0m\u001b[1;33m.\u001b[0m\u001b[0mListFields\u001b[0m\u001b[1;33m(\u001b[0m\u001b[1;33m)\u001b[0m\u001b[1;33m:\u001b[0m\u001b[1;33m\u001b[0m\u001b[1;33m\u001b[0m\u001b[0m\n\u001b[1;32m-> 1126\u001b[1;33m         \u001b[0mfield_descriptor\u001b[0m\u001b[1;33m.\u001b[0m\u001b[0m_encoder\u001b[0m\u001b[1;33m(\u001b[0m\u001b[0mwrite_bytes\u001b[0m\u001b[1;33m,\u001b[0m \u001b[0mfield_value\u001b[0m\u001b[1;33m,\u001b[0m \u001b[0mdeterministic\u001b[0m\u001b[1;33m)\u001b[0m\u001b[1;33m\u001b[0m\u001b[1;33m\u001b[0m\u001b[0m\n\u001b[0m\u001b[0;32m   1127\u001b[0m       \u001b[1;32mfor\u001b[0m \u001b[0mtag_bytes\u001b[0m\u001b[1;33m,\u001b[0m \u001b[0mvalue_bytes\u001b[0m \u001b[1;32min\u001b[0m \u001b[0mself\u001b[0m\u001b[1;33m.\u001b[0m\u001b[0m_unknown_fields\u001b[0m\u001b[1;33m:\u001b[0m\u001b[1;33m\u001b[0m\u001b[1;33m\u001b[0m\u001b[0m\n\u001b[0;32m   1128\u001b[0m         \u001b[0mwrite_bytes\u001b[0m\u001b[1;33m(\u001b[0m\u001b[0mtag_bytes\u001b[0m\u001b[1;33m)\u001b[0m\u001b[1;33m\u001b[0m\u001b[1;33m\u001b[0m\u001b[0m\n",
      "\u001b[1;32m~\\Anaconda3\\lib\\site-packages\\google\\protobuf\\internal\\encoder.py\u001b[0m in \u001b[0;36mEncodeRepeatedField\u001b[1;34m(write, value, deterministic)\u001b[0m\n\u001b[0;32m    761\u001b[0m         \u001b[0mwrite\u001b[0m\u001b[1;33m(\u001b[0m\u001b[0mtag\u001b[0m\u001b[1;33m)\u001b[0m\u001b[1;33m\u001b[0m\u001b[1;33m\u001b[0m\u001b[0m\n\u001b[0;32m    762\u001b[0m         \u001b[0mlocal_EncodeVarint\u001b[0m\u001b[1;33m(\u001b[0m\u001b[0mwrite\u001b[0m\u001b[1;33m,\u001b[0m \u001b[0melement\u001b[0m\u001b[1;33m.\u001b[0m\u001b[0mByteSize\u001b[0m\u001b[1;33m(\u001b[0m\u001b[1;33m)\u001b[0m\u001b[1;33m,\u001b[0m \u001b[0mdeterministic\u001b[0m\u001b[1;33m)\u001b[0m\u001b[1;33m\u001b[0m\u001b[1;33m\u001b[0m\u001b[0m\n\u001b[1;32m--> 763\u001b[1;33m         \u001b[0melement\u001b[0m\u001b[1;33m.\u001b[0m\u001b[0m_InternalSerialize\u001b[0m\u001b[1;33m(\u001b[0m\u001b[0mwrite\u001b[0m\u001b[1;33m,\u001b[0m \u001b[0mdeterministic\u001b[0m\u001b[1;33m)\u001b[0m\u001b[1;33m\u001b[0m\u001b[1;33m\u001b[0m\u001b[0m\n\u001b[0m\u001b[0;32m    764\u001b[0m     \u001b[1;32mreturn\u001b[0m \u001b[0mEncodeRepeatedField\u001b[0m\u001b[1;33m\u001b[0m\u001b[1;33m\u001b[0m\u001b[0m\n\u001b[0;32m    765\u001b[0m   \u001b[1;32melse\u001b[0m\u001b[1;33m:\u001b[0m\u001b[1;33m\u001b[0m\u001b[1;33m\u001b[0m\u001b[0m\n",
      "\u001b[1;32m~\\Anaconda3\\lib\\site-packages\\google\\protobuf\\internal\\python_message.py\u001b[0m in \u001b[0;36mInternalSerialize\u001b[1;34m(self, write_bytes, deterministic)\u001b[0m\n\u001b[0;32m   1124\u001b[0m     \u001b[1;32melse\u001b[0m\u001b[1;33m:\u001b[0m\u001b[1;33m\u001b[0m\u001b[1;33m\u001b[0m\u001b[0m\n\u001b[0;32m   1125\u001b[0m       \u001b[1;32mfor\u001b[0m \u001b[0mfield_descriptor\u001b[0m\u001b[1;33m,\u001b[0m \u001b[0mfield_value\u001b[0m \u001b[1;32min\u001b[0m \u001b[0mself\u001b[0m\u001b[1;33m.\u001b[0m\u001b[0mListFields\u001b[0m\u001b[1;33m(\u001b[0m\u001b[1;33m)\u001b[0m\u001b[1;33m:\u001b[0m\u001b[1;33m\u001b[0m\u001b[1;33m\u001b[0m\u001b[0m\n\u001b[1;32m-> 1126\u001b[1;33m         \u001b[0mfield_descriptor\u001b[0m\u001b[1;33m.\u001b[0m\u001b[0m_encoder\u001b[0m\u001b[1;33m(\u001b[0m\u001b[0mwrite_bytes\u001b[0m\u001b[1;33m,\u001b[0m \u001b[0mfield_value\u001b[0m\u001b[1;33m,\u001b[0m \u001b[0mdeterministic\u001b[0m\u001b[1;33m)\u001b[0m\u001b[1;33m\u001b[0m\u001b[1;33m\u001b[0m\u001b[0m\n\u001b[0m\u001b[0;32m   1127\u001b[0m       \u001b[1;32mfor\u001b[0m \u001b[0mtag_bytes\u001b[0m\u001b[1;33m,\u001b[0m \u001b[0mvalue_bytes\u001b[0m \u001b[1;32min\u001b[0m \u001b[0mself\u001b[0m\u001b[1;33m.\u001b[0m\u001b[0m_unknown_fields\u001b[0m\u001b[1;33m:\u001b[0m\u001b[1;33m\u001b[0m\u001b[1;33m\u001b[0m\u001b[0m\n\u001b[0;32m   1128\u001b[0m         \u001b[0mwrite_bytes\u001b[0m\u001b[1;33m(\u001b[0m\u001b[0mtag_bytes\u001b[0m\u001b[1;33m)\u001b[0m\u001b[1;33m\u001b[0m\u001b[1;33m\u001b[0m\u001b[0m\n",
      "\u001b[1;32m~\\Anaconda3\\lib\\site-packages\\google\\protobuf\\internal\\encoder.py\u001b[0m in \u001b[0;36mEncodeRepeatedField\u001b[1;34m(write, value, deterministic)\u001b[0m\n\u001b[0;32m    761\u001b[0m         \u001b[0mwrite\u001b[0m\u001b[1;33m(\u001b[0m\u001b[0mtag\u001b[0m\u001b[1;33m)\u001b[0m\u001b[1;33m\u001b[0m\u001b[1;33m\u001b[0m\u001b[0m\n\u001b[0;32m    762\u001b[0m         \u001b[0mlocal_EncodeVarint\u001b[0m\u001b[1;33m(\u001b[0m\u001b[0mwrite\u001b[0m\u001b[1;33m,\u001b[0m \u001b[0melement\u001b[0m\u001b[1;33m.\u001b[0m\u001b[0mByteSize\u001b[0m\u001b[1;33m(\u001b[0m\u001b[1;33m)\u001b[0m\u001b[1;33m,\u001b[0m \u001b[0mdeterministic\u001b[0m\u001b[1;33m)\u001b[0m\u001b[1;33m\u001b[0m\u001b[1;33m\u001b[0m\u001b[0m\n\u001b[1;32m--> 763\u001b[1;33m         \u001b[0melement\u001b[0m\u001b[1;33m.\u001b[0m\u001b[0m_InternalSerialize\u001b[0m\u001b[1;33m(\u001b[0m\u001b[0mwrite\u001b[0m\u001b[1;33m,\u001b[0m \u001b[0mdeterministic\u001b[0m\u001b[1;33m)\u001b[0m\u001b[1;33m\u001b[0m\u001b[1;33m\u001b[0m\u001b[0m\n\u001b[0m\u001b[0;32m    764\u001b[0m     \u001b[1;32mreturn\u001b[0m \u001b[0mEncodeRepeatedField\u001b[0m\u001b[1;33m\u001b[0m\u001b[1;33m\u001b[0m\u001b[0m\n\u001b[0;32m    765\u001b[0m   \u001b[1;32melse\u001b[0m\u001b[1;33m:\u001b[0m\u001b[1;33m\u001b[0m\u001b[1;33m\u001b[0m\u001b[0m\n",
      "\u001b[1;32m~\\Anaconda3\\lib\\site-packages\\google\\protobuf\\internal\\python_message.py\u001b[0m in \u001b[0;36mInternalSerialize\u001b[1;34m(self, write_bytes, deterministic)\u001b[0m\n\u001b[0;32m   1124\u001b[0m     \u001b[1;32melse\u001b[0m\u001b[1;33m:\u001b[0m\u001b[1;33m\u001b[0m\u001b[1;33m\u001b[0m\u001b[0m\n\u001b[0;32m   1125\u001b[0m       \u001b[1;32mfor\u001b[0m \u001b[0mfield_descriptor\u001b[0m\u001b[1;33m,\u001b[0m \u001b[0mfield_value\u001b[0m \u001b[1;32min\u001b[0m \u001b[0mself\u001b[0m\u001b[1;33m.\u001b[0m\u001b[0mListFields\u001b[0m\u001b[1;33m(\u001b[0m\u001b[1;33m)\u001b[0m\u001b[1;33m:\u001b[0m\u001b[1;33m\u001b[0m\u001b[1;33m\u001b[0m\u001b[0m\n\u001b[1;32m-> 1126\u001b[1;33m         \u001b[0mfield_descriptor\u001b[0m\u001b[1;33m.\u001b[0m\u001b[0m_encoder\u001b[0m\u001b[1;33m(\u001b[0m\u001b[0mwrite_bytes\u001b[0m\u001b[1;33m,\u001b[0m \u001b[0mfield_value\u001b[0m\u001b[1;33m,\u001b[0m \u001b[0mdeterministic\u001b[0m\u001b[1;33m)\u001b[0m\u001b[1;33m\u001b[0m\u001b[1;33m\u001b[0m\u001b[0m\n\u001b[0m\u001b[0;32m   1127\u001b[0m       \u001b[1;32mfor\u001b[0m \u001b[0mtag_bytes\u001b[0m\u001b[1;33m,\u001b[0m \u001b[0mvalue_bytes\u001b[0m \u001b[1;32min\u001b[0m \u001b[0mself\u001b[0m\u001b[1;33m.\u001b[0m\u001b[0m_unknown_fields\u001b[0m\u001b[1;33m:\u001b[0m\u001b[1;33m\u001b[0m\u001b[1;33m\u001b[0m\u001b[0m\n\u001b[0;32m   1128\u001b[0m         \u001b[0mwrite_bytes\u001b[0m\u001b[1;33m(\u001b[0m\u001b[0mtag_bytes\u001b[0m\u001b[1;33m)\u001b[0m\u001b[1;33m\u001b[0m\u001b[1;33m\u001b[0m\u001b[0m\n",
      "\u001b[1;32m~\\Anaconda3\\lib\\site-packages\\google\\protobuf\\internal\\encoder.py\u001b[0m in \u001b[0;36mEncodeField\u001b[1;34m(write, value, deterministic)\u001b[0m\n\u001b[0;32m    464\u001b[0m       \u001b[1;32mdef\u001b[0m \u001b[0mEncodeField\u001b[0m\u001b[1;33m(\u001b[0m\u001b[0mwrite\u001b[0m\u001b[1;33m,\u001b[0m \u001b[0mvalue\u001b[0m\u001b[1;33m,\u001b[0m \u001b[0mdeterministic\u001b[0m\u001b[1;33m)\u001b[0m\u001b[1;33m:\u001b[0m\u001b[1;33m\u001b[0m\u001b[1;33m\u001b[0m\u001b[0m\n\u001b[0;32m    465\u001b[0m         \u001b[0mwrite\u001b[0m\u001b[1;33m(\u001b[0m\u001b[0mtag_bytes\u001b[0m\u001b[1;33m)\u001b[0m\u001b[1;33m\u001b[0m\u001b[1;33m\u001b[0m\u001b[0m\n\u001b[1;32m--> 466\u001b[1;33m         \u001b[1;32mreturn\u001b[0m \u001b[0mencode_value\u001b[0m\u001b[1;33m(\u001b[0m\u001b[0mwrite\u001b[0m\u001b[1;33m,\u001b[0m \u001b[0mvalue\u001b[0m\u001b[1;33m,\u001b[0m \u001b[0mdeterministic\u001b[0m\u001b[1;33m)\u001b[0m\u001b[1;33m\u001b[0m\u001b[1;33m\u001b[0m\u001b[0m\n\u001b[0m\u001b[0;32m    467\u001b[0m       \u001b[1;32mreturn\u001b[0m \u001b[0mEncodeField\u001b[0m\u001b[1;33m\u001b[0m\u001b[1;33m\u001b[0m\u001b[0m\n\u001b[0;32m    468\u001b[0m \u001b[1;33m\u001b[0m\u001b[0m\n",
      "\u001b[1;32m~\\Anaconda3\\lib\\site-packages\\google\\protobuf\\internal\\encoder.py\u001b[0m in \u001b[0;36mEncodeSignedVarint\u001b[1;34m(write, value, unused_deterministic)\u001b[0m\n\u001b[0;32m    397\u001b[0m     \u001b[0mvalue\u001b[0m \u001b[1;33m>>=\u001b[0m \u001b[1;36m7\u001b[0m\u001b[1;33m\u001b[0m\u001b[1;33m\u001b[0m\u001b[0m\n\u001b[0;32m    398\u001b[0m     \u001b[1;32mwhile\u001b[0m \u001b[0mvalue\u001b[0m\u001b[1;33m:\u001b[0m\u001b[1;33m\u001b[0m\u001b[1;33m\u001b[0m\u001b[0m\n\u001b[1;32m--> 399\u001b[1;33m       \u001b[0mwrite\u001b[0m\u001b[1;33m(\u001b[0m\u001b[0mlocal_int2byte\u001b[0m\u001b[1;33m(\u001b[0m\u001b[1;36m0x80\u001b[0m\u001b[1;33m|\u001b[0m\u001b[0mbits\u001b[0m\u001b[1;33m)\u001b[0m\u001b[1;33m)\u001b[0m\u001b[1;33m\u001b[0m\u001b[1;33m\u001b[0m\u001b[0m\n\u001b[0m\u001b[0;32m    400\u001b[0m       \u001b[0mbits\u001b[0m \u001b[1;33m=\u001b[0m \u001b[0mvalue\u001b[0m \u001b[1;33m&\u001b[0m \u001b[1;36m0x7f\u001b[0m\u001b[1;33m\u001b[0m\u001b[1;33m\u001b[0m\u001b[0m\n\u001b[0;32m    401\u001b[0m       \u001b[0mvalue\u001b[0m \u001b[1;33m>>=\u001b[0m \u001b[1;36m7\u001b[0m\u001b[1;33m\u001b[0m\u001b[1;33m\u001b[0m\u001b[0m\n",
      "\u001b[1;31mKeyboardInterrupt\u001b[0m: "
     ]
    }
   ],
   "source": [
    "model.save('RNN')"
   ]
  },
  {
   "cell_type": "code",
   "execution_count": 143,
   "id": "52f9b292",
   "metadata": {},
   "outputs": [],
   "source": [
    "y_pred = model.predict(X_test)\n",
    "y_pred=y_pred.argmax(axis=2)"
   ]
  },
  {
   "cell_type": "code",
   "execution_count": 144,
   "id": "2315a76c",
   "metadata": {},
   "outputs": [
    {
     "data": {
      "image/png": "[encoded data removed]",
      "text/plain": [
       "<Figure size 1080x720 with 1 Axes>"
      ]
     },
     "metadata": {
      "needs_background": "light"
     },
     "output_type": "display_data"
    }
   ],
   "source": [
    "n = 0\n",
    "plt.figure(figsize=(15,10))\n",
    "plt.plot(y_pred[n,:],'r--')\n",
    "plt.plot(y_test[n,:],'k-')\n",
    "plt.show()"
   ]
  },
  {
   "cell_type": "code",
   "execution_count": 146,
   "id": "a001d138",
   "metadata": {},
   "outputs": [
    {
     "name": "stdout",
     "output_type": "stream",
     "text": [
      "0.523781512605042\n"
     ]
    },
    {
     "data": {
      "image/png": "[encoded data removed]",
      "text/plain": [
       "<Figure size 864x864 with 1 Axes>"
      ]
     },
     "metadata": {
      "needs_background": "light"
     },
     "output_type": "display_data"
    }
   ],
   "source": [
    "from sklearn.metrics import confusion_matrix\n",
    "\n",
    "y_p = y_pred.reshape(-1,1)\n",
    "y_true = y_test.reshape(-1,1)\n",
    "\n",
    "cm = confusion_matrix(y_true,y_p)\n",
    "misclassification_rate = 1-np.diagonal(cm).sum()/y_true.shape[0]\n",
    "print(misclassification_rate)\n",
    "\n",
    "from seaborn import heatmap\n",
    "\n",
    "plt.figure(figsize=(12,12))\n",
    "plt.imshow(cm)\n",
    "plt.show()"
   ]
  },
  {
   "cell_type": "code",
   "execution_count": 147,
   "id": "4e46cb5c",
   "metadata": {},
   "outputs": [
    {
     "data": {
      "image/png": "[encoded data removed]",
      "text/plain": [
       "<Figure size 864x864 with 2 Axes>"
      ]
     },
     "metadata": {
      "needs_background": "light"
     },
     "output_type": "display_data"
    }
   ],
   "source": [
    "fig, ax = plt.subplots(2,figsize=(12,12))\n",
    "ax[0].hist(y_true,bins=24)\n",
    "ax[1].hist(y_p,bins=24)\n",
    "ax[1].set_xlabel('Sensor number')\n",
    "ax[0].set_ylabel('Counts')\n",
    "ax[1].set_ylabel('Counts')\n",
    "ax[0].set_title('True maximum strain locations')\n",
    "ax[1].set_title('Predicted maximum strain locations')\n",
    "plt.show()"
   ]
  },
  {
   "cell_type": "markdown",
   "id": "9b01f834",
   "metadata": {},
   "source": [
    "## CNN 2D"
   ]
  },
  {
   "cell_type": "code",
   "execution_count": null,
   "id": "3358bd2b",
   "metadata": {},
   "outputs": [],
   "source": [
    "X = np.vstack((pos_IL,pos_CF)).transpose()\n",
    "Y = np.vstack((strain_CF.argmax(axis=0)))\n",
    "\n",
    "scaler = StandardScaler().fit(X)\n",
    "X = scaler.transform(X)\n",
    "\n",
    "X_train, X_test, y_train, y_test = train_test_split(X, Y, test_size=0.33, random_state=42,shuffle=False)\n",
    "\n",
    "n_features = X_train.shape[1]\n",
    "n_outputs = Y.max()+1\n",
    "\n",
    "X_train = X_train.reshape(X_train.shape[0],int(n_features/2),2,1)\n",
    "X_test = X_test.reshape(X_test.shape[0],int(n_features/2),2,1)"
   ]
  },
  {
   "cell_type": "code",
   "execution_count": null,
   "id": "fa8f74c4",
   "metadata": {},
   "outputs": [],
   "source": [
    "input_shape=(None,8,2,1)\n",
    "model = Sequential(name='CNN')\n",
    "model.add(Input(shape=(8,2,1)))\n",
    "model.add(Conv2D(\n",
    "            filters=32,\n",
    "            kernel_size=(2,2),\n",
    "            strides=1,\n",
    "            activation='tanh',\n",
    "            padding='same'))\n",
    "model.add(MaxPooling2D(pool_size=(2,2)))\n",
    "model.add(Flatten())\n",
    "model.add(Dense(n_outputs, activation='softmax'))\n",
    "model.summary()\n",
    "model.compile(optimizer=\"Adam\", loss=\"sparse_categorical_crossentropy\", metrics=['SparseCategoricalAccuracy'])"
   ]
  },
  {
   "cell_type": "code",
   "execution_count": null,
   "id": "29ff5724",
   "metadata": {},
   "outputs": [],
   "source": [
    "callback = tf.keras.callbacks.EarlyStopping(monitor='loss', patience=3)\n",
    "model.fit(X_train,y_train,epochs=100,callbacks=callback,batch_size=b_size)"
   ]
  },
  {
   "cell_type": "code",
   "execution_count": null,
   "id": "ad65ae0d",
   "metadata": {},
   "outputs": [],
   "source": [
    "y_pred = model.predict(X_test)\n",
    "y_pred = y_pred.argmax(axis=1)"
   ]
  },
  {
   "cell_type": "code",
   "execution_count": null,
   "id": "e234ee6d",
   "metadata": {},
   "outputs": [],
   "source": [
    "f1 = 1\n",
    "f2 = 1\n",
    "\n",
    "plt.figure(figsize=(12,12))\n",
    "plt.plot(X_test[:,f1,f2,:],y_test,'bo')\n",
    "plt.plot(X_test[:,f1,f2,:],y_pred,'r.')\n",
    "plt.title('CF')\n",
    "\n",
    "#plt.figure(figsize=(12,12))\n",
    "#plt.plot(X_test[n,:,f],y_test[n,:,1],'b-')\n",
    "#plt.plot(X_test[n,:,f],y_pred[n,:,1],'r-')\n",
    "#plt.title('CF')\n",
    "\n"
   ]
  },
  {
   "cell_type": "code",
   "execution_count": null,
   "id": "d0075c08",
   "metadata": {},
   "outputs": [],
   "source": [
    "from sklearn.metrics import confusion_matrix\n",
    "\n",
    "y_p = y_pred.reshape(-1,1)\n",
    "y_true = y_test.reshape(-1,1)\n",
    "\n",
    "cm = confusion_matrix(y_true,y_p)"
   ]
  },
  {
   "cell_type": "code",
   "execution_count": null,
   "id": "3ce2f047",
   "metadata": {},
   "outputs": [],
   "source": [
    "misclassification_rate = 1-np.diagonal(cm).sum()/y_true.shape[0]\n",
    "print(misclassification_rate)"
   ]
  },
  {
   "cell_type": "code",
   "execution_count": null,
   "id": "a3e7e59a",
   "metadata": {},
   "outputs": [],
   "source": [
    "from seaborn import heatmap\n",
    "\n",
    "plt.figure(figsize=(12,12))\n",
    "plt.imshow(cm)\n",
    "plt.show()"
   ]
  }
 ],
 "metadata": {
  "kernelspec": {
   "display_name": "Python 3",
   "language": "python",
   "name": "python3"
  },
  "language_info": {
   "codemirror_mode": {
    "name": "ipython",
    "version": 3
   },
   "file_extension": ".py",
   "mimetype": "text/x-python",
   "name": "python",
   "nbconvert_exporter": "python",
   "pygments_lexer": "ipython3",
   "version": "3.8.5"
  }
 },
 "nbformat": 4,
 "nbformat_minor": 5
}
