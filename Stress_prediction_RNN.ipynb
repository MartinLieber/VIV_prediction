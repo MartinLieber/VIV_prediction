{
 "cells": [
  {
   "cell_type": "code",
   "execution_count": 136,
   "id": "5f5436ec",
   "metadata": {},
   "outputs": [],
   "source": [
    "import scipy.io\n",
    "import numpy as np\n",
    "import matplotlib.pyplot as plt\n",
    "import tensorflow as tf\n",
    "from tensorflow.keras import Sequential\n",
    "from tensorflow.keras.layers import Dense, LSTM, Embedding, TimeDistributed, Dropout, MaxPooling1D, MaxPooling2D, Conv2D, Input, Flatten\n",
    "from sklearn.model_selection import train_test_split\n",
    "from sklearn.preprocessing import StandardScaler\n",
    "from tensorflow.keras.callbacks import EarlyStopping\n",
    "from sklearn.cluster import KMeans\n",
    "from scipy.stats import kurtosis, skew\n",
    "from sklearn.metrics import confusion_matrix\n",
    "from seaborn import heatmap\n"
   ]
  },
  {
   "cell_type": "code",
   "execution_count": 137,
   "id": "3dd6141c",
   "metadata": {},
   "outputs": [],
   "source": [
    "def disp2vel(disp,dt):\n",
    "    vel = np.zeros(disp.shape)\n",
    "    vel[:,1:] = (disp[:,1:]-disp[:,0:-1])/dt\n",
    "    vel[:,0] = -2*vel[:,0]+vel[:,1]\n",
    "    return vel\n",
    "\n",
    "def vel2acc(vel,dt):\n",
    "    acc = np.zeros(vel.shape)\n",
    "    acc[:,1:] = (vel[:,1:]-vel[:,0:-1])/dt\n",
    "    acc[:,0] = -2*acc[:,0]+acc[:,1]\n",
    "    return acc\n",
    "\n",
    "def acc2vel(acc,dt):\n",
    "    vel = np.zeros(acc.shape)\n",
    "    for i in range(0,vel.shape[1]-1):\n",
    "        vel[:,i+1] = vel[:,i]+1/2*(acc[:,i+1]+acc[:,i])*dt\n",
    "    print(i)\n",
    "    return vel\n",
    "\n",
    "def vel2disp(vel,dt):\n",
    "    disp = np.zeros(vel.shape)\n",
    "    for i in range(1,disp.shape[1]-1):\n",
    "        disp[:,i+1] = disp[:,i]+1/2*(vel[:,i+1]+vel[:,i])*dt\n",
    "    return disp"
   ]
  },
  {
   "cell_type": "code",
   "execution_count": 138,
   "id": "5e270910",
   "metadata": {},
   "outputs": [],
   "source": [
    "mat = scipy.io.loadmat('test2010.mat')"
   ]
  },
  {
   "cell_type": "code",
   "execution_count": 139,
   "id": "d79c05e9",
   "metadata": {},
   "outputs": [],
   "source": [
    "chan_names = mat['chan_names']\n",
    "data = mat['data']"
   ]
  },
  {
   "cell_type": "code",
   "execution_count": 140,
   "id": "4bca0162",
   "metadata": {},
   "outputs": [],
   "source": [
    "D = 0.027\n",
    "\n",
    "t1 = 15\n",
    "t2 = 165\n",
    "Fs = 1200\n",
    "dt = 1/Fs\n",
    "tst = t1*Fs\n",
    "ted = t2*Fs\n",
    "\n",
    "nm = data.shape[1]\n",
    "time = np.arange(0,nm-1)*dt\n",
    "time = time[tst:ted].reshape(1,-1)\n",
    "\n",
    "strain_CF = data[46:70,tst:ted]\n",
    "strain_IL = data[6:46,tst:ted]\n",
    "pos_IL = data[98:106,tst:ted]\n",
    "pos_CF = data[106:114,tst:ted]\n",
    "acc_IL = data[70:78,tst:ted]\n",
    "acc_CF = data[78:86,tst:ted]\n",
    "\n",
    "# Strain sensor positions\n",
    "str_il = np.array([1.143,2.555,3.084,3.224,4.155,5.759,6.030,7.664,8.216,8.609,8.889,9.703,10.285,13.676,13.772,\n",
    "                     15.393,16.452,16.547,16.891,19.997,20.193,21.393,21.603,22.460,23.165,25.153,25.442,26.254,27.532,\n",
    "                     28.698,28.863,29.365,31.191,31.415,32.796,33.005,35.549,36.559,36.824,37.322])\n",
    "str_sensor_cf = np.array([2,3,4,5,7,10,11,13,14,17,19,20,21,22,24,25,26,28,31,32,33,36,38,40])-1\n",
    "str_cf = str_il[str_sensor_cf]\n",
    "\n",
    "# Accelerometer positions\n",
    "acc_pos = np.array([4.155,8.609,13.676,16.891,21.393,25.153,28.863,33.005])\n",
    "\n",
    "# Finding indices for strain locations which will be fused \n",
    "sensor_diff_il = np.abs(np.tile(str_il,(8,1)).T - acc_pos)\n",
    "sensor_transform_index_il = np.argmin(sensor_diff_il,axis=1)\n",
    "\n",
    "sensor_diff_cf = np.abs(np.tile(str_cf,(8,1)).T - acc_pos)\n",
    "sensor_transform_index_cf = np.argmin(sensor_diff_cf,axis=1)\n",
    "\n",
    "max_strain_CF = strain_CF.argmax(axis=0)\n",
    "max_strain_CF_loc = str_cf[max_strain_CF]"
   ]
  },
  {
   "cell_type": "code",
   "execution_count": 147,
   "id": "e5da6f35",
   "metadata": {},
   "outputs": [],
   "source": [
    "#X = np.vstack((time,pos_IL,pos_CF,vel_IL,vel_CF,acc_IL,acc_CF)).transpose()\n",
    "X = np.vstack((time,acc_IL,acc_CF)).transpose()\n",
    "#Y = np.vstack((strain_CF.argmax(axis=0),strain_IL.argmax(axis=0))).transpose()\n",
    "Y = np.vstack(max_strain_CF_loc).transpose()\n",
    "scaler = StandardScaler().fit(X)\n",
    "X = scaler.transform(X)\n",
    "#Y = (Y-Y.min())/(Y.max()-Y.min())\n",
    "\n",
    "n_features = X.shape[1]\n",
    "b_size = 100\n",
    "n_outputs = Y.shape[0]\n",
    "\n",
    "n_batches = int(X.shape[0]/b_size)\n",
    "X = X.reshape(n_batches,b_size,n_features)\n",
    "Y = Y.reshape(n_batches,b_size,n_outputs)\n",
    "\n",
    "X_train, X_test, y_train, y_test = train_test_split(X, Y, test_size=0.33, random_state=42,shuffle=False)\n",
    "\n",
    "t_train = X_train[:,:,0]\n",
    "t_test = X_test[:,:,0]\n",
    "X_train = X_train[:,:,0:-1]\n",
    "X_test = X_test[:,:,0:-1]\n",
    "\n",
    "n_features = n_features-1\n",
    "n_outputs = Y.max()+1"
   ]
  },
  {
   "cell_type": "code",
   "execution_count": 152,
   "id": "64948941",
   "metadata": {},
   "outputs": [
    {
     "data": {
      "text/plain": [
       "(1800, 100, 17)"
      ]
     },
     "execution_count": 152,
     "metadata": {},
     "output_type": "execute_result"
    }
   ],
   "source": [
    "X.shape"
   ]
  },
  {
   "cell_type": "code",
   "execution_count": 116,
   "id": "61975d02",
   "metadata": {},
   "outputs": [],
   "source": [
    "# Classification\n",
    "#model = Sequential(name='LSTM')\n",
    "#model.add(LSTM(\n",
    " #   units=100,\n",
    "  #  batch_input_shape=(None,X.shape[1],n_features),\n",
    "   # return_sequences=True,\n",
    "    #dropout=0,\n",
    "    #recurrent_dropout=0))\n",
    "#model.add(LSTM(\n",
    " #   units=100,\n",
    "  #  batch_input_shape=(None,X.shape[1],n_features),\n",
    "   # return_sequences=True,\n",
    "    #dropout=0.1,\n",
    "    #recurrent_dropout=0))\n",
    "#model.add(Dense(50,activation='relu'))\n",
    "#model.add(Dropout(0))\n",
    "#model.add(Dense(n_outputs, activation='softmax'))\n",
    "#model.add(MaxPooling1D(pool_size=1))\n",
    "\n",
    "#model.summary()\n",
    "#model.compile(optimizer=\"Adam\", loss=\"sparse_categorical_crossentropy\", metrics=['SparseCategoricalAccuracy'])"
   ]
  },
  {
   "cell_type": "code",
   "execution_count": 165,
   "id": "97cee0d1",
   "metadata": {},
   "outputs": [
    {
     "name": "stdout",
     "output_type": "stream",
     "text": [
      "Model: \"LSTM\"\n",
      "_________________________________________________________________\n",
      "Layer (type)                 Output Shape              Param #   \n",
      "=================================================================\n",
      "lstm_25 (LSTM)               (None, 100, 100)          46800     \n",
      "_________________________________________________________________\n",
      "lstm_26 (LSTM)               (None, 100, 100)          80400     \n",
      "_________________________________________________________________\n",
      "dense_30 (Dense)             (None, 100, 50)           5050      \n",
      "_________________________________________________________________\n",
      "dropout_13 (Dropout)         (None, 100, 50)           0         \n",
      "_________________________________________________________________\n",
      "dense_31 (Dense)             (None, 100, 1)            51        \n",
      "=================================================================\n",
      "Total params: 132,301\n",
      "Trainable params: 132,301\n",
      "Non-trainable params: 0\n",
      "_________________________________________________________________\n"
     ]
    }
   ],
   "source": [
    "# Regression\n",
    "model = Sequential(name='LSTM')\n",
    "model.add(LSTM(\n",
    "    units=100,\n",
    "    batch_input_shape=(None,X.shape[1],n_features),\n",
    "    return_sequences=True,\n",
    "    dropout=0,\n",
    "    recurrent_dropout=0))\n",
    "model.add(LSTM(\n",
    "    units=100,\n",
    "    batch_input_shape=(None,X.shape[1],n_features),\n",
    "    return_sequences=True,\n",
    "    dropout=0,\n",
    "    recurrent_dropout=0))\n",
    "model.add(Dense(50,activation='relu'))\n",
    "model.add(Dropout(0))\n",
    "model.add(Dense(1, activation='relu'))\n",
    "\n",
    "model.summary()\n",
    "model.compile(optimizer=\"Adam\", loss=\"MeanSquaredError\")"
   ]
  },
  {
   "cell_type": "code",
   "execution_count": 166,
   "id": "4b5bfd2a",
   "metadata": {},
   "outputs": [
    {
     "name": "stdout",
     "output_type": "stream",
     "text": [
      "Epoch 1/100\n",
      "38/38 [==============================] - 5s 60ms/step - loss: 241.2291\n",
      "Epoch 2/100\n",
      "38/38 [==============================] - 2s 61ms/step - loss: 110.6533\n",
      "Epoch 3/100\n",
      "38/38 [==============================] - 4s 98ms/step - loss: 102.8354\n",
      "Epoch 4/100\n",
      "38/38 [==============================] - 4s 109ms/step - loss: 93.5129\n",
      "Epoch 5/100\n",
      "38/38 [==============================] - 4s 109ms/step - loss: 86.8109\n",
      "Epoch 6/100\n",
      "38/38 [==============================] - 4s 110ms/step - loss: 85.3138\n",
      "Epoch 7/100\n",
      "38/38 [==============================] - 4s 115ms/step - loss: 80.5607\n",
      "Epoch 8/100\n",
      "38/38 [==============================] - 4s 115ms/step - loss: 77.4554\n",
      "Epoch 9/100\n",
      "38/38 [==============================] - 4s 106ms/step - loss: 74.9391\n",
      "Epoch 10/100\n",
      "38/38 [==============================] - 4s 109ms/step - loss: 72.6019\n",
      "Epoch 11/100\n",
      "38/38 [==============================] - 4s 108ms/step - loss: 72.30130s\n",
      "Epoch 12/100\n",
      "38/38 [==============================] - 4s 107ms/step - loss: 70.4523\n",
      "Epoch 13/100\n",
      "38/38 [==============================] - 4s 107ms/step - loss: 69.0642\n",
      "Epoch 14/100\n",
      "38/38 [==============================] - 4s 107ms/step - loss: 67.0066\n",
      "Epoch 15/100\n",
      "38/38 [==============================] - 4s 106ms/step - loss: 66.1401\n",
      "Epoch 16/100\n",
      "38/38 [==============================] - 4s 107ms/step - loss: 64.7698\n",
      "Epoch 17/100\n",
      "38/38 [==============================] - 4s 107ms/step - loss: 62.6285\n",
      "Epoch 18/100\n",
      "38/38 [==============================] - 4s 109ms/step - loss: 64.0813\n",
      "Epoch 19/100\n",
      "38/38 [==============================] - 4s 107ms/step - loss: 61.3849\n",
      "Epoch 20/100\n",
      "38/38 [==============================] - 4s 107ms/step - loss: 60.1387\n",
      "Epoch 21/100\n",
      "38/38 [==============================] - 4s 107ms/step - loss: 58.0100\n",
      "Epoch 22/100\n",
      "38/38 [==============================] - 4s 107ms/step - loss: 56.0066\n",
      "Epoch 23/100\n",
      "38/38 [==============================] - 4s 107ms/step - loss: 54.9511\n",
      "Epoch 24/100\n",
      "38/38 [==============================] - 4s 107ms/step - loss: 53.7060\n",
      "Epoch 25/100\n",
      "38/38 [==============================] - 4s 111ms/step - loss: 52.9371\n",
      "Epoch 26/100\n",
      "38/38 [==============================] - 4s 114ms/step - loss: 52.5452\n",
      "Epoch 27/100\n",
      "38/38 [==============================] - 4s 115ms/step - loss: 50.5056\n",
      "Epoch 28/100\n",
      "38/38 [==============================] - 4s 112ms/step - loss: 51.2998\n",
      "Epoch 29/100\n",
      "38/38 [==============================] - 4s 108ms/step - loss: 50.2033\n",
      "Epoch 30/100\n",
      "38/38 [==============================] - 4s 107ms/step - loss: 47.6901\n",
      "Epoch 31/100\n",
      "38/38 [==============================] - 4s 107ms/step - loss: 44.8532\n",
      "Epoch 32/100\n",
      "38/38 [==============================] - 4s 108ms/step - loss: 43.6172\n",
      "Epoch 33/100\n",
      "38/38 [==============================] - 4s 109ms/step - loss: 42.7921\n",
      "Epoch 34/100\n",
      "38/38 [==============================] - 4s 116ms/step - loss: 44.5399\n",
      "Epoch 35/100\n",
      "38/38 [==============================] - 4s 116ms/step - loss: 45.1093\n",
      "Epoch 36/100\n",
      "38/38 [==============================] - 4s 108ms/step - loss: 43.7518\n"
     ]
    },
    {
     "data": {
      "text/plain": [
       "<keras.callbacks.History at 0x28685c376a0>"
      ]
     },
     "execution_count": 166,
     "metadata": {},
     "output_type": "execute_result"
    }
   ],
   "source": [
    "callback = tf.keras.callbacks.EarlyStopping(monitor='loss', patience=3)\n",
    "model.fit(X_train,y_train,epochs=100,callbacks=callback)"
   ]
  },
  {
   "cell_type": "code",
   "execution_count": 167,
   "id": "52f9b292",
   "metadata": {},
   "outputs": [],
   "source": [
    "y_pred = model.predict(X_test)"
   ]
  },
  {
   "cell_type": "code",
   "execution_count": 168,
   "id": "fa0935a3",
   "metadata": {},
   "outputs": [
    {
     "data": {
      "text/plain": [
       "(594, 100, 1)"
      ]
     },
     "execution_count": 168,
     "metadata": {},
     "output_type": "execute_result"
    }
   ],
   "source": [
    "y_test.shape"
   ]
  },
  {
   "cell_type": "code",
   "execution_count": 169,
   "id": "2315a76c",
   "metadata": {},
   "outputs": [
    {
     "data": {
      "image/png": "[encoded data removed]",
      "text/plain": [
       "<Figure size 864x576 with 1 Axes>"
      ]
     },
     "metadata": {
      "needs_background": "light"
     },
     "output_type": "display_data"
    }
   ],
   "source": [
    "n = 3\n",
    "plt.figure(figsize=(12,8))\n",
    "plt.plot(y_test[n,:],'ko-',label='True')\n",
    "plt.plot(y_pred[n,:],'r.-',label='Prediction')\n",
    "\n",
    "plt.legend()\n",
    "plt.grid()\n",
    "plt.ylim([-1,32])\n",
    "plt.ylabel('Sensor number [-]')\n",
    "plt.xlabel('Time step [-]')\n",
    "plt.show()"
   ]
  },
  {
   "cell_type": "code",
   "execution_count": 100,
   "id": "a001d138",
   "metadata": {},
   "outputs": [
    {
     "ename": "ValueError",
     "evalue": "Found input variables with inconsistent numbers of samples: [59400, 1425600]",
     "output_type": "error",
     "traceback": [
      "\u001b[1;31m---------------------------------------------------------------------------\u001b[0m",
      "\u001b[1;31mValueError\u001b[0m                                Traceback (most recent call last)",
      "\u001b[1;32m<ipython-input-100-54fb6c20be6e>\u001b[0m in \u001b[0;36m<module>\u001b[1;34m\u001b[0m\n\u001b[0;32m      4\u001b[0m \u001b[0my_true\u001b[0m \u001b[1;33m=\u001b[0m \u001b[0my_test\u001b[0m\u001b[1;33m.\u001b[0m\u001b[0mreshape\u001b[0m\u001b[1;33m(\u001b[0m\u001b[1;33m-\u001b[0m\u001b[1;36m1\u001b[0m\u001b[1;33m,\u001b[0m\u001b[1;36m1\u001b[0m\u001b[1;33m)\u001b[0m\u001b[1;33m\u001b[0m\u001b[1;33m\u001b[0m\u001b[0m\n\u001b[0;32m      5\u001b[0m \u001b[1;33m\u001b[0m\u001b[0m\n\u001b[1;32m----> 6\u001b[1;33m \u001b[0mcm\u001b[0m \u001b[1;33m=\u001b[0m \u001b[0mconfusion_matrix\u001b[0m\u001b[1;33m(\u001b[0m\u001b[0my_true\u001b[0m\u001b[1;33m,\u001b[0m\u001b[0my_p\u001b[0m\u001b[1;33m)\u001b[0m\u001b[1;33m\u001b[0m\u001b[1;33m\u001b[0m\u001b[0m\n\u001b[0m\u001b[0;32m      7\u001b[0m \u001b[0mmisclassification_rate\u001b[0m \u001b[1;33m=\u001b[0m \u001b[1;36m1\u001b[0m\u001b[1;33m-\u001b[0m\u001b[0mnp\u001b[0m\u001b[1;33m.\u001b[0m\u001b[0mdiagonal\u001b[0m\u001b[1;33m(\u001b[0m\u001b[0mcm\u001b[0m\u001b[1;33m)\u001b[0m\u001b[1;33m.\u001b[0m\u001b[0msum\u001b[0m\u001b[1;33m(\u001b[0m\u001b[1;33m)\u001b[0m\u001b[1;33m/\u001b[0m\u001b[0my_true\u001b[0m\u001b[1;33m.\u001b[0m\u001b[0mshape\u001b[0m\u001b[1;33m[\u001b[0m\u001b[1;36m0\u001b[0m\u001b[1;33m]\u001b[0m\u001b[1;33m\u001b[0m\u001b[1;33m\u001b[0m\u001b[0m\n\u001b[0;32m      8\u001b[0m \u001b[0mprint\u001b[0m\u001b[1;33m(\u001b[0m\u001b[0mmisclassification_rate\u001b[0m\u001b[1;33m)\u001b[0m\u001b[1;33m\u001b[0m\u001b[1;33m\u001b[0m\u001b[0m\n",
      "\u001b[1;32m~\\Anaconda3\\lib\\site-packages\\sklearn\\utils\\validation.py\u001b[0m in \u001b[0;36minner_f\u001b[1;34m(*args, **kwargs)\u001b[0m\n\u001b[0;32m     61\u001b[0m             \u001b[0mextra_args\u001b[0m \u001b[1;33m=\u001b[0m \u001b[0mlen\u001b[0m\u001b[1;33m(\u001b[0m\u001b[0margs\u001b[0m\u001b[1;33m)\u001b[0m \u001b[1;33m-\u001b[0m \u001b[0mlen\u001b[0m\u001b[1;33m(\u001b[0m\u001b[0mall_args\u001b[0m\u001b[1;33m)\u001b[0m\u001b[1;33m\u001b[0m\u001b[1;33m\u001b[0m\u001b[0m\n\u001b[0;32m     62\u001b[0m             \u001b[1;32mif\u001b[0m \u001b[0mextra_args\u001b[0m \u001b[1;33m<=\u001b[0m \u001b[1;36m0\u001b[0m\u001b[1;33m:\u001b[0m\u001b[1;33m\u001b[0m\u001b[1;33m\u001b[0m\u001b[0m\n\u001b[1;32m---> 63\u001b[1;33m                 \u001b[1;32mreturn\u001b[0m \u001b[0mf\u001b[0m\u001b[1;33m(\u001b[0m\u001b[1;33m*\u001b[0m\u001b[0margs\u001b[0m\u001b[1;33m,\u001b[0m \u001b[1;33m**\u001b[0m\u001b[0mkwargs\u001b[0m\u001b[1;33m)\u001b[0m\u001b[1;33m\u001b[0m\u001b[1;33m\u001b[0m\u001b[0m\n\u001b[0m\u001b[0;32m     64\u001b[0m \u001b[1;33m\u001b[0m\u001b[0m\n\u001b[0;32m     65\u001b[0m             \u001b[1;31m# extra_args > 0\u001b[0m\u001b[1;33m\u001b[0m\u001b[1;33m\u001b[0m\u001b[1;33m\u001b[0m\u001b[0m\n",
      "\u001b[1;32m~\\Anaconda3\\lib\\site-packages\\sklearn\\metrics\\_classification.py\u001b[0m in \u001b[0;36mconfusion_matrix\u001b[1;34m(y_true, y_pred, labels, sample_weight, normalize)\u001b[0m\n\u001b[0;32m    297\u001b[0m \u001b[1;33m\u001b[0m\u001b[0m\n\u001b[0;32m    298\u001b[0m     \"\"\"\n\u001b[1;32m--> 299\u001b[1;33m     \u001b[0my_type\u001b[0m\u001b[1;33m,\u001b[0m \u001b[0my_true\u001b[0m\u001b[1;33m,\u001b[0m \u001b[0my_pred\u001b[0m \u001b[1;33m=\u001b[0m \u001b[0m_check_targets\u001b[0m\u001b[1;33m(\u001b[0m\u001b[0my_true\u001b[0m\u001b[1;33m,\u001b[0m \u001b[0my_pred\u001b[0m\u001b[1;33m)\u001b[0m\u001b[1;33m\u001b[0m\u001b[1;33m\u001b[0m\u001b[0m\n\u001b[0m\u001b[0;32m    300\u001b[0m     \u001b[1;32mif\u001b[0m \u001b[0my_type\u001b[0m \u001b[1;32mnot\u001b[0m \u001b[1;32min\u001b[0m \u001b[1;33m(\u001b[0m\u001b[1;34m\"binary\"\u001b[0m\u001b[1;33m,\u001b[0m \u001b[1;34m\"multiclass\"\u001b[0m\u001b[1;33m)\u001b[0m\u001b[1;33m:\u001b[0m\u001b[1;33m\u001b[0m\u001b[1;33m\u001b[0m\u001b[0m\n\u001b[0;32m    301\u001b[0m         \u001b[1;32mraise\u001b[0m \u001b[0mValueError\u001b[0m\u001b[1;33m(\u001b[0m\u001b[1;34m\"%s is not supported\"\u001b[0m \u001b[1;33m%\u001b[0m \u001b[0my_type\u001b[0m\u001b[1;33m)\u001b[0m\u001b[1;33m\u001b[0m\u001b[1;33m\u001b[0m\u001b[0m\n",
      "\u001b[1;32m~\\Anaconda3\\lib\\site-packages\\sklearn\\metrics\\_classification.py\u001b[0m in \u001b[0;36m_check_targets\u001b[1;34m(y_true, y_pred)\u001b[0m\n\u001b[0;32m     81\u001b[0m     \u001b[0my_pred\u001b[0m \u001b[1;33m:\u001b[0m \u001b[0marray\u001b[0m \u001b[1;32mor\u001b[0m \u001b[0mindicator\u001b[0m \u001b[0mmatrix\u001b[0m\u001b[1;33m\u001b[0m\u001b[1;33m\u001b[0m\u001b[0m\n\u001b[0;32m     82\u001b[0m     \"\"\"\n\u001b[1;32m---> 83\u001b[1;33m     \u001b[0mcheck_consistent_length\u001b[0m\u001b[1;33m(\u001b[0m\u001b[0my_true\u001b[0m\u001b[1;33m,\u001b[0m \u001b[0my_pred\u001b[0m\u001b[1;33m)\u001b[0m\u001b[1;33m\u001b[0m\u001b[1;33m\u001b[0m\u001b[0m\n\u001b[0m\u001b[0;32m     84\u001b[0m     \u001b[0mtype_true\u001b[0m \u001b[1;33m=\u001b[0m \u001b[0mtype_of_target\u001b[0m\u001b[1;33m(\u001b[0m\u001b[0my_true\u001b[0m\u001b[1;33m)\u001b[0m\u001b[1;33m\u001b[0m\u001b[1;33m\u001b[0m\u001b[0m\n\u001b[0;32m     85\u001b[0m     \u001b[0mtype_pred\u001b[0m \u001b[1;33m=\u001b[0m \u001b[0mtype_of_target\u001b[0m\u001b[1;33m(\u001b[0m\u001b[0my_pred\u001b[0m\u001b[1;33m)\u001b[0m\u001b[1;33m\u001b[0m\u001b[1;33m\u001b[0m\u001b[0m\n",
      "\u001b[1;32m~\\Anaconda3\\lib\\site-packages\\sklearn\\utils\\validation.py\u001b[0m in \u001b[0;36mcheck_consistent_length\u001b[1;34m(*arrays)\u001b[0m\n\u001b[0;32m    317\u001b[0m     \u001b[0muniques\u001b[0m \u001b[1;33m=\u001b[0m \u001b[0mnp\u001b[0m\u001b[1;33m.\u001b[0m\u001b[0munique\u001b[0m\u001b[1;33m(\u001b[0m\u001b[0mlengths\u001b[0m\u001b[1;33m)\u001b[0m\u001b[1;33m\u001b[0m\u001b[1;33m\u001b[0m\u001b[0m\n\u001b[0;32m    318\u001b[0m     \u001b[1;32mif\u001b[0m \u001b[0mlen\u001b[0m\u001b[1;33m(\u001b[0m\u001b[0muniques\u001b[0m\u001b[1;33m)\u001b[0m \u001b[1;33m>\u001b[0m \u001b[1;36m1\u001b[0m\u001b[1;33m:\u001b[0m\u001b[1;33m\u001b[0m\u001b[1;33m\u001b[0m\u001b[0m\n\u001b[1;32m--> 319\u001b[1;33m         raise ValueError(\"Found input variables with inconsistent numbers of\"\n\u001b[0m\u001b[0;32m    320\u001b[0m                          \" samples: %r\" % [int(l) for l in lengths])\n\u001b[0;32m    321\u001b[0m \u001b[1;33m\u001b[0m\u001b[0m\n",
      "\u001b[1;31mValueError\u001b[0m: Found input variables with inconsistent numbers of samples: [59400, 1425600]"
     ]
    }
   ],
   "source": [
    "from sklearn.metrics import confusion_matrix\n",
    "\n",
    "y_p = y_pred.reshape(-1,1)\n",
    "y_true = y_test.reshape(-1,1)\n",
    "\n",
    "cm = confusion_matrix(y_true,y_p)\n",
    "misclassification_rate = 1-np.diagonal(cm).sum()/y_true.shape[0]\n",
    "print(misclassification_rate)\n",
    "\n",
    "from seaborn import heatmap\n",
    "\n",
    "plt.figure(figsize=(12,12))\n",
    "plt.imshow(cm)\n",
    "plt.show()"
   ]
  },
  {
   "cell_type": "code",
   "execution_count": 16,
   "id": "0045e274",
   "metadata": {},
   "outputs": [
    {
     "ename": "ValueError",
     "evalue": "plot_confusion_matrix only supports classifiers",
     "output_type": "error",
     "traceback": [
      "\u001b[1;31m---------------------------------------------------------------------------\u001b[0m",
      "\u001b[1;31mValueError\u001b[0m                                Traceback (most recent call last)",
      "\u001b[1;32m<ipython-input-16-954b7cef951a>\u001b[0m in \u001b[0;36m<module>\u001b[1;34m\u001b[0m\n\u001b[0;32m      1\u001b[0m \u001b[1;32mfrom\u001b[0m \u001b[0msklearn\u001b[0m\u001b[1;33m.\u001b[0m\u001b[0mmetrics\u001b[0m \u001b[1;32mimport\u001b[0m \u001b[0mplot_confusion_matrix\u001b[0m\u001b[1;33m\u001b[0m\u001b[1;33m\u001b[0m\u001b[0m\n\u001b[1;32m----> 2\u001b[1;33m \u001b[0mplot_confusion_matrix\u001b[0m\u001b[1;33m(\u001b[0m\u001b[0mmodel\u001b[0m\u001b[1;33m,\u001b[0m\u001b[0mX_test\u001b[0m\u001b[1;33m,\u001b[0m\u001b[0my_pred\u001b[0m\u001b[1;33m)\u001b[0m\u001b[1;33m\u001b[0m\u001b[1;33m\u001b[0m\u001b[0m\n\u001b[0m",
      "\u001b[1;32m~\\Anaconda3\\lib\\site-packages\\sklearn\\utils\\validation.py\u001b[0m in \u001b[0;36minner_f\u001b[1;34m(*args, **kwargs)\u001b[0m\n\u001b[0;32m     61\u001b[0m             \u001b[0mextra_args\u001b[0m \u001b[1;33m=\u001b[0m \u001b[0mlen\u001b[0m\u001b[1;33m(\u001b[0m\u001b[0margs\u001b[0m\u001b[1;33m)\u001b[0m \u001b[1;33m-\u001b[0m \u001b[0mlen\u001b[0m\u001b[1;33m(\u001b[0m\u001b[0mall_args\u001b[0m\u001b[1;33m)\u001b[0m\u001b[1;33m\u001b[0m\u001b[1;33m\u001b[0m\u001b[0m\n\u001b[0;32m     62\u001b[0m             \u001b[1;32mif\u001b[0m \u001b[0mextra_args\u001b[0m \u001b[1;33m<=\u001b[0m \u001b[1;36m0\u001b[0m\u001b[1;33m:\u001b[0m\u001b[1;33m\u001b[0m\u001b[1;33m\u001b[0m\u001b[0m\n\u001b[1;32m---> 63\u001b[1;33m                 \u001b[1;32mreturn\u001b[0m \u001b[0mf\u001b[0m\u001b[1;33m(\u001b[0m\u001b[1;33m*\u001b[0m\u001b[0margs\u001b[0m\u001b[1;33m,\u001b[0m \u001b[1;33m**\u001b[0m\u001b[0mkwargs\u001b[0m\u001b[1;33m)\u001b[0m\u001b[1;33m\u001b[0m\u001b[1;33m\u001b[0m\u001b[0m\n\u001b[0m\u001b[0;32m     64\u001b[0m \u001b[1;33m\u001b[0m\u001b[0m\n\u001b[0;32m     65\u001b[0m             \u001b[1;31m# extra_args > 0\u001b[0m\u001b[1;33m\u001b[0m\u001b[1;33m\u001b[0m\u001b[1;33m\u001b[0m\u001b[0m\n",
      "\u001b[1;32m~\\Anaconda3\\lib\\site-packages\\sklearn\\metrics\\_plot\\confusion_matrix.py\u001b[0m in \u001b[0;36mplot_confusion_matrix\u001b[1;34m(estimator, X, y_true, labels, sample_weight, normalize, display_labels, include_values, xticks_rotation, values_format, cmap, ax, colorbar)\u001b[0m\n\u001b[0;32m    259\u001b[0m \u001b[1;33m\u001b[0m\u001b[0m\n\u001b[0;32m    260\u001b[0m     \u001b[1;32mif\u001b[0m \u001b[1;32mnot\u001b[0m \u001b[0mis_classifier\u001b[0m\u001b[1;33m(\u001b[0m\u001b[0mestimator\u001b[0m\u001b[1;33m)\u001b[0m\u001b[1;33m:\u001b[0m\u001b[1;33m\u001b[0m\u001b[1;33m\u001b[0m\u001b[0m\n\u001b[1;32m--> 261\u001b[1;33m         \u001b[1;32mraise\u001b[0m \u001b[0mValueError\u001b[0m\u001b[1;33m(\u001b[0m\u001b[1;34m\"plot_confusion_matrix only supports classifiers\"\u001b[0m\u001b[1;33m)\u001b[0m\u001b[1;33m\u001b[0m\u001b[1;33m\u001b[0m\u001b[0m\n\u001b[0m\u001b[0;32m    262\u001b[0m \u001b[1;33m\u001b[0m\u001b[0m\n\u001b[0;32m    263\u001b[0m     \u001b[0my_pred\u001b[0m \u001b[1;33m=\u001b[0m \u001b[0mestimator\u001b[0m\u001b[1;33m.\u001b[0m\u001b[0mpredict\u001b[0m\u001b[1;33m(\u001b[0m\u001b[0mX\u001b[0m\u001b[1;33m)\u001b[0m\u001b[1;33m\u001b[0m\u001b[1;33m\u001b[0m\u001b[0m\n",
      "\u001b[1;31mValueError\u001b[0m: plot_confusion_matrix only supports classifiers"
     ]
    }
   ],
   "source": [
    "from sklearn.metrics import plot_confusion_matrix\n",
    "plot_confusion_matrix(model,X_test,y_pred)"
   ]
  },
  {
   "cell_type": "code",
   "execution_count": 15,
   "id": "4e46cb5c",
   "metadata": {},
   "outputs": [
    {
     "data": {
      "image/png": "[encoded data removed]",
      "text/plain": [
       "<Figure size 864x864 with 2 Axes>"
      ]
     },
     "metadata": {
      "needs_background": "light"
     },
     "output_type": "display_data"
    }
   ],
   "source": [
    "fig, ax = plt.subplots(2,figsize=(12,12))\n",
    "ax[0].hist(y_true,bins=24)\n",
    "ax[1].hist(y_p,bins=24)\n",
    "ax[1].set_xlabel('Sensor number')\n",
    "ax[0].set_ylabel('Counts')\n",
    "ax[1].set_ylabel('Counts')\n",
    "ax[0].set_title('True maximum strain locations')\n",
    "ax[1].set_title('Predicted maximum strain locations')\n",
    "plt.show()"
   ]
  }
 ],
 "metadata": {
  "kernelspec": {
   "display_name": "Python 3",
   "language": "python",
   "name": "python3"
  },
  "language_info": {
   "codemirror_mode": {
    "name": "ipython",
    "version": 3
   },
   "file_extension": ".py",
   "mimetype": "text/x-python",
   "name": "python",
   "nbconvert_exporter": "python",
   "pygments_lexer": "ipython3",
   "version": "3.8.5"
  }
 },
 "nbformat": 4,
 "nbformat_minor": 5
}
