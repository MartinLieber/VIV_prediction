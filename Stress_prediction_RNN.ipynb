{
 "cells": [
  {
   "cell_type": "code",
   "execution_count": 1,
   "id": "5f5436ec",
   "metadata": {},
   "outputs": [],
   "source": [
    "import scipy.io\n",
    "import numpy as np\n",
    "import matplotlib.pyplot as plt\n",
    "import tensorflow as tf\n",
    "from tensorflow.keras import Sequential\n",
    "from tensorflow.keras.layers import Dense, LSTM, Embedding, TimeDistributed, Dropout, MaxPooling1D, MaxPooling2D, Conv2D, Input, Flatten\n",
    "from sklearn.model_selection import train_test_split\n",
    "from sklearn.preprocessing import StandardScaler\n",
    "from tensorflow.keras.callbacks import EarlyStopping\n",
    "from sklearn.cluster import KMeans\n",
    "from scipy.stats import kurtosis, skew\n",
    "from sklearn.metrics import confusion_matrix\n",
    "from seaborn import heatmap\n",
    "import itertools"
   ]
  },
  {
   "cell_type": "code",
   "execution_count": 163,
   "id": "3dd6141c",
   "metadata": {},
   "outputs": [],
   "source": [
    "def disp2vel(disp,dt):\n",
    "    vel = np.zeros(disp.shape)\n",
    "    vel[:,1:] = (disp[:,1:]-disp[:,0:-1])/dt\n",
    "    vel[:,0] = -2*vel[:,0]+vel[:,1]\n",
    "    return vel\n",
    "\n",
    "def vel2acc(vel,dt):\n",
    "    acc = np.zeros(vel.shape)\n",
    "    acc[:,1:] = (vel[:,1:]-vel[:,0:-1])/dt\n",
    "    acc[:,0] = -2*acc[:,0]+acc[:,1]\n",
    "    return acc\n",
    "\n",
    "def acc2vel(acc,dt):\n",
    "    vel = np.zeros(acc.shape)\n",
    "    for i in range(0,vel.shape[1]-1):\n",
    "        vel[:,i+1] = vel[:,i]+1/2*(acc[:,i+1]+acc[:,i])*dt\n",
    "    print(i)\n",
    "    return vel\n",
    "\n",
    "def vel2disp(vel,dt):\n",
    "    disp = np.zeros(vel.shape)\n",
    "    for i in range(1,disp.shape[1]-1):\n",
    "        disp[:,i+1] = disp[:,i]+1/2*(vel[:,i+1]+vel[:,i])*dt\n",
    "    return disp"
   ]
  },
  {
   "cell_type": "code",
   "execution_count": 3,
   "id": "5e270910",
   "metadata": {},
   "outputs": [],
   "source": [
    "mat = scipy.io.loadmat('test2010.mat')"
   ]
  },
  {
   "cell_type": "code",
   "execution_count": 4,
   "id": "d79c05e9",
   "metadata": {},
   "outputs": [],
   "source": [
    "chan_names = mat['chan_names']\n",
    "data = mat['data']"
   ]
  },
  {
   "cell_type": "code",
   "execution_count": 5,
   "id": "4bca0162",
   "metadata": {},
   "outputs": [],
   "source": [
    "D = 0.027\n",
    "\n",
    "t1 = 15\n",
    "t2 = 165\n",
    "Fs = 1200\n",
    "dt = 1/Fs\n",
    "tst = t1*Fs\n",
    "ted = t2*Fs\n",
    "\n",
    "nm = data.shape[1]\n",
    "time = np.arange(0,nm-1)*dt\n",
    "time = time[tst:ted].reshape(1,-1)\n",
    "\n",
    "strain_CF = data[46:70,tst:ted]\n",
    "strain_IL = data[6:46,tst:ted]\n",
    "pos_IL = data[98:106,tst:ted]\n",
    "pos_CF = data[106:114,tst:ted]\n",
    "acc_IL = data[70:78,tst:ted]\n",
    "acc_CF = data[78:86,tst:ted]\n",
    "\n",
    "# Strain sensor positions\n",
    "str_il = np.array([1.143,2.555,3.084,3.224,4.155,5.759,6.030,7.664,8.216,8.609,8.889,9.703,10.285,13.676,13.772,\n",
    "                     15.393,16.452,16.547,16.891,19.997,20.193,21.393,21.603,22.460,23.165,25.153,25.442,26.254,27.532,\n",
    "                     28.698,28.863,29.365,31.191,31.415,32.796,33.005,35.549,36.559,36.824,37.322])\n",
    "str_sensor_cf = np.array([2,3,4,5,7,10,11,13,14,17,19,20,21,22,24,25,26,28,31,32,33,36,38,40])-1\n",
    "str_cf = str_il[str_sensor_cf]\n",
    "\n",
    "# Accelerometer positions\n",
    "acc_pos = np.array([4.155,8.609,13.676,16.891,21.393,25.153,28.863,33.005])\n",
    "\n",
    "# Finding indices for strain locations which will be fused \n",
    "sensor_diff_il = np.abs(np.tile(str_il,(8,1)).T - acc_pos)\n",
    "sensor_transform_index_il = np.argmin(sensor_diff_il,axis=1)\n",
    "\n",
    "sensor_diff_cf = np.abs(np.tile(str_cf,(8,1)).T - acc_pos)\n",
    "sensor_transform_index_cf = np.argmin(sensor_diff_cf,axis=1)\n",
    "\n",
    "max_strain_CF = strain_CF.argmax(axis=0)\n",
    "max_strain_CF_loc = str_cf[max_strain_CF]"
   ]
  },
  {
   "cell_type": "code",
   "execution_count": 127,
   "id": "e5da6f35",
   "metadata": {},
   "outputs": [],
   "source": [
    "#X = np.vstack((time,pos_IL,pos_CF,vel_IL,vel_CF,acc_IL,acc_CF)).transpose()\n",
    "X = np.vstack((time,acc_IL,acc_CF)).transpose()\n",
    "#Y = np.vstack((strain_CF.argmax(axis=0),strain_IL.argmax(axis=0))).transpose()\n",
    "Y = np.vstack(max_strain_CF).transpose()\n",
    "scaler = StandardScaler().fit(X)\n",
    "X = scaler.transform(X)\n",
    "\n",
    "n_features = X.shape[1]\n",
    "b_size = 100\n",
    "n_outputs = Y.shape[0]\n",
    "\n",
    "n_batches = int(X.shape[0]/b_size)\n",
    "X = X.reshape(n_batches,b_size,n_features)\n",
    "Y = Y.reshape(n_batches,b_size,n_outputs)\n",
    "\n",
    "X_train, X_test, y_train, y_test = train_test_split(X, Y, test_size=0.25, random_state=42,shuffle=False)\n",
    "X_train, X_val, y_train, y_val = train_test_split(X_train, y_train, test_size=0.25, random_state=1, shuffle=False)\n",
    "\n",
    "t_train = X_train[:,:,0]\n",
    "t_val = X_val[:,:,0]\n",
    "t_test = X_test[:,:,0]\n",
    "X_train = X_train[:,:,0:-1]\n",
    "X_test = X_test[:,:,0:-1]\n",
    "X_val = X_val[:,:,0:-1]\n",
    "\n",
    "\n",
    "n_features = n_features-1\n",
    "n_outputs = Y.max()+1"
   ]
  },
  {
   "cell_type": "code",
   "execution_count": 128,
   "id": "61975d02",
   "metadata": {},
   "outputs": [
    {
     "name": "stdout",
     "output_type": "stream",
     "text": [
      "Model: \"LSTM\"\n",
      "_________________________________________________________________\n",
      "Layer (type)                 Output Shape              Param #   \n",
      "=================================================================\n",
      "lstm_28 (LSTM)               (None, 100, 100)          46800     \n",
      "_________________________________________________________________\n",
      "dense_26 (Dense)             (None, 100, 50)           5050      \n",
      "_________________________________________________________________\n",
      "dropout_7 (Dropout)          (None, 100, 50)           0         \n",
      "_________________________________________________________________\n",
      "dense_27 (Dense)             (None, 100, 24)           1224      \n",
      "=================================================================\n",
      "Total params: 53,074\n",
      "Trainable params: 53,074\n",
      "Non-trainable params: 0\n",
      "_________________________________________________________________\n"
     ]
    }
   ],
   "source": [
    "# Classification\n",
    "model = Sequential(name='LSTM')\n",
    "model.add(LSTM(\n",
    "    units=100,\n",
    "    batch_input_shape=(None,X.shape[1],n_features),\n",
    "    return_sequences=True,\n",
    "    dropout=0.1,\n",
    "    recurrent_dropout=0.1,\n",
    "    activation='tanh'))\n",
    "model.add(Dense(50,activation='tanh'))\n",
    "model.add(Dropout(0.2))\n",
    "model.add(Dense(n_outputs, activation='softmax'))\n",
    "\n",
    "model.summary()\n",
    "model.compile(optimizer=\"Adam\", loss=\"sparse_categorical_crossentropy\", metrics=['SparseCategoricalAccuracy'])"
   ]
  },
  {
   "cell_type": "code",
   "execution_count": 129,
   "id": "4b5bfd2a",
   "metadata": {},
   "outputs": [
    {
     "name": "stdout",
     "output_type": "stream",
     "text": [
      "Epoch 1/100\n",
      "32/32 [==============================] - 4s 79ms/step - loss: 2.8762 - sparse_categorical_accuracy: 0.1711 - val_loss: 2.3991 - val_sparse_categorical_accuracy: 0.3114\n",
      "Epoch 2/100\n",
      "32/32 [==============================] - 2s 69ms/step - loss: 2.3888 - sparse_categorical_accuracy: 0.2873 - val_loss: 2.0077 - val_sparse_categorical_accuracy: 0.4217\n",
      "Epoch 3/100\n",
      "32/32 [==============================] - 3s 109ms/step - loss: 2.1848 - sparse_categorical_accuracy: 0.3413 - val_loss: 1.7860 - val_sparse_categorical_accuracy: 0.4793\n",
      "Epoch 4/100\n",
      "32/32 [==============================] - 4s 121ms/step - loss: 2.0604 - sparse_categorical_accuracy: 0.3684 - val_loss: 1.6917 - val_sparse_categorical_accuracy: 0.4970\n",
      "Epoch 5/100\n",
      "32/32 [==============================] - 4s 120ms/step - loss: 1.9689 - sparse_categorical_accuracy: 0.3913 - val_loss: 1.5914 - val_sparse_categorical_accuracy: 0.5258\n",
      "Epoch 6/100\n",
      "32/32 [==============================] - 4s 118ms/step - loss: 1.9020 - sparse_categorical_accuracy: 0.4074 - val_loss: 1.5467 - val_sparse_categorical_accuracy: 0.5299\n",
      "Epoch 7/100\n",
      "32/32 [==============================] - 4s 122ms/step - loss: 1.8505 - sparse_categorical_accuracy: 0.4166 - val_loss: 1.5007 - val_sparse_categorical_accuracy: 0.5413\n",
      "Epoch 8/100\n",
      "32/32 [==============================] - 4s 127ms/step - loss: 1.7978 - sparse_categorical_accuracy: 0.4331 - val_loss: 1.4798 - val_sparse_categorical_accuracy: 0.5501\n",
      "Epoch 9/100\n",
      "32/32 [==============================] - 4s 123ms/step - loss: 1.7474 - sparse_categorical_accuracy: 0.4480 - val_loss: 1.4426 - val_sparse_categorical_accuracy: 0.5636\n",
      "Epoch 10/100\n",
      "32/32 [==============================] - 4s 118ms/step - loss: 1.7013 - sparse_categorical_accuracy: 0.4624 - val_loss: 1.3833 - val_sparse_categorical_accuracy: 0.5830\n",
      "Epoch 11/100\n",
      "32/32 [==============================] - 4s 119ms/step - loss: 1.6655 - sparse_categorical_accuracy: 0.4710 - val_loss: 1.3859 - val_sparse_categorical_accuracy: 0.5691\n",
      "Epoch 12/100\n",
      "32/32 [==============================] - 4s 118ms/step - loss: 1.6323 - sparse_categorical_accuracy: 0.4783 - val_loss: 1.3634 - val_sparse_categorical_accuracy: 0.5775\n",
      "Epoch 13/100\n",
      "32/32 [==============================] - 4s 121ms/step - loss: 1.5978 - sparse_categorical_accuracy: 0.4936 - val_loss: 1.3643 - val_sparse_categorical_accuracy: 0.5740\n",
      "Epoch 14/100\n",
      "32/32 [==============================] - 4s 118ms/step - loss: 1.5690 - sparse_categorical_accuracy: 0.5000 - val_loss: 1.3317 - val_sparse_categorical_accuracy: 0.5868\n",
      "Epoch 15/100\n",
      "32/32 [==============================] - 4s 118ms/step - loss: 1.5424 - sparse_categorical_accuracy: 0.5089 - val_loss: 1.3247 - val_sparse_categorical_accuracy: 0.5854\n",
      "Epoch 16/100\n",
      "32/32 [==============================] - 4s 118ms/step - loss: 1.5315 - sparse_categorical_accuracy: 0.5116 - val_loss: 1.3224 - val_sparse_categorical_accuracy: 0.5883\n",
      "Epoch 17/100\n",
      "32/32 [==============================] - 4s 118ms/step - loss: 1.4877 - sparse_categorical_accuracy: 0.5267 - val_loss: 1.3147 - val_sparse_categorical_accuracy: 0.5851\n",
      "Epoch 18/100\n",
      "32/32 [==============================] - 4s 117ms/step - loss: 1.4550 - sparse_categorical_accuracy: 0.5353 - val_loss: 1.3142 - val_sparse_categorical_accuracy: 0.5915\n",
      "Epoch 19/100\n",
      "32/32 [==============================] - 4s 118ms/step - loss: 1.4336 - sparse_categorical_accuracy: 0.5432 - val_loss: 1.2790 - val_sparse_categorical_accuracy: 0.5918\n",
      "Epoch 20/100\n",
      "32/32 [==============================] - 4s 125ms/step - loss: 1.3993 - sparse_categorical_accuracy: 0.5557 - val_loss: 1.2813 - val_sparse_categorical_accuracy: 0.5948\n",
      "Epoch 21/100\n",
      "32/32 [==============================] - 4s 127ms/step - loss: 1.3847 - sparse_categorical_accuracy: 0.5611 - val_loss: 1.2964 - val_sparse_categorical_accuracy: 0.5891\n",
      "Epoch 22/100\n",
      "32/32 [==============================] - 4s 121ms/step - loss: 1.3859 - sparse_categorical_accuracy: 0.5558 - val_loss: 1.2782 - val_sparse_categorical_accuracy: 0.5983\n",
      "Epoch 23/100\n",
      "32/32 [==============================] - 4s 119ms/step - loss: 1.3635 - sparse_categorical_accuracy: 0.5637 - val_loss: 1.2584 - val_sparse_categorical_accuracy: 0.6012\n",
      "Epoch 24/100\n",
      "32/32 [==============================] - 4s 118ms/step - loss: 1.3322 - sparse_categorical_accuracy: 0.5751 - val_loss: 1.2816 - val_sparse_categorical_accuracy: 0.5958\n",
      "Epoch 25/100\n",
      "32/32 [==============================] - 4s 118ms/step - loss: 1.2993 - sparse_categorical_accuracy: 0.5866 - val_loss: 1.2596 - val_sparse_categorical_accuracy: 0.6033\n",
      "Epoch 26/100\n",
      "32/32 [==============================] - 4s 118ms/step - loss: 1.2778 - sparse_categorical_accuracy: 0.5921 - val_loss: 1.2689 - val_sparse_categorical_accuracy: 0.5977\n"
     ]
    },
    {
     "data": {
      "text/plain": [
       "<keras.callbacks.History at 0x26622c723a0>"
      ]
     },
     "execution_count": 129,
     "metadata": {},
     "output_type": "execute_result"
    }
   ],
   "source": [
    "callback = tf.keras.callbacks.EarlyStopping(monitor='val_loss', patience=3)\n",
    "model.fit(X_train,y_train,epochs=100,callbacks=callback,validation_data=(X_val, y_val),validation_steps=10)"
   ]
  },
  {
   "cell_type": "code",
   "execution_count": 130,
   "id": "52f9b292",
   "metadata": {},
   "outputs": [],
   "source": [
    "y_pred = model.predict(X_test)\n",
    "y_pred_amax = y_pred.argmax(axis=2)"
   ]
  },
  {
   "cell_type": "code",
   "execution_count": 131,
   "id": "5c978735",
   "metadata": {},
   "outputs": [
    {
     "name": "stdout",
     "output_type": "stream",
     "text": [
      "15/15 - 0s - loss: 2.0031 - sparse_categorical_accuracy: 0.4022\n"
     ]
    }
   ],
   "source": [
    "test_loss, test_acc = model.evaluate(X_test,  y_test, verbose=2)"
   ]
  },
  {
   "cell_type": "code",
   "execution_count": 176,
   "id": "c6f259be",
   "metadata": {},
   "outputs": [
    {
     "data": {
      "image/png": "[encoded data removed]",
      "text/plain": [
       "<Figure size 1152x432 with 2 Axes>"
      ]
     },
     "metadata": {
      "needs_background": "light"
     },
     "output_type": "display_data"
    }
   ],
   "source": [
    "n = 20\n",
    "plt.figure(figsize=(16,6))\n",
    "plt.imshow(y_pred[n,:,:].T,cmap='Greys',interpolation='nearest', aspect='auto')\n",
    "plt.plot(y_pred_amax[n,:],'k-o',label='pred')\n",
    "plt.plot(y_test[n,:],'r.-',label='True')\n",
    "plt.colorbar()\n",
    "plt.legend()\n",
    "plt.grid()\n",
    "plt.ylabel('Sensor number [-]')\n",
    "plt.xlabel('Time step [-]')\n",
    "plt.show()"
   ]
  },
  {
   "cell_type": "code",
   "execution_count": 165,
   "id": "a001d138",
   "metadata": {},
   "outputs": [
    {
     "name": "stdout",
     "output_type": "stream",
     "text": [
      "Misclassification rate: 0.598\n",
      "Misclassification due to random guessing: 0.958\n"
     ]
    },
    {
     "data": {
      "image/png": "[encoded data removed]",
      "text/plain": [
       "<Figure size 720x720 with 1 Axes>"
      ]
     },
     "metadata": {
      "needs_background": "light"
     },
     "output_type": "display_data"
    }
   ],
   "source": [
    "y_p = y_pred_amax.reshape(-1,1)\n",
    "y_true = y_test.reshape(-1,1)\n",
    "\n",
    "cm = confusion_matrix(y_true,y_p)\n",
    "misclassification_rate = 1-np.diagonal(cm).sum()/y_true.shape[0]\n",
    "print(f'Misclassification rate: {round(misclassification_rate,3)}')\n",
    "print(f'Misclassification due to random guessing: {round(1-1/len(str_cf),3)}')\n",
    "\n",
    "plt.figure(figsize=(10,10))\n",
    "plt.imshow(cm,cmap='Blues')\n",
    "plt.xlabel('Predicted')\n",
    "plt.ylabel('True')\n",
    "plt.show()"
   ]
  },
  {
   "cell_type": "code",
   "execution_count": 167,
   "id": "4e46cb5c",
   "metadata": {},
   "outputs": [
    {
     "data": {
      "image/png": "[encoded data removed]",
      "text/plain": [
       "<Figure size 864x864 with 2 Axes>"
      ]
     },
     "metadata": {
      "needs_background": "light"
     },
     "output_type": "display_data"
    }
   ],
   "source": [
    "fig, ax = plt.subplots(2,figsize=(12,12))\n",
    "ax[0].hist(y_true,bins=24)\n",
    "ax[1].hist(y_p,bins=24)\n",
    "ax[0].set_xlabel('Sensor number')\n",
    "ax[1].set_xlabel('Sensor number')\n",
    "ax[0].set_ylabel('Counts')\n",
    "ax[1].set_ylabel('Counts')\n",
    "ax[0].set_title('True maximum strain locations')\n",
    "ax[1].set_title('Predicted maximum strain locations')\n",
    "plt.show()"
   ]
  }
 ],
 "metadata": {
  "kernelspec": {
   "display_name": "Python 3",
   "language": "python",
   "name": "python3"
  },
  "language_info": {
   "codemirror_mode": {
    "name": "ipython",
    "version": 3
   },
   "file_extension": ".py",
   "mimetype": "text/x-python",
   "name": "python",
   "nbconvert_exporter": "python",
   "pygments_lexer": "ipython3",
   "version": "3.8.5"
  }
 },
 "nbformat": 4,
 "nbformat_minor": 5
}
