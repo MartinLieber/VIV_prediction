{
 "cells": [
  {
   "cell_type": "markdown",
   "id": "199c97b1",
   "metadata": {},
   "source": [
    "# Locating maximum strain on riser by using RNN\n",
    "\n",
    "### Introduction\n",
    "This notebook presents a method to predict the location of maximum strain on a riser by using a recurrent neural network (RNN). The data used are from the NDP high mode VIV tests and as a starting point only a single test case is used here. In the test, the acceleration of the riser was measured at 8 locations in cross-flow and in-line direction. The riser strain was measured at 24 locations for cross-flow and 44 locations for in-line. The idea of this model is to use the acceleration measurements to predict which of the 24 cross-flow strain sensors will experience the maximum strain. The prediction is made for each time step and a RNN is applied since measurements close in time are assumed to be correlated."
   ]
  },
  {
   "cell_type": "code",
   "execution_count": 1,
   "id": "50560898",
   "metadata": {},
   "outputs": [],
   "source": [
    "import scipy.io\n",
    "import numpy as np\n",
    "import matplotlib.pyplot as plt\n",
    "import tensorflow as tf\n",
    "from tensorflow.keras import Sequential\n",
    "from tensorflow.keras.layers import Dense, LSTM, Embedding, TimeDistributed, Dropout, MaxPooling1D, MaxPooling2D, Conv2D, Input, Flatten\n",
    "from sklearn.model_selection import train_test_split\n",
    "from sklearn.preprocessing import StandardScaler\n",
    "from tensorflow.keras.callbacks import EarlyStopping\n",
    "from sklearn.cluster import KMeans\n",
    "from scipy.stats import kurtosis, skew\n",
    "from sklearn.metrics import confusion_matrix\n",
    "from seaborn import heatmap\n",
    "import itertools"
   ]
  },
  {
   "cell_type": "markdown",
   "id": "ddeb1b65",
   "metadata": {},
   "source": [
    "### Loading data"
   ]
  },
  {
   "cell_type": "code",
   "execution_count": 2,
   "id": "5e270910",
   "metadata": {},
   "outputs": [],
   "source": [
    "mat = scipy.io.loadmat('test2010.mat')\n",
    "chan_names = mat['chan_names']\n",
    "data = mat['data']"
   ]
  },
  {
   "cell_type": "markdown",
   "id": "99e880fc",
   "metadata": {},
   "source": [
    "### Preparation of data\n",
    "\n",
    "First the time vector is generated. The experiments were done with a sampling frequency of 1200 Hz. The initial part and the last part of the data is discarded as it is loaded in. \n",
    "\n",
    "The location of the sensors in meters are also included.\n",
    "\n",
    "The location of the maximum value of the strain is found in CF and IL for each time step.\n"
   ]
  },
  {
   "cell_type": "code",
   "execution_count": 3,
   "id": "4bca0162",
   "metadata": {},
   "outputs": [],
   "source": [
    "D = 0.027 # Riser diameter\n",
    "\n",
    "# Time parameters\n",
    "t1 = 15 # Start time\n",
    "t2 = 165 # End time\n",
    "Fs = 1200 # Sampling freq\n",
    "dt = 1/Fs # Time step\n",
    "tst = t1*Fs # Index for start\n",
    "ted = t2*Fs # Index for end\n",
    "\n",
    "# Making a time vector\n",
    "nm = data.shape[1]\n",
    "time = np.arange(0,nm-1)*dt\n",
    "time = time[tst:ted].reshape(1,-1)\n",
    "\n",
    "# Defining feature vectors and cropping them from initial/end effects \n",
    "strain_CF = data[46:70,tst:ted]\n",
    "strain_IL = data[6:46,tst:ted]\n",
    "pos_IL = data[98:106,tst:ted]\n",
    "pos_CF = data[106:114,tst:ted]\n",
    "acc_IL = data[70:78,tst:ted]\n",
    "acc_CF = data[78:86,tst:ted]\n",
    "mean_force = data[95:97,tst:ted].mean(axis=0)\n",
    "\n",
    "# Strain sensor positions\n",
    "str_il = np.array([1.143,2.555,3.084,3.224,4.155,5.759,6.030,7.664,8.216,8.609,8.889,9.703,10.285,13.676,13.772,\n",
    "                     15.393,16.452,16.547,16.891,19.997,20.193,21.393,21.603,22.460,23.165,25.153,25.442,26.254,27.532,\n",
    "                     28.698,28.863,29.365,31.191,31.415,32.796,33.005,35.549,36.559,36.824,37.322])\n",
    "str_sensor_cf = np.array([2,3,4,5,7,10,11,13,14,17,19,20,21,22,24,25,26,28,31,32,33,36,38,40])-1\n",
    "str_cf = str_il[str_sensor_cf]\n",
    "\n",
    "# Accelerometer positions\n",
    "acc_pos = np.array([4.155,8.609,13.676,16.891,21.393,25.153,28.863,33.005])\n",
    "\n",
    "# Finding indices for strain locations which will be fused \n",
    "sensor_diff_il = np.abs(np.tile(str_il,(8,1)).T - acc_pos)\n",
    "sensor_transform_index_il = np.argmin(sensor_diff_il,axis=1)\n",
    "sensor_diff_cf = np.abs(np.tile(str_cf,(8,1)).T - acc_pos)\n",
    "sensor_transform_index_cf = np.argmin(sensor_diff_cf,axis=1)\n",
    "\n",
    "# Find maximum strain locations for each time step\n",
    "max_strain_CF = strain_CF.argmax(axis=0)\n",
    "max_strain_CF_loc = str_cf[max_strain_CF]"
   ]
  },
  {
   "cell_type": "markdown",
   "id": "ce9f198d",
   "metadata": {},
   "source": [
    "### Preparing data for RNN\n",
    "\n",
    "An input tensor X, and output vector Y is made.\n",
    "\n",
    "X is scaled by a standard scaler. Y is the integer to be predicted.\n",
    "\n",
    "Data are divided into batches, where the time in each batch is conserved.\n",
    "\n",
    "Each batch is randomly put in either train, test or validation set.\n",
    "\n",
    "The time is removed from the input."
   ]
  },
  {
   "cell_type": "code",
   "execution_count": 4,
   "id": "e5da6f35",
   "metadata": {},
   "outputs": [],
   "source": [
    "X = np.vstack((time,pos_IL,pos_CF,acc_IL,acc_CF)).transpose()\n",
    "Y = np.vstack(max_strain_CF).transpose()\n",
    "scaler = StandardScaler().fit(X)\n",
    "X = scaler.transform(X)\n",
    "\n",
    "n_features = X.shape[1]\n",
    "b_size = 100\n",
    "n_outputs = Y.shape[0]\n",
    "\n",
    "n_batches = int(X.shape[0]/b_size)\n",
    "X = X.reshape(n_batches,b_size,n_features)\n",
    "Y = Y.reshape(n_batches,b_size,n_outputs)\n",
    "\n",
    "X_train, X_test, y_train, y_test = train_test_split(X, Y, test_size=0.25, random_state=42,shuffle=False)\n",
    "X_train, X_val, y_train, y_val = train_test_split(X_train, y_train, test_size=0.25, random_state=1, shuffle=False)\n",
    "\n",
    "t_train = X_train[:,:,0]\n",
    "t_val = X_val[:,:,0]\n",
    "t_test = X_test[:,:,0]\n",
    "X_train = X_train[:,:,0:-1]\n",
    "X_test = X_test[:,:,0:-1]\n",
    "X_val = X_val[:,:,0:-1]\n",
    "\n",
    "n_features = n_features-1\n",
    "n_outputs = Y.max()+1"
   ]
  },
  {
   "cell_type": "code",
   "execution_count": 5,
   "id": "17379965",
   "metadata": {},
   "outputs": [
    {
     "name": "stdout",
     "output_type": "stream",
     "text": [
      "X-shape: (batches, time steps in batch, features) = (1012, 100, 32)\n",
      "Y-shape: (batches, time steps in batch, output) = (1012, 100, 1)\n"
     ]
    }
   ],
   "source": [
    "print(f'X-shape: (batches, time steps in batch, features) = {X_train.shape}')\n",
    "print(f'Y-shape: (batches, time steps in batch, output) = {y_train.shape}')"
   ]
  },
  {
   "cell_type": "markdown",
   "id": "84b77980",
   "metadata": {},
   "source": [
    "### Building RNN model\n",
    "\n",
    "This model will use sparse_categorical_crossentropy, which means that if the true output can be $n \\in 0:N$ different integers, then the prediction will be an array of size $N+1$ where each unit indicates a probability of the index.\n"
   ]
  },
  {
   "cell_type": "code",
   "execution_count": 6,
   "id": "61975d02",
   "metadata": {},
   "outputs": [
    {
     "name": "stdout",
     "output_type": "stream",
     "text": [
      "Model: \"LSTM\"\n",
      "_________________________________________________________________\n",
      "Layer (type)                 Output Shape              Param #   \n",
      "=================================================================\n",
      "lstm (LSTM)                  (None, 100, 100)          53200     \n",
      "_________________________________________________________________\n",
      "dense (Dense)                (None, 100, 50)           5050      \n",
      "_________________________________________________________________\n",
      "dropout (Dropout)            (None, 100, 50)           0         \n",
      "_________________________________________________________________\n",
      "dense_1 (Dense)              (None, 100, 24)           1224      \n",
      "=================================================================\n",
      "Total params: 59,474\n",
      "Trainable params: 59,474\n",
      "Non-trainable params: 0\n",
      "_________________________________________________________________\n"
     ]
    }
   ],
   "source": [
    "# Classification\n",
    "model = Sequential(name='LSTM')\n",
    "model.add(LSTM(\n",
    "    units=100,\n",
    "    batch_input_shape=(None,X.shape[1],n_features),\n",
    "    return_sequences=True,\n",
    "    dropout=0.1,\n",
    "    recurrent_dropout=0.1,\n",
    "    activation='tanh'))\n",
    "model.add(Dense(50,activation='tanh'))\n",
    "model.add(Dropout(0.2))\n",
    "model.add(Dense(n_outputs, activation='softmax'))\n",
    "\n",
    "model.summary()\n",
    "model.compile(optimizer=\"Adam\", loss=\"sparse_categorical_crossentropy\", metrics=['SparseCategoricalAccuracy'])"
   ]
  },
  {
   "cell_type": "markdown",
   "id": "9c9d4e2d",
   "metadata": {},
   "source": [
    "### Training model\n",
    "\n",
    "Using an early stopping criteria.\n",
    "\n",
    "Can continue training for a max of 100 epochs.\n",
    "\n",
    "Validation data is used at each epoch."
   ]
  },
  {
   "cell_type": "code",
   "execution_count": 7,
   "id": "4b5bfd2a",
   "metadata": {},
   "outputs": [
    {
     "name": "stdout",
     "output_type": "stream",
     "text": [
      "Epoch 1/100\n",
      "32/32 [==============================] - 4s 68ms/step - loss: 2.8021 - sparse_categorical_accuracy: 0.1939 - val_loss: 2.2953 - val_sparse_categorical_accuracy: 0.3840\n",
      "Epoch 2/100\n",
      "32/32 [==============================] - 2s 57ms/step - loss: 2.2600 - sparse_categorical_accuracy: 0.3224 - val_loss: 1.9037 - val_sparse_categorical_accuracy: 0.4867\n",
      "Epoch 3/100\n",
      "32/32 [==============================] - 2s 59ms/step - loss: 2.0178 - sparse_categorical_accuracy: 0.3882 - val_loss: 1.7061 - val_sparse_categorical_accuracy: 0.4940\n",
      "Epoch 4/100\n",
      "32/32 [==============================] - 2s 59ms/step - loss: 1.8728 - sparse_categorical_accuracy: 0.4220 - val_loss: 1.6009 - val_sparse_categorical_accuracy: 0.5077\n",
      "Epoch 5/100\n",
      "32/32 [==============================] - 2s 59ms/step - loss: 1.7707 - sparse_categorical_accuracy: 0.4469 - val_loss: 1.5112 - val_sparse_categorical_accuracy: 0.5240\n",
      "Epoch 6/100\n",
      "32/32 [==============================] - 2s 72ms/step - loss: 1.6909 - sparse_categorical_accuracy: 0.4702 - val_loss: 1.4535 - val_sparse_categorical_accuracy: 0.5397\n",
      "Epoch 7/100\n",
      "32/32 [==============================] - 3s 83ms/step - loss: 1.6173 - sparse_categorical_accuracy: 0.4917 - val_loss: 1.4103 - val_sparse_categorical_accuracy: 0.5495\n",
      "Epoch 8/100\n",
      "32/32 [==============================] - 3s 86ms/step - loss: 1.5603 - sparse_categorical_accuracy: 0.5095 - val_loss: 1.3706 - val_sparse_categorical_accuracy: 0.5653\n",
      "Epoch 9/100\n",
      "32/32 [==============================] - 3s 88ms/step - loss: 1.4997 - sparse_categorical_accuracy: 0.5293 - val_loss: 1.3187 - val_sparse_categorical_accuracy: 0.5790\n",
      "Epoch 10/100\n",
      "32/32 [==============================] - 3s 95ms/step - loss: 1.4503 - sparse_categorical_accuracy: 0.5412 - val_loss: 1.3104 - val_sparse_categorical_accuracy: 0.5883\n",
      "Epoch 11/100\n",
      "32/32 [==============================] - 3s 97ms/step - loss: 1.4139 - sparse_categorical_accuracy: 0.5518 - val_loss: 1.2966 - val_sparse_categorical_accuracy: 0.5816\n",
      "Epoch 12/100\n",
      "32/32 [==============================] - 3s 99ms/step - loss: 1.3742 - sparse_categorical_accuracy: 0.5641 - val_loss: 1.2703 - val_sparse_categorical_accuracy: 0.5965\n",
      "Epoch 13/100\n",
      "32/32 [==============================] - 3s 101ms/step - loss: 1.3272 - sparse_categorical_accuracy: 0.5797 - val_loss: 1.2678 - val_sparse_categorical_accuracy: 0.5916\n",
      "Epoch 14/100\n",
      "32/32 [==============================] - 3s 98ms/step - loss: 1.2850 - sparse_categorical_accuracy: 0.5945 - val_loss: 1.2304 - val_sparse_categorical_accuracy: 0.6050\n",
      "Epoch 15/100\n",
      "32/32 [==============================] - 3s 98ms/step - loss: 1.2647 - sparse_categorical_accuracy: 0.5963 - val_loss: 1.2329 - val_sparse_categorical_accuracy: 0.6011\n",
      "Epoch 16/100\n",
      "32/32 [==============================] - 3s 97ms/step - loss: 1.2134 - sparse_categorical_accuracy: 0.6156 - val_loss: 1.2365 - val_sparse_categorical_accuracy: 0.6075\n",
      "Epoch 17/100\n",
      "32/32 [==============================] - 3s 99ms/step - loss: 1.1892 - sparse_categorical_accuracy: 0.6247 - val_loss: 1.2043 - val_sparse_categorical_accuracy: 0.6117\n",
      "Epoch 18/100\n",
      "32/32 [==============================] - 3s 96ms/step - loss: 1.1656 - sparse_categorical_accuracy: 0.6298 - val_loss: 1.2036 - val_sparse_categorical_accuracy: 0.6163\n",
      "Epoch 19/100\n",
      "32/32 [==============================] - 3s 95ms/step - loss: 1.1326 - sparse_categorical_accuracy: 0.6400 - val_loss: 1.2122 - val_sparse_categorical_accuracy: 0.6097\n",
      "Epoch 20/100\n",
      "32/32 [==============================] - 3s 98ms/step - loss: 1.1000 - sparse_categorical_accuracy: 0.6500 - val_loss: 1.1845 - val_sparse_categorical_accuracy: 0.6201\n",
      "Epoch 21/100\n",
      "32/32 [==============================] - 3s 100ms/step - loss: 1.0721 - sparse_categorical_accuracy: 0.6573 - val_loss: 1.2113 - val_sparse_categorical_accuracy: 0.6140\n",
      "Epoch 22/100\n",
      "32/32 [==============================] - 3s 100ms/step - loss: 1.0595 - sparse_categorical_accuracy: 0.6628 - val_loss: 1.1816 - val_sparse_categorical_accuracy: 0.6163\n",
      "Epoch 23/100\n",
      "32/32 [==============================] - 3s 101ms/step - loss: 1.0264 - sparse_categorical_accuracy: 0.6749 - val_loss: 1.2152 - val_sparse_categorical_accuracy: 0.6145\n",
      "Epoch 24/100\n",
      "32/32 [==============================] - 3s 102ms/step - loss: 1.0225 - sparse_categorical_accuracy: 0.6759 - val_loss: 1.1994 - val_sparse_categorical_accuracy: 0.6178\n",
      "Epoch 25/100\n",
      "32/32 [==============================] - 3s 94ms/step - loss: 0.9979 - sparse_categorical_accuracy: 0.6808 - val_loss: 1.1932 - val_sparse_categorical_accuracy: 0.6181\n"
     ]
    },
    {
     "data": {
      "text/plain": [
       "<keras.callbacks.History at 0x201109ecc10>"
      ]
     },
     "execution_count": 7,
     "metadata": {},
     "output_type": "execute_result"
    }
   ],
   "source": [
    "callback = tf.keras.callbacks.EarlyStopping(monitor='val_loss', patience=3)\n",
    "model.fit(X_train,y_train,epochs=100,callbacks=callback,validation_data=(X_val, y_val),validation_steps=10,verbose=True)"
   ]
  },
  {
   "cell_type": "code",
   "execution_count": 8,
   "id": "52f9b292",
   "metadata": {},
   "outputs": [],
   "source": [
    "y_pred = model.predict(X_test)\n",
    "y_pred_amax = y_pred.argmax(axis=2)"
   ]
  },
  {
   "cell_type": "code",
   "execution_count": 9,
   "id": "5c978735",
   "metadata": {},
   "outputs": [
    {
     "name": "stdout",
     "output_type": "stream",
     "text": [
      "15/15 - 0s - loss: 1.7868 - sparse_categorical_accuracy: 0.4580\n"
     ]
    }
   ],
   "source": [
    "test_loss, test_acc = model.evaluate(X_test,  y_test, verbose=2)"
   ]
  },
  {
   "cell_type": "code",
   "execution_count": 10,
   "id": "c6f259be",
   "metadata": {},
   "outputs": [
    {
     "data": {
      "image/png": "[encoded data removed]",
      "text/plain": [
       "<Figure size 1152x432 with 2 Axes>"
      ]
     },
     "metadata": {
      "needs_background": "light"
     },
     "output_type": "display_data"
    }
   ],
   "source": [
    "n = 4\n",
    "plt.figure(figsize=(16,6))\n",
    "plt.imshow(y_pred[n,:,:].T,cmap='Greys',interpolation='nearest', aspect='auto')\n",
    "plt.plot(y_pred_amax[n,:],'k-o',label='pred')\n",
    "plt.plot(y_test[n,:],'r.-',label='True')\n",
    "plt.colorbar()\n",
    "plt.legend()\n",
    "plt.grid()\n",
    "plt.ylabel('Sensor number [-]')\n",
    "plt.xlabel('Time step [-]')\n",
    "plt.show()"
   ]
  },
  {
   "cell_type": "code",
   "execution_count": 11,
   "id": "a001d138",
   "metadata": {},
   "outputs": [
    {
     "name": "stdout",
     "output_type": "stream",
     "text": [
      "Misclassification rate: 0.542\n",
      "Misclassification due to random guessing: 0.958\n"
     ]
    },
    {
     "data": {
      "image/png": "[encoded data removed]",
      "text/plain": [
       "<Figure size 720x720 with 1 Axes>"
      ]
     },
     "metadata": {
      "needs_background": "light"
     },
     "output_type": "display_data"
    }
   ],
   "source": [
    "y_p = y_pred_amax.reshape(-1,1)\n",
    "y_true = y_test.reshape(-1,1)\n",
    "\n",
    "cm = confusion_matrix(y_true,y_p)\n",
    "misclassification_rate = 1-np.diagonal(cm).sum()/y_true.shape[0]\n",
    "print(f'Misclassification rate: {round(misclassification_rate,3)}')\n",
    "print(f'Misclassification due to random guessing: {round(1-1/len(str_cf),3)}')\n",
    "\n",
    "plt.figure(figsize=(10,10))\n",
    "plt.imshow(cm,cmap='Blues')\n",
    "plt.xlabel('Predicted')\n",
    "plt.ylabel('True')\n",
    "plt.show()"
   ]
  },
  {
   "cell_type": "code",
   "execution_count": 12,
   "id": "4e46cb5c",
   "metadata": {},
   "outputs": [
    {
     "data": {
      "image/png": "[encoded data removed]",
      "text/plain": [
       "<Figure size 864x864 with 2 Axes>"
      ]
     },
     "metadata": {
      "needs_background": "light"
     },
     "output_type": "display_data"
    }
   ],
   "source": [
    "fig, ax = plt.subplots(2,figsize=(12,12))\n",
    "ax[0].hist(y_true,bins=24)\n",
    "ax[1].hist(y_p,bins=24)\n",
    "ax[0].set_xlabel('Sensor number')\n",
    "ax[1].set_xlabel('Sensor number')\n",
    "ax[0].set_ylabel('Counts')\n",
    "ax[1].set_ylabel('Counts')\n",
    "ax[0].set_title('True maximum strain locations')\n",
    "ax[1].set_title('Predicted maximum strain locations')\n",
    "plt.show()"
   ]
  }
 ],
 "metadata": {
  "kernelspec": {
   "display_name": "Python 3",
   "language": "python",
   "name": "python3"
  },
  "language_info": {
   "codemirror_mode": {
    "name": "ipython",
    "version": 3
   },
   "file_extension": ".py",
   "mimetype": "text/x-python",
   "name": "python",
   "nbconvert_exporter": "python",
   "pygments_lexer": "ipython3",
   "version": "3.8.5"
  }
 },
 "nbformat": 4,
 "nbformat_minor": 5
}
