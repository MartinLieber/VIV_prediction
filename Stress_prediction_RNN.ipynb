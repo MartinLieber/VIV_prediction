{
 "cells": [
  {
   "cell_type": "code",
   "execution_count": 17,
   "id": "5f5436ec",
   "metadata": {},
   "outputs": [],
   "source": [
    "import scipy.io\n",
    "import numpy as np\n",
    "import matplotlib.pyplot as plt\n",
    "import tensorflow as tf\n",
    "from tensorflow.keras import Sequential\n",
    "from tensorflow.keras.layers import Dense, LSTM, Embedding, TimeDistributed, Dropout, MaxPooling1D, MaxPooling2D, Conv2D, Input, Flatten\n",
    "from sklearn.model_selection import train_test_split\n",
    "from sklearn.preprocessing import StandardScaler\n",
    "from tensorflow.keras.callbacks import EarlyStopping\n",
    "from sklearn.cluster import KMeans\n",
    "from scipy.stats import kurtosis, skew\n",
    "from sklearn.metrics import confusion_matrix\n",
    "from seaborn import heatmap\n"
   ]
  },
  {
   "cell_type": "code",
   "execution_count": 2,
   "id": "3dd6141c",
   "metadata": {},
   "outputs": [],
   "source": [
    "def disp2vel(disp,dt):\n",
    "    vel = np.zeros(disp.shape)\n",
    "    vel[:,1:] = (disp[:,1:]-disp[:,0:-1])/dt\n",
    "    vel[:,0] = -2*vel[:,0]+vel[:,1]\n",
    "    return vel\n",
    "\n",
    "def vel2acc(vel,dt):\n",
    "    acc = np.zeros(vel.shape)\n",
    "    acc[:,1:] = (vel[:,1:]-vel[:,0:-1])/dt\n",
    "    acc[:,0] = -2*acc[:,0]+acc[:,1]\n",
    "    return acc\n",
    "\n",
    "def acc2vel(acc,dt):\n",
    "    vel = np.zeros(acc.shape)\n",
    "    for i in range(0,vel.shape[1]-1):\n",
    "        vel[:,i+1] = vel[:,i]+1/2*(acc[:,i+1]+acc[:,i])*dt\n",
    "    print(i)\n",
    "    return vel\n",
    "\n",
    "def vel2disp(vel,dt):\n",
    "    disp = np.zeros(vel.shape)\n",
    "    for i in range(1,disp.shape[1]-1):\n",
    "        disp[:,i+1] = disp[:,i]+1/2*(vel[:,i+1]+vel[:,i])*dt\n",
    "    return disp"
   ]
  },
  {
   "cell_type": "code",
   "execution_count": 3,
   "id": "5e270910",
   "metadata": {},
   "outputs": [],
   "source": [
    "mat = scipy.io.loadmat('test2010.mat')"
   ]
  },
  {
   "cell_type": "code",
   "execution_count": 4,
   "id": "d79c05e9",
   "metadata": {},
   "outputs": [],
   "source": [
    "chan_names = mat['chan_names']\n",
    "data = mat['data']\n"
   ]
  },
  {
   "cell_type": "code",
   "execution_count": 5,
   "id": "4bca0162",
   "metadata": {},
   "outputs": [
    {
     "name": "stdout",
     "output_type": "stream",
     "text": [
      "179998\n"
     ]
    }
   ],
   "source": [
    "D = 0.027\n",
    "\n",
    "t1 = 15\n",
    "t2 = 165\n",
    "Fs = 1200\n",
    "dt = 1/Fs\n",
    "tst = t1*Fs\n",
    "ted = t2*Fs\n",
    "\n",
    "nm = data.shape[1]\n",
    "time = np.arange(0,nm-1)*dt\n",
    "time = time[tst:ted].reshape(1,-1)\n",
    "\n",
    "strain_CF = data[46:70,tst:ted]\n",
    "strain_IL = data[6:46,tst:ted]\n",
    "pos_IL = data[98:106,tst:ted]\n",
    "pos_CF = data[106:114,tst:ted]\n",
    "acc_IL = data[70:78,tst:ted]\n",
    "acc_CF = data[78:86,tst:ted]\n",
    "\n",
    "# Strain sensor positions\n",
    "str_il = np.array([1.143,2.555,3.084,3.224,4.155,5.759,6.030,7.664,8.216,8.609,8.889,9.703,10.285,13.676,13.772,\n",
    "                     15.393,16.452,16.547,16.891,19.997,20.193,21.393,21.603,22.460,23.165,25.153,25.442,26.254,27.532,\n",
    "                     28.698,28.863,29.365,31.191,31.415,32.796,33.005,35.549,36.559,36.824,37.322])\n",
    "str_sensor_cf = np.array([2,3,4,5,7,10,11,13,14,17,19,20,21,22,24,25,26,28,31,32,33,36,38,40])-1\n",
    "str_cf = str_il[str_sensor_cf]\n",
    "\n",
    "# Accelerometer positions\n",
    "acc_pos = np.array([4.155,8.609,13.676,16.891,21.393,25.153,28.863,33.005])\n",
    "\n",
    "#vel_CF = disp2vel(pos_CF,dt)\n",
    "#acc_CF = vel2acc(vel_CF,dt)\n",
    "\n",
    "#vel_IL = disp2vel(pos_IL,dt)\n",
    "#acc_IL = vel2acc(vel_IL,dt)\n",
    "\n",
    "vel_CF = acc2vel(acc_CF,dt)\n",
    "disp_CF = vel2disp(vel_CF,dt)"
   ]
  },
  {
   "cell_type": "code",
   "execution_count": 6,
   "id": "8e073fdc",
   "metadata": {},
   "outputs": [],
   "source": [
    "# Finding indices for strain locations whihc will be fused \n",
    "sensor_diff_il = np.abs(np.tile(str_il,(8,1)).T - acc_pos)\n",
    "sensor_transform_index_il = np.argmin(sensor_diff_il,axis=1)\n",
    "\n",
    "sensor_diff_cf = np.abs(np.tile(str_cf,(8,1)).T - acc_pos)\n",
    "sensor_transform_index_cf = np.argmin(sensor_diff_cf,axis=1)"
   ]
  },
  {
   "cell_type": "code",
   "execution_count": 7,
   "id": "e5da6f35",
   "metadata": {},
   "outputs": [],
   "source": [
    "#X = np.vstack((time,pos_IL,pos_CF,vel_IL,vel_CF,acc_IL,acc_CF)).transpose()\n",
    "X = np.vstack((time,acc_IL,acc_CF)).transpose()\n",
    "#Y = np.vstack((strain_CF.argmax(axis=0),strain_IL.argmax(axis=0))).transpose()\n",
    "Y = np.vstack((strain_CF.argmax(axis=0))).transpose()\n",
    "scaler = StandardScaler().fit(X)\n",
    "X = scaler.transform(X)\n",
    "#Y = (Y-Y.min())/(Y.max()-Y.min())\n",
    "\n",
    "n_features = X.shape[1]\n",
    "b_size = 100\n",
    "n_outputs = Y.shape[0]\n",
    "\n",
    "n_batches = int(X.shape[0]/b_size)\n",
    "X = X.reshape(n_batches,b_size,n_features)\n",
    "Y = Y.reshape(n_batches,b_size,n_outputs)\n",
    "\n",
    "X_train, X_test, y_train, y_test = train_test_split(X, Y, test_size=0.33, random_state=42,shuffle=False)\n",
    "\n",
    "t_train = X_train[:,:,0]\n",
    "t_test = X_test[:,:,0]\n",
    "X_train = X_train[:,:,0:-1]\n",
    "X_test = X_test[:,:,0:-1]\n",
    "\n",
    "n_features = n_features-1\n",
    "n_outputs = Y.max()+1"
   ]
  },
  {
   "cell_type": "code",
   "execution_count": 22,
   "id": "61975d02",
   "metadata": {},
   "outputs": [
    {
     "name": "stdout",
     "output_type": "stream",
     "text": [
      "Model: \"LSTM\"\n",
      "_________________________________________________________________\n",
      "Layer (type)                 Output Shape              Param #   \n",
      "=================================================================\n",
      "lstm_7 (LSTM)                (None, 100, 100)          46800     \n",
      "_________________________________________________________________\n",
      "lstm_8 (LSTM)                (None, 100, 100)          80400     \n",
      "_________________________________________________________________\n",
      "dense_6 (Dense)              (None, 100, 50)           5050      \n",
      "_________________________________________________________________\n",
      "dropout_3 (Dropout)          (None, 100, 50)           0         \n",
      "_________________________________________________________________\n",
      "dense_7 (Dense)              (None, 100, 24)           1224      \n",
      "_________________________________________________________________\n",
      "max_pooling1d_2 (MaxPooling1 (None, 100, 24)           0         \n",
      "=================================================================\n",
      "Total params: 133,474\n",
      "Trainable params: 133,474\n",
      "Non-trainable params: 0\n",
      "_________________________________________________________________\n"
     ]
    }
   ],
   "source": [
    "model = Sequential(name='LSTM')\n",
    "model.add(LSTM(\n",
    "    units=100,\n",
    "    batch_input_shape=(None,X.shape[1],n_features),\n",
    "    return_sequences=True,\n",
    "    dropout=0,\n",
    "    recurrent_dropout=0))\n",
    "model.add(LSTM(\n",
    "    units=100,\n",
    "    batch_input_shape=(None,X.shape[1],n_features),\n",
    "    return_sequences=True,\n",
    "    dropout=0.1,\n",
    "    recurrent_dropout=0))\n",
    "model.add(Dense(50,activation='relu'))\n",
    "model.add(Dropout(0))\n",
    "model.add(Dense(n_outputs, activation='softmax'))\n",
    "model.add(MaxPooling1D(pool_size=1))\n",
    "\n",
    "model.summary()\n",
    "model.compile(optimizer=\"Adam\", loss=\"sparse_categorical_crossentropy\", metrics=['SparseCategoricalAccuracy'])"
   ]
  },
  {
   "cell_type": "code",
   "execution_count": 23,
   "id": "4b5bfd2a",
   "metadata": {},
   "outputs": [
    {
     "name": "stdout",
     "output_type": "stream",
     "text": [
      "Epoch 1/100\n",
      "38/38 [==============================] - 6s 67ms/step - loss: 2.8175 - sparse_categorical_accuracy: 0.1786\n",
      "Epoch 2/100\n",
      "38/38 [==============================] - 3s 67ms/step - loss: 2.2367 - sparse_categorical_accuracy: 0.3199: 0s - loss: 2.2367 - sparse_categorical_accuracy: 0.319\n",
      "Epoch 3/100\n",
      "38/38 [==============================] - 3s 75ms/step - loss: 1.9929 - sparse_categorical_accuracy: 0.3924\n",
      "Epoch 4/100\n",
      "38/38 [==============================] - 4s 98ms/step - loss: 1.8558 - sparse_categorical_accuracy: 0.4270\n",
      "Epoch 5/100\n",
      "38/38 [==============================] - 4s 101ms/step - loss: 1.7513 - sparse_categorical_accuracy: 0.4474\n",
      "Epoch 6/100\n",
      "38/38 [==============================] - 4s 105ms/step - loss: 1.6706 - sparse_categorical_accuracy: 0.4677\n",
      "Epoch 7/100\n",
      "38/38 [==============================] - 4s 111ms/step - loss: 1.5989 - sparse_categorical_accuracy: 0.4867\n",
      "Epoch 8/100\n",
      "38/38 [==============================] - 4s 117ms/step - loss: 1.5353 - sparse_categorical_accuracy: 0.5077\n",
      "Epoch 9/100\n",
      "38/38 [==============================] - 5s 121ms/step - loss: 1.4722 - sparse_categorical_accuracy: 0.5304\n",
      "Epoch 10/100\n",
      "38/38 [==============================] - 4s 115ms/step - loss: 1.4158 - sparse_categorical_accuracy: 0.5436\n",
      "Epoch 11/100\n",
      "38/38 [==============================] - 4s 115ms/step - loss: 1.3578 - sparse_categorical_accuracy: 0.5639\n",
      "Epoch 12/100\n",
      "38/38 [==============================] - 4s 115ms/step - loss: 1.3121 - sparse_categorical_accuracy: 0.5748\n",
      "Epoch 13/100\n",
      "38/38 [==============================] - 4s 114ms/step - loss: 1.2718 - sparse_categorical_accuracy: 0.5885\n",
      "Epoch 14/100\n",
      "38/38 [==============================] - 5s 121ms/step - loss: 1.2454 - sparse_categorical_accuracy: 0.5956\n",
      "Epoch 15/100\n",
      "38/38 [==============================] - 5s 124ms/step - loss: 1.1865 - sparse_categorical_accuracy: 0.6157\n",
      "Epoch 16/100\n",
      "38/38 [==============================] - 5s 144ms/step - loss: 1.1201 - sparse_categorical_accuracy: 0.6400\n",
      "Epoch 17/100\n",
      "38/38 [==============================] - 5s 120ms/step - loss: 1.0852 - sparse_categorical_accuracy: 0.6496\n",
      "Epoch 18/100\n",
      "38/38 [==============================] - 5s 122ms/step - loss: 1.0512 - sparse_categorical_accuracy: 0.6596\n",
      "Epoch 19/100\n",
      "38/38 [==============================] - 5s 133ms/step - loss: 1.0241 - sparse_categorical_accuracy: 0.6704\n",
      "Epoch 20/100\n",
      "38/38 [==============================] - 5s 125ms/step - loss: 0.9685 - sparse_categorical_accuracy: 0.6899\n",
      "Epoch 21/100\n",
      "38/38 [==============================] - 4s 117ms/step - loss: 0.9422 - sparse_categorical_accuracy: 0.6985\n",
      "Epoch 22/100\n",
      "38/38 [==============================] - 4s 117ms/step - loss: 0.9244 - sparse_categorical_accuracy: 0.7011\n",
      "Epoch 23/100\n",
      "38/38 [==============================] - 4s 117ms/step - loss: 0.9123 - sparse_categorical_accuracy: 0.7053\n",
      "Epoch 24/100\n",
      "38/38 [==============================] - 5s 119ms/step - loss: 0.8871 - sparse_categorical_accuracy: 0.7152\n",
      "Epoch 25/100\n",
      "38/38 [==============================] - 5s 120ms/step - loss: 0.8441 - sparse_categorical_accuracy: 0.7298\n",
      "Epoch 26/100\n",
      "38/38 [==============================] - 4s 118ms/step - loss: 0.7966 - sparse_categorical_accuracy: 0.7437\n",
      "Epoch 27/100\n",
      "38/38 [==============================] - 5s 133ms/step - loss: 0.7621 - sparse_categorical_accuracy: 0.7567\n",
      "Epoch 28/100\n",
      "38/38 [==============================] - 5s 130ms/step - loss: 0.7481 - sparse_categorical_accuracy: 0.7633\n",
      "Epoch 29/100\n",
      "38/38 [==============================] - 5s 127ms/step - loss: 0.7203 - sparse_categorical_accuracy: 0.7706\n",
      "Epoch 30/100\n",
      "38/38 [==============================] - 5s 120ms/step - loss: 0.6967 - sparse_categorical_accuracy: 0.7794\n",
      "Epoch 31/100\n",
      "38/38 [==============================] - 5s 121ms/step - loss: 0.6996 - sparse_categorical_accuracy: 0.7763\n",
      "Epoch 32/100\n",
      "38/38 [==============================] - 4s 118ms/step - loss: 0.6615 - sparse_categorical_accuracy: 0.7905\n",
      "Epoch 33/100\n",
      "38/38 [==============================] - 5s 121ms/step - loss: 0.6255 - sparse_categorical_accuracy: 0.8017\n",
      "Epoch 34/100\n",
      "38/38 [==============================] - 4s 118ms/step - loss: 0.5964 - sparse_categorical_accuracy: 0.8102\n",
      "Epoch 35/100\n",
      "38/38 [==============================] - 4s 117ms/step - loss: 0.5947 - sparse_categorical_accuracy: 0.8108\n",
      "Epoch 36/100\n",
      "38/38 [==============================] - 4s 117ms/step - loss: 0.5685 - sparse_categorical_accuracy: 0.8215\n",
      "Epoch 37/100\n",
      "38/38 [==============================] - 4s 118ms/step - loss: 0.5443 - sparse_categorical_accuracy: 0.8276\n",
      "Epoch 38/100\n",
      "38/38 [==============================] - 5s 118ms/step - loss: 0.5246 - sparse_categorical_accuracy: 0.8351\n",
      "Epoch 39/100\n",
      "38/38 [==============================] - 4s 118ms/step - loss: 0.5322 - sparse_categorical_accuracy: 0.8310\n",
      "Epoch 40/100\n",
      "38/38 [==============================] - 4s 117ms/step - loss: 0.5253 - sparse_categorical_accuracy: 0.8329\n",
      "Epoch 41/100\n",
      "38/38 [==============================] - 4s 117ms/step - loss: 0.5175 - sparse_categorical_accuracy: 0.8352\n",
      "Epoch 42/100\n",
      "38/38 [==============================] - 5s 120ms/step - loss: 0.5236 - sparse_categorical_accuracy: 0.8326\n",
      "Epoch 43/100\n",
      "38/38 [==============================] - 4s 118ms/step - loss: 0.4862 - sparse_categorical_accuracy: 0.8451\n",
      "Epoch 44/100\n",
      "38/38 [==============================] - 4s 117ms/step - loss: 0.4796 - sparse_categorical_accuracy: 0.8476\n",
      "Epoch 45/100\n",
      "38/38 [==============================] - 5s 126ms/step - loss: 0.4530 - sparse_categorical_accuracy: 0.8562\n",
      "Epoch 46/100\n",
      "38/38 [==============================] - 5s 126ms/step - loss: 0.4265 - sparse_categorical_accuracy: 0.8652\n",
      "Epoch 47/100\n",
      "38/38 [==============================] - 5s 119ms/step - loss: 0.4206 - sparse_categorical_accuracy: 0.8672\n",
      "Epoch 48/100\n",
      "38/38 [==============================] - 4s 118ms/step - loss: 0.4230 - sparse_categorical_accuracy: 0.8645\n",
      "Epoch 49/100\n",
      "38/38 [==============================] - 4s 118ms/step - loss: 0.4052 - sparse_categorical_accuracy: 0.8718\n",
      "Epoch 50/100\n",
      "38/38 [==============================] - 4s 117ms/step - loss: 0.4037 - sparse_categorical_accuracy: 0.8712\n",
      "Epoch 51/100\n",
      "38/38 [==============================] - 4s 117ms/step - loss: 0.4039 - sparse_categorical_accuracy: 0.8710\n",
      "Epoch 52/100\n",
      "38/38 [==============================] - 5s 119ms/step - loss: 0.4354 - sparse_categorical_accuracy: 0.8605\n",
      "Epoch 53/100\n",
      "38/38 [==============================] - 4s 117ms/step - loss: 0.4887 - sparse_categorical_accuracy: 0.8394\n"
     ]
    },
    {
     "data": {
      "text/plain": [
       "<keras.callbacks.History at 0x286827d86a0>"
      ]
     },
     "execution_count": 23,
     "metadata": {},
     "output_type": "execute_result"
    }
   ],
   "source": [
    "callback = tf.keras.callbacks.EarlyStopping(monitor='loss', patience=3)\n",
    "model.fit(X_train,y_train,epochs=100,callbacks=callback)"
   ]
  },
  {
   "cell_type": "code",
   "execution_count": 11,
   "id": "9d695da7",
   "metadata": {},
   "outputs": [
    {
     "name": "stderr",
     "output_type": "stream",
     "text": [
      "WARNING:absl:Found untraced functions such as lstm_cell_1_layer_call_and_return_conditional_losses, lstm_cell_1_layer_call_fn, lstm_cell_2_layer_call_and_return_conditional_losses, lstm_cell_2_layer_call_fn, lstm_cell_1_layer_call_fn while saving (showing 5 of 10). These functions will not be directly callable after loading.\n"
     ]
    },
    {
     "name": "stdout",
     "output_type": "stream",
     "text": [
      "INFO:tensorflow:Assets written to: RNN_01\\assets\n"
     ]
    },
    {
     "name": "stderr",
     "output_type": "stream",
     "text": [
      "INFO:tensorflow:Assets written to: RNN_01\\assets\n"
     ]
    }
   ],
   "source": [
    "model.save('RNN_01')"
   ]
  },
  {
   "cell_type": "code",
   "execution_count": 24,
   "id": "52f9b292",
   "metadata": {},
   "outputs": [],
   "source": [
    "y_pred = model.predict(X_test)\n",
    "y_pred=y_pred.argmax(axis=2)"
   ]
  },
  {
   "cell_type": "code",
   "execution_count": 43,
   "id": "51ba7f26",
   "metadata": {},
   "outputs": [
    {
     "data": {
      "text/plain": [
       "8"
      ]
     },
     "execution_count": 43,
     "metadata": {},
     "output_type": "execute_result"
    }
   ],
   "source": [
    "y_pred[0,0]"
   ]
  },
  {
   "cell_type": "code",
   "execution_count": 56,
   "id": "2315a76c",
   "metadata": {},
   "outputs": [
    {
     "data": {
      "image/png": "[encoded data removed]",
      "text/plain": [
       "<Figure size 864x576 with 1 Axes>"
      ]
     },
     "metadata": {
      "needs_background": "light"
     },
     "output_type": "display_data"
    }
   ],
   "source": [
    "n = 3\n",
    "plt.figure(figsize=(12,8))\n",
    "plt.plot(y_test[n,:],'ko-',label='True')\n",
    "plt.plot(y_pred[n,:],'r.-',label='Prediction')\n",
    "\n",
    "plt.legend()\n",
    "plt.grid()\n",
    "plt.ylim([-1,24])\n",
    "plt.ylabel('Sensor number [-]')\n",
    "plt.xlabel('Time step [-]')\n",
    "plt.show()"
   ]
  },
  {
   "cell_type": "code",
   "execution_count": 57,
   "id": "a001d138",
   "metadata": {},
   "outputs": [
    {
     "name": "stdout",
     "output_type": "stream",
     "text": [
      "0.5678451178451178\n"
     ]
    },
    {
     "data": {
      "image/png": "[encoded data removed]",
      "text/plain": [
       "<Figure size 864x864 with 1 Axes>"
      ]
     },
     "metadata": {
      "needs_background": "light"
     },
     "output_type": "display_data"
    }
   ],
   "source": [
    "from sklearn.metrics import confusion_matrix\n",
    "\n",
    "y_p = y_pred.reshape(-1,1)\n",
    "y_true = y_test.reshape(-1,1)\n",
    "\n",
    "cm = confusion_matrix(y_true,y_p)\n",
    "misclassification_rate = 1-np.diagonal(cm).sum()/y_true.shape[0]\n",
    "print(misclassification_rate)\n",
    "\n",
    "from seaborn import heatmap\n",
    "\n",
    "plt.figure(figsize=(12,12))\n",
    "plt.imshow(cm)\n",
    "plt.show()"
   ]
  },
  {
   "cell_type": "code",
   "execution_count": 16,
   "id": "d3512a1f",
   "metadata": {},
   "outputs": [
    {
     "ename": "ValueError",
     "evalue": "plot_confusion_matrix only supports classifiers",
     "output_type": "error",
     "traceback": [
      "\u001b[1;31m---------------------------------------------------------------------------\u001b[0m",
      "\u001b[1;31mValueError\u001b[0m                                Traceback (most recent call last)",
      "\u001b[1;32m<ipython-input-16-954b7cef951a>\u001b[0m in \u001b[0;36m<module>\u001b[1;34m\u001b[0m\n\u001b[0;32m      1\u001b[0m \u001b[1;32mfrom\u001b[0m \u001b[0msklearn\u001b[0m\u001b[1;33m.\u001b[0m\u001b[0mmetrics\u001b[0m \u001b[1;32mimport\u001b[0m \u001b[0mplot_confusion_matrix\u001b[0m\u001b[1;33m\u001b[0m\u001b[1;33m\u001b[0m\u001b[0m\n\u001b[1;32m----> 2\u001b[1;33m \u001b[0mplot_confusion_matrix\u001b[0m\u001b[1;33m(\u001b[0m\u001b[0mmodel\u001b[0m\u001b[1;33m,\u001b[0m\u001b[0mX_test\u001b[0m\u001b[1;33m,\u001b[0m\u001b[0my_pred\u001b[0m\u001b[1;33m)\u001b[0m\u001b[1;33m\u001b[0m\u001b[1;33m\u001b[0m\u001b[0m\n\u001b[0m",
      "\u001b[1;32m~\\Anaconda3\\lib\\site-packages\\sklearn\\utils\\validation.py\u001b[0m in \u001b[0;36minner_f\u001b[1;34m(*args, **kwargs)\u001b[0m\n\u001b[0;32m     61\u001b[0m             \u001b[0mextra_args\u001b[0m \u001b[1;33m=\u001b[0m \u001b[0mlen\u001b[0m\u001b[1;33m(\u001b[0m\u001b[0margs\u001b[0m\u001b[1;33m)\u001b[0m \u001b[1;33m-\u001b[0m \u001b[0mlen\u001b[0m\u001b[1;33m(\u001b[0m\u001b[0mall_args\u001b[0m\u001b[1;33m)\u001b[0m\u001b[1;33m\u001b[0m\u001b[1;33m\u001b[0m\u001b[0m\n\u001b[0;32m     62\u001b[0m             \u001b[1;32mif\u001b[0m \u001b[0mextra_args\u001b[0m \u001b[1;33m<=\u001b[0m \u001b[1;36m0\u001b[0m\u001b[1;33m:\u001b[0m\u001b[1;33m\u001b[0m\u001b[1;33m\u001b[0m\u001b[0m\n\u001b[1;32m---> 63\u001b[1;33m                 \u001b[1;32mreturn\u001b[0m \u001b[0mf\u001b[0m\u001b[1;33m(\u001b[0m\u001b[1;33m*\u001b[0m\u001b[0margs\u001b[0m\u001b[1;33m,\u001b[0m \u001b[1;33m**\u001b[0m\u001b[0mkwargs\u001b[0m\u001b[1;33m)\u001b[0m\u001b[1;33m\u001b[0m\u001b[1;33m\u001b[0m\u001b[0m\n\u001b[0m\u001b[0;32m     64\u001b[0m \u001b[1;33m\u001b[0m\u001b[0m\n\u001b[0;32m     65\u001b[0m             \u001b[1;31m# extra_args > 0\u001b[0m\u001b[1;33m\u001b[0m\u001b[1;33m\u001b[0m\u001b[1;33m\u001b[0m\u001b[0m\n",
      "\u001b[1;32m~\\Anaconda3\\lib\\site-packages\\sklearn\\metrics\\_plot\\confusion_matrix.py\u001b[0m in \u001b[0;36mplot_confusion_matrix\u001b[1;34m(estimator, X, y_true, labels, sample_weight, normalize, display_labels, include_values, xticks_rotation, values_format, cmap, ax, colorbar)\u001b[0m\n\u001b[0;32m    259\u001b[0m \u001b[1;33m\u001b[0m\u001b[0m\n\u001b[0;32m    260\u001b[0m     \u001b[1;32mif\u001b[0m \u001b[1;32mnot\u001b[0m \u001b[0mis_classifier\u001b[0m\u001b[1;33m(\u001b[0m\u001b[0mestimator\u001b[0m\u001b[1;33m)\u001b[0m\u001b[1;33m:\u001b[0m\u001b[1;33m\u001b[0m\u001b[1;33m\u001b[0m\u001b[0m\n\u001b[1;32m--> 261\u001b[1;33m         \u001b[1;32mraise\u001b[0m \u001b[0mValueError\u001b[0m\u001b[1;33m(\u001b[0m\u001b[1;34m\"plot_confusion_matrix only supports classifiers\"\u001b[0m\u001b[1;33m)\u001b[0m\u001b[1;33m\u001b[0m\u001b[1;33m\u001b[0m\u001b[0m\n\u001b[0m\u001b[0;32m    262\u001b[0m \u001b[1;33m\u001b[0m\u001b[0m\n\u001b[0;32m    263\u001b[0m     \u001b[0my_pred\u001b[0m \u001b[1;33m=\u001b[0m \u001b[0mestimator\u001b[0m\u001b[1;33m.\u001b[0m\u001b[0mpredict\u001b[0m\u001b[1;33m(\u001b[0m\u001b[0mX\u001b[0m\u001b[1;33m)\u001b[0m\u001b[1;33m\u001b[0m\u001b[1;33m\u001b[0m\u001b[0m\n",
      "\u001b[1;31mValueError\u001b[0m: plot_confusion_matrix only supports classifiers"
     ]
    }
   ],
   "source": [
    "from sklearn.metrics import plot_confusion_matrix\n",
    "plot_confusion_matrix(model,X_test,y_pred)"
   ]
  },
  {
   "cell_type": "code",
   "execution_count": 15,
   "id": "4e46cb5c",
   "metadata": {},
   "outputs": [
    {
     "data": {
      "image/png": "[encoded data removed]",
      "text/plain": [
       "<Figure size 864x864 with 2 Axes>"
      ]
     },
     "metadata": {
      "needs_background": "light"
     },
     "output_type": "display_data"
    }
   ],
   "source": [
    "fig, ax = plt.subplots(2,figsize=(12,12))\n",
    "ax[0].hist(y_true,bins=24)\n",
    "ax[1].hist(y_p,bins=24)\n",
    "ax[1].set_xlabel('Sensor number')\n",
    "ax[0].set_ylabel('Counts')\n",
    "ax[1].set_ylabel('Counts')\n",
    "ax[0].set_title('True maximum strain locations')\n",
    "ax[1].set_title('Predicted maximum strain locations')\n",
    "plt.show()"
   ]
  }
 ],
 "metadata": {
  "kernelspec": {
   "display_name": "Python 3",
   "language": "python",
   "name": "python3"
  },
  "language_info": {
   "codemirror_mode": {
    "name": "ipython",
    "version": 3
   },
   "file_extension": ".py",
   "mimetype": "text/x-python",
   "name": "python",
   "nbconvert_exporter": "python",
   "pygments_lexer": "ipython3",
   "version": "3.8.5"
  }
 },
 "nbformat": 4,
 "nbformat_minor": 5
}
